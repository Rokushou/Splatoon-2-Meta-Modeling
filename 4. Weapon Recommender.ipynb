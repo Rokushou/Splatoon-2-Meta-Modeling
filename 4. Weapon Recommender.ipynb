{
 "cells": [
  {
   "cell_type": "code",
   "execution_count": 1,
   "metadata": {},
   "outputs": [
    {
     "name": "stdout",
     "output_type": "stream",
     "text": [
      " _________________________________________ \r\n",
      "/ Carperpetuation (kar' pur pet u a       \\\r\n",
      "| shun), n.:                              |\r\n",
      "|                                         |\r\n",
      "| The act, when vacuuming, of running     |\r\n",
      "| over a string at least a                |\r\n",
      "|                                         |\r\n",
      "| dozen times, reaching over and picking  |\r\n",
      "| it up, examining it, then               |\r\n",
      "|                                         |\r\n",
      "| putting it back down to give the vacuum |\r\n",
      "| one more chance.                        |\r\n",
      "|                                         |\r\n",
      "\\ -- Rich Hall, \"Sniglets\"                /\r\n",
      " ----------------------------------------- \r\n",
      "      \\                    / \\  //\\\r\n",
      "       \\    |\\___/|      /   \\//  \\\\\r\n",
      "            /0  0  \\__  /    //  | \\ \\    \r\n",
      "           /     /  \\/_/    //   |  \\  \\  \r\n",
      "           @_^_@'/   \\/_   //    |   \\   \\ \r\n",
      "           //_^_/     \\/_ //     |    \\    \\\r\n",
      "        ( //) |        \\///      |     \\     \\\r\n",
      "      ( / /) _|_ /   )  //       |      \\     _\\\r\n",
      "    ( // /) '/,_ _ _/  ( ; -.    |    _ _\\.-~        .-~~~^-.\r\n",
      "  (( / / )) ,-{        _      `-.|.-~-.           .~         `.\r\n",
      " (( // / ))  '/\\      /                 ~-. _ .-~      .-~^-.  \\\r\n",
      " (( /// ))      `.   {            }                   /      \\  \\\r\n",
      "  (( / ))     .----~-.\\        \\-'                 .~         \\  `. \\^-.\r\n",
      "             ///.----..>        \\             _ -~             `.  ^-`  ^-_\r\n",
      "               ///-._ _ _ _ _ _ _}^ - - - - ~                     ~-- ,.-~\r\n",
      "                                                                  /.-~\r\n"
     ]
    }
   ],
   "source": [
    "# %load src/header.py\n",
    "'''LOAD'''\n",
    "#%load /Users/rokushou/Desktop/header.py\n",
    "'''GENERAL'''\n",
    "import os\n",
    "#import time\n",
    "#import timeit\n",
    "#import warnings\n",
    "#warnings.simplefilter('ignore')\n",
    "#import glob\n",
    "#import random\n",
    "#import collections\n",
    "import secrets\n",
    "import math\n",
    "import itertools\n",
    "import pickle\n",
    "'''DATA'''\n",
    "import numpy as np\n",
    "import pandas as pd\n",
    "import pandas_profiling\n",
    "#import databricks.koalas as ks\n",
    "'''DATABASES'''\n",
    "#from pymongo import MongoClient\n",
    "from pyspark.sql import SparkSession\n",
    "'''PLOT'''\n",
    "import matplotlib.pyplot as plt\n",
    "plt.style.use('seaborn-pastel')\n",
    "font = {'size':16}\n",
    "#import seaborn as sns\n",
    "'''SCIPY/STATS'''\n",
    "#import scipy.stats as scs\n",
    "#from scipy.optimize import nnls\n",
    "#import statsmodels.api as sm\n",
    "#import pymc3 as pm\n",
    "'''SCIKIT LEARN'''\n",
    "#from sklearn.datasets import make_classification, load_iris, load_boston, load_digits\n",
    "#from sklearn.pipeline import Pipeline\n",
    "#from sklearn.preprocessing import PolynomialFeatures, StandardScaler\n",
    "#from sklearn.model_selection import train_test_split, KFold, ShuffleSplit, cross_val_score, GridSearchCV, cross_val_predict\n",
    "#from sklearn.metrics import confusion_matrix, accuracy_score, precision_score, recall_score, r2_score, mean_squared_error, classification_report, make_scorer\n",
    "#from sklearn.neighbors import KNeighborsClassifier, KNeighborsRegressor\n",
    "#from sklearn.linear_model import LinearRegression, LogisticRegression\n",
    "#from sklearn.tree import DecisionTreeClassifier, DecisionTreeRegressor\n",
    "#from sklearn.ensemble import RandomForestClassifier, RandomForestRegressor, GradientBoostingRegressor, GradientBoostingClassifier, AdaBoostRegressor, AdaBoostClassifier\n",
    "#from sklearn.decomposition import PCA, NMF\n",
    "#from sklearn.cluster import KMeans\n",
    "#from sklearn.feature_extraction.text import CountVectorizer, TfidfVectorizer\n",
    "#import skimage\n",
    "'''TENSORFLOW'''\n",
    "#import tensorflow as tf\n",
    "'''NLTK'''\n",
    "#import nltk\n",
    "#import unicodedata\n",
    "#import string\n",
    "#from nltk.corpus import stopwords\n",
    "#from nltk.tokenize import sent_tokenize, word_tokenize\n",
    "#from nltk.stem.porter import PorterStemmer\n",
    "#from nltk.stem.snowball import SnowballStemmer\n",
    "#from nltk.stem.wordnet import WordNetLemmatizer\n",
    "'''NETWORK'''\n",
    "#import networkx as nx\n",
    "#import nxpd\n",
    "#import community as comm\n",
    "'''FUNCTIONS'''\n",
    "nrange = lambda x : itertools.repeat(None, x)\n",
    "def argmaxEX(a, n=1, reverse=False):\n",
    "    '''\n",
    "    Similar to argmax but returns the indices of the n highest values from array a.\n",
    "    Uses argpartition for efficiency.\n",
    "\n",
    "    Inputs\n",
    "        a (array): 1 dimensional numpy array\n",
    "        n (int): the number of indices to return\n",
    "        reverse (bool): return indices of lowest values instead, becomes argminEX\n",
    "\n",
    "    Output\n",
    "        list: list of indices\n",
    "    '''\n",
    "    import numpy as np\n",
    "    if not reverse:\n",
    "        a = -a\n",
    "    if a.shape[0] < n*np.log10(n)/(n-1):\n",
    "        return np.argpartition(a, range(n))[:n]\n",
    "    sort = np.argpartition(a, n)[:n]\n",
    "    return sort[np.argsort(a[sort])]\n",
    "'''PALETTE'''\n",
    "t = secrets.token_hex(8)\n",
    "qan = {t:'#8DE5A1'} # GN green\n",
    "twi = '#DCB8E7' # Pale, light grayish mulberry\n",
    "twi_blu = '#273873' # Dark sapphire blue\n",
    "twi_pur = '#662D8A' # Moderate purple\n",
    "twi_pnk = '#ED438D' # Brilliant raspberry\n",
    "'''SIGNATURE'''\n",
    "!fortune | cowsay -f dragon\n",
    "#os.system('fortune | cowsay -f dragon')\n",
    "\n",
    "from src.recommender import ItemRecommender"
   ]
  },
  {
   "cell_type": "markdown",
   "metadata": {},
   "source": [
    "## Narrowing the scope\n",
    "In order to create the ranking system for my recommeder I need to use aggregate data from only the most relavant matches.\n",
    "\n",
    "I can actually use the data I previously cleaned for my failed modeling with metadata section."
   ]
  },
  {
   "cell_type": "code",
   "execution_count": 2,
   "metadata": {},
   "outputs": [
    {
     "name": "stdout",
     "output_type": "stream",
     "text": [
      "<class 'pandas.core.frame.DataFrame'>\n",
      "Int64Index: 13092121 entries, 0 to 15623\n",
      "Data columns (total 10 columns):\n",
      "match         int64\n",
      "game-ver      object\n",
      "lobby-mode    object\n",
      "lobby         object\n",
      "mode          object\n",
      "stage         object\n",
      "weapon        object\n",
      "rank          object\n",
      "level         float64\n",
      "win           bool\n",
      "dtypes: bool(1), float64(1), int64(1), object(7)\n",
      "memory usage: 1011.3+ MB\n"
     ]
    }
   ],
   "source": [
    "df = pd.read_pickle('data/by_player_clean.pkl')\n",
    "df.info()"
   ]
  },
  {
   "cell_type": "markdown",
   "metadata": {},
   "source": [
    "### Narrowing by game version\n",
    "\n",
    "Each new patch brings with it a slew of balance patches which changes weapon performance. I want only the most recent data but also over a long enough period that spikes are evened out."
   ]
  },
  {
   "cell_type": "code",
   "execution_count": 3,
   "metadata": {},
   "outputs": [
    {
     "data": {
      "image/png": "[encoded data removed]",
      "text/plain": [
       "<Figure size 1152x576 with 1 Axes>"
      ]
     },
     "metadata": {
      "needs_background": "light"
     },
     "output_type": "display_data"
    }
   ],
   "source": [
    "# look at how many entries from each game version (patch)\n",
    "ver_count = df['game-ver'].value_counts(sort=False).sort_index()\n",
    "plt.figure(figsize=(16, 8))\n",
    "plt.bar(ver_count.index, ver_count);"
   ]
  },
  {
   "cell_type": "markdown",
   "metadata": {},
   "source": [
    "I chose the cutoff at 4.0.0 (September 14 2018) due to domain knowledge of the game's workings. It also provides a good sample size that reaches back close to a year. "
   ]
  },
  {
   "cell_type": "code",
   "execution_count": 4,
   "metadata": {},
   "outputs": [
    {
     "data": {
      "text/plain": [
       "['4.9.1',\n",
       " '4.9.0',\n",
       " '4.8.0',\n",
       " '4.7.0',\n",
       " '4.6.1',\n",
       " '4.6.0',\n",
       " '4.5.1',\n",
       " '4.5.0',\n",
       " '4.4.0',\n",
       " '4.3.1',\n",
       " '4.3.0',\n",
       " '4.2.0',\n",
       " '4.1.0',\n",
       " '4.0.0']"
      ]
     },
     "execution_count": 4,
     "metadata": {},
     "output_type": "execute_result"
    }
   ],
   "source": [
    "# select only the verions I want\n",
    "versions = sorted(df['game-ver'].unique().tolist(), reverse=True)\n",
    "versions[:14]"
   ]
  },
  {
   "cell_type": "code",
   "execution_count": 5,
   "metadata": {},
   "outputs": [
    {
     "data": {
      "text/plain": [
       "4.0.0    434672\n",
       "4.1.0    626203\n",
       "4.2.0    460680\n",
       "4.3.0    193891\n",
       "4.3.1    582665\n",
       "4.4.0    573742\n",
       "4.5.0     51881\n",
       "4.5.1    297644\n",
       "4.6.0    130145\n",
       "4.6.1    169895\n",
       "4.7.0    527219\n",
       "4.8.0    416206\n",
       "4.9.0    290898\n",
       "4.9.1      4267\n",
       "Name: game-ver, dtype: int64"
      ]
     },
     "execution_count": 5,
     "metadata": {},
     "output_type": "execute_result"
    }
   ],
   "source": [
    "# index by above versions\n",
    "df = df[df['game-ver'].isin(versions[:14])]\n",
    "# check results\n",
    "df['game-ver'].value_counts(sort=False).sort_index()"
   ]
  },
  {
   "cell_type": "markdown",
   "metadata": {},
   "source": [
    "### Narrowing by rank\n",
    "\n",
    "In order to assure my recommender properly judges weapon performance, I want to use data from only high-level play and prevent new or casual players from skewing the results."
   ]
  },
  {
   "cell_type": "code",
   "execution_count": 6,
   "metadata": {},
   "outputs": [
    {
     "data": {
      "image/png": "[encoded data removed]",
      "text/plain": [
       "<Figure size 1152x576 with 1 Axes>"
      ]
     },
     "metadata": {
      "needs_background": "light"
     },
     "output_type": "display_data"
    }
   ],
   "source": [
    "# look at how many entries from each rank\n",
    "rank_count = df['rank'].value_counts(sort=False).sort_index()\n",
    "plt.figure(figsize=(16, 8))\n",
    "plt.bar(rank_count.index, rank_count);"
   ]
  },
  {
   "cell_type": "markdown",
   "metadata": {},
   "source": [
    "Fortunately, most of the entries are from rank S and above, which is aproximately the top 10% of players. I also want to keep the NAs because those are from Turf War mode which is unranked."
   ]
  },
  {
   "cell_type": "code",
   "execution_count": 7,
   "metadata": {},
   "outputs": [
    {
     "data": {
      "text/plain": [
       "NaN    1642587\n",
       "x      1186427\n",
       "s+      993502\n",
       "b+       58416\n",
       "a       133655\n",
       "c         6409\n",
       "c-       15144\n",
       "a-      121078\n",
       "a+      170684\n",
       "s       325091\n",
       "b        46466\n",
       "c+        9700\n",
       "b-       50849\n",
       "Name: rank, dtype: int64"
      ]
     },
     "execution_count": 7,
     "metadata": {},
     "output_type": "execute_result"
    }
   ],
   "source": [
    "df['rank'].value_counts(sort=False, dropna=False)"
   ]
  },
  {
   "cell_type": "code",
   "execution_count": 8,
   "metadata": {},
   "outputs": [
    {
     "data": {
      "text/plain": [
       "['s+', 's', 'x']"
      ]
     },
     "execution_count": 8,
     "metadata": {},
     "output_type": "execute_result"
    }
   ],
   "source": [
    "# select only the ranks I want\n",
    "ranks = df['rank'].unique().tolist()\n",
    "ranks[:3]"
   ]
  },
  {
   "cell_type": "code",
   "execution_count": 9,
   "metadata": {},
   "outputs": [
    {
     "data": {
      "text/plain": [
       "x     1186427\n",
       "s+     993502\n",
       "s      325091\n",
       "Name: rank, dtype: int64"
      ]
     },
     "execution_count": 9,
     "metadata": {},
     "output_type": "execute_result"
    }
   ],
   "source": [
    "# index by selected ranks\n",
    "df = df[df['rank'].isin(ranks[:3]) | (df['rank'].isnull())]\n",
    "df['rank'].value_counts(sort=False)"
   ]
  },
  {
   "cell_type": "code",
   "execution_count": 10,
   "metadata": {},
   "outputs": [
    {
     "data": {
      "text/plain": [
       "match               0\n",
       "game-ver            0\n",
       "lobby-mode          0\n",
       "lobby               0\n",
       "mode                0\n",
       "stage               0\n",
       "weapon              0\n",
       "rank          1642587\n",
       "level               0\n",
       "win                 0\n",
       "dtype: int64"
      ]
     },
     "execution_count": 10,
     "metadata": {},
     "output_type": "execute_result"
    }
   ],
   "source": [
    "# check if NAs were preserved\n",
    "np.sum(df.isnull())"
   ]
  },
  {
   "cell_type": "markdown",
   "metadata": {},
   "source": [
    "## Aggregation\n",
    "\n",
    "Since I will be doing an item to item recommender, I need to aggregate data for each of the weapons (items).\n",
    "\n",
    "I want to split by mode first since weapons perform dfferently in each mode."
   ]
  },
  {
   "cell_type": "code",
   "execution_count": 11,
   "metadata": {},
   "outputs": [
    {
     "data": {
      "text/html": [
       "<div>\n",
       "<style scoped>\n",
       "    .dataframe tbody tr th:only-of-type {\n",
       "        vertical-align: middle;\n",
       "    }\n",
       "\n",
       "    .dataframe tbody tr th {\n",
       "        vertical-align: top;\n",
       "    }\n",
       "\n",
       "    .dataframe thead th {\n",
       "        text-align: right;\n",
       "    }\n",
       "</style>\n",
       "<table border=\"1\" class=\"dataframe\">\n",
       "  <thead>\n",
       "    <tr style=\"text-align: right;\">\n",
       "      <th></th>\n",
       "      <th>match</th>\n",
       "      <th>game-ver</th>\n",
       "      <th>lobby-mode</th>\n",
       "      <th>lobby</th>\n",
       "      <th>stage</th>\n",
       "      <th>weapon</th>\n",
       "      <th>rank</th>\n",
       "      <th>level</th>\n",
       "      <th>win</th>\n",
       "    </tr>\n",
       "    <tr>\n",
       "      <th>mode</th>\n",
       "      <th></th>\n",
       "      <th></th>\n",
       "      <th></th>\n",
       "      <th></th>\n",
       "      <th></th>\n",
       "      <th></th>\n",
       "      <th></th>\n",
       "      <th></th>\n",
       "      <th></th>\n",
       "    </tr>\n",
       "  </thead>\n",
       "  <tbody>\n",
       "    <tr>\n",
       "      <th>area</th>\n",
       "      <td>0</td>\n",
       "      <td>4.2.0</td>\n",
       "      <td>gachi</td>\n",
       "      <td>standard</td>\n",
       "      <td>gangaze</td>\n",
       "      <td>nova_becchu</td>\n",
       "      <td>s+</td>\n",
       "      <td>140.0</td>\n",
       "      <td>False</td>\n",
       "    </tr>\n",
       "    <tr>\n",
       "      <th>asari</th>\n",
       "      <td>7</td>\n",
       "      <td>4.2.0</td>\n",
       "      <td>gachi</td>\n",
       "      <td>standard</td>\n",
       "      <td>mutsugoro</td>\n",
       "      <td>ochiba</td>\n",
       "      <td>s+</td>\n",
       "      <td>188.0</td>\n",
       "      <td>True</td>\n",
       "    </tr>\n",
       "    <tr>\n",
       "      <th>hoko</th>\n",
       "      <td>2</td>\n",
       "      <td>4.2.0</td>\n",
       "      <td>gachi</td>\n",
       "      <td>standard</td>\n",
       "      <td>devon</td>\n",
       "      <td>heroroller_replica</td>\n",
       "      <td>s</td>\n",
       "      <td>146.0</td>\n",
       "      <td>True</td>\n",
       "    </tr>\n",
       "    <tr>\n",
       "      <th>nawabari</th>\n",
       "      <td>53</td>\n",
       "      <td>4.2.0</td>\n",
       "      <td>regular</td>\n",
       "      <td>standard</td>\n",
       "      <td>sumeshi</td>\n",
       "      <td>nzap85</td>\n",
       "      <td>NaN</td>\n",
       "      <td>63.0</td>\n",
       "      <td>False</td>\n",
       "    </tr>\n",
       "    <tr>\n",
       "      <th>yagura</th>\n",
       "      <td>8</td>\n",
       "      <td>4.2.0</td>\n",
       "      <td>gachi</td>\n",
       "      <td>standard</td>\n",
       "      <td>otoro</td>\n",
       "      <td>hotblaster</td>\n",
       "      <td>s+</td>\n",
       "      <td>40.0</td>\n",
       "      <td>False</td>\n",
       "    </tr>\n",
       "  </tbody>\n",
       "</table>\n",
       "</div>"
      ],
      "text/plain": [
       "          match game-ver lobby-mode     lobby      stage              weapon  \\\n",
       "mode                                                                           \n",
       "area          0    4.2.0      gachi  standard    gangaze         nova_becchu   \n",
       "asari         7    4.2.0      gachi  standard  mutsugoro              ochiba   \n",
       "hoko          2    4.2.0      gachi  standard      devon  heroroller_replica   \n",
       "nawabari     53    4.2.0    regular  standard    sumeshi              nzap85   \n",
       "yagura        8    4.2.0      gachi  standard      otoro          hotblaster   \n",
       "\n",
       "         rank  level    win  \n",
       "mode                         \n",
       "area       s+  140.0  False  \n",
       "asari      s+  188.0   True  \n",
       "hoko        s  146.0   True  \n",
       "nawabari  NaN   63.0  False  \n",
       "yagura     s+   40.0  False  "
      ]
     },
     "execution_count": 11,
     "metadata": {},
     "output_type": "execute_result"
    }
   ],
   "source": [
    "# group by mode and check ordering\n",
    "gb = df.groupby(['mode'])\n",
    "df.groupby(['mode']).first()"
   ]
  },
  {
   "cell_type": "code",
   "execution_count": 12,
   "metadata": {},
   "outputs": [],
   "source": [
    "# split groupby into separate dataframes contained in a list\n",
    "modes  = [gb.get_group(x) for x in gb.groups]"
   ]
  },
  {
   "cell_type": "code",
   "execution_count": 13,
   "metadata": {},
   "outputs": [
    {
     "data": {
      "text/plain": [
       "weapon\n",
       "52gal            9915\n",
       "52gal_becchu    18584\n",
       "52gal_deco       9701\n",
       "96gal           19131\n",
       "96gal_deco      23979\n",
       "Name: match, dtype: int64"
      ]
     },
     "execution_count": 13,
     "metadata": {},
     "output_type": "execute_result"
    }
   ],
   "source": [
    "# testing aggregating for usage\n",
    "df.groupby('weapon').match.count().head()"
   ]
  },
  {
   "cell_type": "code",
   "execution_count": 14,
   "metadata": {},
   "outputs": [
    {
     "data": {
      "text/plain": [
       "weapon\n",
       "52gal           0.475139\n",
       "52gal_becchu    0.493597\n",
       "52gal_deco      0.471910\n",
       "96gal           0.513408\n",
       "96gal_deco      0.517369\n",
       "Name: win, dtype: float64"
      ]
     },
     "execution_count": 14,
     "metadata": {},
     "output_type": "execute_result"
    }
   ],
   "source": [
    "# testing aggregating for win rate\n",
    "df.groupby('weapon').win.mean().head()"
   ]
  },
  {
   "cell_type": "code",
   "execution_count": 15,
   "metadata": {},
   "outputs": [
    {
     "data": {
      "text/html": [
       "<div>\n",
       "<style scoped>\n",
       "    .dataframe tbody tr th:only-of-type {\n",
       "        vertical-align: middle;\n",
       "    }\n",
       "\n",
       "    .dataframe tbody tr th {\n",
       "        vertical-align: top;\n",
       "    }\n",
       "\n",
       "    .dataframe thead th {\n",
       "        text-align: right;\n",
       "    }\n",
       "</style>\n",
       "<table border=\"1\" class=\"dataframe\">\n",
       "  <thead>\n",
       "    <tr style=\"text-align: right;\">\n",
       "      <th></th>\n",
       "      <th>key</th>\n",
       "    </tr>\n",
       "  </thead>\n",
       "  <tbody>\n",
       "    <tr>\n",
       "      <th>0</th>\n",
       "      <td>52gal</td>\n",
       "    </tr>\n",
       "    <tr>\n",
       "      <th>1</th>\n",
       "      <td>52gal_becchu</td>\n",
       "    </tr>\n",
       "    <tr>\n",
       "      <th>2</th>\n",
       "      <td>52gal_deco</td>\n",
       "    </tr>\n",
       "    <tr>\n",
       "      <th>3</th>\n",
       "      <td>96gal</td>\n",
       "    </tr>\n",
       "    <tr>\n",
       "      <th>4</th>\n",
       "      <td>96gal_deco</td>\n",
       "    </tr>\n",
       "  </tbody>\n",
       "</table>\n",
       "</div>"
      ],
      "text/plain": [
       "            key\n",
       "0         52gal\n",
       "1  52gal_becchu\n",
       "2    52gal_deco\n",
       "3         96gal\n",
       "4    96gal_deco"
      ]
     },
     "execution_count": 15,
     "metadata": {},
     "output_type": "execute_result"
    }
   ],
   "source": [
    "# initialize dataframe with weapon names in correct order\n",
    "score = pd.DataFrame()\n",
    "score['key'] = list(df.groupby('weapon').groups.keys())\n",
    "score.head()"
   ]
  },
  {
   "cell_type": "code",
   "execution_count": 16,
   "metadata": {},
   "outputs": [
    {
     "data": {
      "text/html": [
       "<div>\n",
       "<style scoped>\n",
       "    .dataframe tbody tr th:only-of-type {\n",
       "        vertical-align: middle;\n",
       "    }\n",
       "\n",
       "    .dataframe tbody tr th {\n",
       "        vertical-align: top;\n",
       "    }\n",
       "\n",
       "    .dataframe thead th {\n",
       "        text-align: right;\n",
       "    }\n",
       "</style>\n",
       "<table border=\"1\" class=\"dataframe\">\n",
       "  <thead>\n",
       "    <tr style=\"text-align: right;\">\n",
       "      <th></th>\n",
       "      <th>key</th>\n",
       "      <th>Splat Zones_winrate</th>\n",
       "      <th>Clam Blitz_winrate</th>\n",
       "      <th>Rainmaker_winrate</th>\n",
       "      <th>Turf War_winrate</th>\n",
       "      <th>Tower Control_winrate</th>\n",
       "    </tr>\n",
       "  </thead>\n",
       "  <tbody>\n",
       "    <tr>\n",
       "      <th>0</th>\n",
       "      <td>52gal</td>\n",
       "      <td>0.439716</td>\n",
       "      <td>0.497638</td>\n",
       "      <td>0.461300</td>\n",
       "      <td>0.480213</td>\n",
       "      <td>0.497850</td>\n",
       "    </tr>\n",
       "    <tr>\n",
       "      <th>1</th>\n",
       "      <td>52gal_becchu</td>\n",
       "      <td>0.479037</td>\n",
       "      <td>0.509861</td>\n",
       "      <td>0.493407</td>\n",
       "      <td>0.499650</td>\n",
       "      <td>0.485860</td>\n",
       "    </tr>\n",
       "    <tr>\n",
       "      <th>2</th>\n",
       "      <td>52gal_deco</td>\n",
       "      <td>0.452133</td>\n",
       "      <td>0.475052</td>\n",
       "      <td>0.490795</td>\n",
       "      <td>0.469601</td>\n",
       "      <td>0.457627</td>\n",
       "    </tr>\n",
       "    <tr>\n",
       "      <th>3</th>\n",
       "      <td>96gal</td>\n",
       "      <td>0.511498</td>\n",
       "      <td>0.534125</td>\n",
       "      <td>0.497249</td>\n",
       "      <td>0.514590</td>\n",
       "      <td>0.514706</td>\n",
       "    </tr>\n",
       "    <tr>\n",
       "      <th>4</th>\n",
       "      <td>96gal_deco</td>\n",
       "      <td>0.512068</td>\n",
       "      <td>0.510252</td>\n",
       "      <td>0.500387</td>\n",
       "      <td>0.537533</td>\n",
       "      <td>0.508188</td>\n",
       "    </tr>\n",
       "  </tbody>\n",
       "</table>\n",
       "</div>"
      ],
      "text/plain": [
       "            key  Splat Zones_winrate  Clam Blitz_winrate  Rainmaker_winrate  \\\n",
       "0         52gal             0.439716            0.497638           0.461300   \n",
       "1  52gal_becchu             0.479037            0.509861           0.493407   \n",
       "2    52gal_deco             0.452133            0.475052           0.490795   \n",
       "3         96gal             0.511498            0.534125           0.497249   \n",
       "4    96gal_deco             0.512068            0.510252           0.500387   \n",
       "\n",
       "   Turf War_winrate  Tower Control_winrate  \n",
       "0          0.480213               0.497850  \n",
       "1          0.499650               0.485860  \n",
       "2          0.469601               0.457627  \n",
       "3          0.514590               0.514706  \n",
       "4          0.537533               0.508188  "
      ]
     },
     "execution_count": 16,
     "metadata": {},
     "output_type": "execute_result"
    }
   ],
   "source": [
    "# fill new dataframe with usage and win rate\n",
    "for name, data in zip(['Splat Zones', 'Clam Blitz', 'Rainmaker', 'Turf War', 'Tower Control'], modes):\n",
    "#     score[name + '_usage'] = data.groupby('weapon').match.count().values\n",
    "    score[name + '_winrate'] = data.groupby('weapon').win.mean().values\n",
    "score.head()"
   ]
  },
  {
   "cell_type": "markdown",
   "metadata": {},
   "source": [
    "Load the weapon metadata and join to get english names of the weapons."
   ]
  },
  {
   "cell_type": "code",
   "execution_count": 17,
   "metadata": {},
   "outputs": [
    {
     "data": {
      "text/html": [
       "<div>\n",
       "<style scoped>\n",
       "    .dataframe tbody tr th:only-of-type {\n",
       "        vertical-align: middle;\n",
       "    }\n",
       "\n",
       "    .dataframe tbody tr th {\n",
       "        vertical-align: top;\n",
       "    }\n",
       "\n",
       "    .dataframe thead th {\n",
       "        text-align: right;\n",
       "    }\n",
       "</style>\n",
       "<table border=\"1\" class=\"dataframe\">\n",
       "  <thead>\n",
       "    <tr style=\"text-align: right;\">\n",
       "      <th></th>\n",
       "      <th>key</th>\n",
       "      <th>Splat Zones_winrate</th>\n",
       "      <th>Clam Blitz_winrate</th>\n",
       "      <th>Rainmaker_winrate</th>\n",
       "      <th>Turf War_winrate</th>\n",
       "      <th>Tower Control_winrate</th>\n",
       "    </tr>\n",
       "  </thead>\n",
       "  <tbody>\n",
       "    <tr>\n",
       "      <th>0</th>\n",
       "      <td>.52 Gal</td>\n",
       "      <td>0.439716</td>\n",
       "      <td>0.497638</td>\n",
       "      <td>0.461300</td>\n",
       "      <td>0.480213</td>\n",
       "      <td>0.497850</td>\n",
       "    </tr>\n",
       "    <tr>\n",
       "      <th>1</th>\n",
       "      <td>Kensa .52 Gal</td>\n",
       "      <td>0.479037</td>\n",
       "      <td>0.509861</td>\n",
       "      <td>0.493407</td>\n",
       "      <td>0.499650</td>\n",
       "      <td>0.485860</td>\n",
       "    </tr>\n",
       "    <tr>\n",
       "      <th>2</th>\n",
       "      <td>.52 Gal Deco</td>\n",
       "      <td>0.452133</td>\n",
       "      <td>0.475052</td>\n",
       "      <td>0.490795</td>\n",
       "      <td>0.469601</td>\n",
       "      <td>0.457627</td>\n",
       "    </tr>\n",
       "    <tr>\n",
       "      <th>3</th>\n",
       "      <td>.96 Gal</td>\n",
       "      <td>0.511498</td>\n",
       "      <td>0.534125</td>\n",
       "      <td>0.497249</td>\n",
       "      <td>0.514590</td>\n",
       "      <td>0.514706</td>\n",
       "    </tr>\n",
       "    <tr>\n",
       "      <th>4</th>\n",
       "      <td>.96 Gal Deco</td>\n",
       "      <td>0.512068</td>\n",
       "      <td>0.510252</td>\n",
       "      <td>0.500387</td>\n",
       "      <td>0.537533</td>\n",
       "      <td>0.508188</td>\n",
       "    </tr>\n",
       "  </tbody>\n",
       "</table>\n",
       "</div>"
      ],
      "text/plain": [
       "             key  Splat Zones_winrate  Clam Blitz_winrate  Rainmaker_winrate  \\\n",
       "0        .52 Gal             0.439716            0.497638           0.461300   \n",
       "1  Kensa .52 Gal             0.479037            0.509861           0.493407   \n",
       "2   .52 Gal Deco             0.452133            0.475052           0.490795   \n",
       "3        .96 Gal             0.511498            0.534125           0.497249   \n",
       "4   .96 Gal Deco             0.512068            0.510252           0.500387   \n",
       "\n",
       "   Turf War_winrate  Tower Control_winrate  \n",
       "0          0.480213               0.497850  \n",
       "1          0.499650               0.485860  \n",
       "2          0.469601               0.457627  \n",
       "3          0.514590               0.514706  \n",
       "4          0.537533               0.508188  "
      ]
     },
     "execution_count": 17,
     "metadata": {},
     "output_type": "execute_result"
    }
   ],
   "source": [
    "# load only the keys and english names\n",
    "names = pd.read_csv('data/weapon.csv')[['key', '[en-US]']]\n",
    "# merge on key\n",
    "score = score.merge(names, 'left', 'key')\n",
    "# replace key with english name\n",
    "score['key'] = score['[en-US]']\n",
    "score.drop('[en-US]', axis=1, inplace=True)\n",
    "score.head()"
   ]
  },
  {
   "cell_type": "code",
   "execution_count": 18,
   "metadata": {},
   "outputs": [],
   "source": [
    "# Save to pickle\n",
    "score.to_pickle('data/weapon_winrate.pkl')"
   ]
  },
  {
   "cell_type": "markdown",
   "metadata": {},
   "source": [
    "## Item to Item similarity based recommender\n",
    "\n",
    "First I load the weapon metadata"
   ]
  },
  {
   "cell_type": "code",
   "execution_count": 19,
   "metadata": {},
   "outputs": [
    {
     "data": {
      "text/html": [
       "<div>\n",
       "<style scoped>\n",
       "    .dataframe tbody tr th:only-of-type {\n",
       "        vertical-align: middle;\n",
       "    }\n",
       "\n",
       "    .dataframe tbody tr th {\n",
       "        vertical-align: top;\n",
       "    }\n",
       "\n",
       "    .dataframe thead th {\n",
       "        text-align: right;\n",
       "    }\n",
       "</style>\n",
       "<table border=\"1\" class=\"dataframe\">\n",
       "  <thead>\n",
       "    <tr style=\"text-align: right;\">\n",
       "      <th></th>\n",
       "      <th>category1</th>\n",
       "      <th>category2</th>\n",
       "      <th>key</th>\n",
       "      <th>subweapon</th>\n",
       "      <th>special</th>\n",
       "      <th>mainweapon</th>\n",
       "      <th>reskin</th>\n",
       "      <th>splatnet</th>\n",
       "      <th>[de-DE]</th>\n",
       "      <th>[en-GB]</th>\n",
       "      <th>[en-US]</th>\n",
       "      <th>[es-ES]</th>\n",
       "      <th>[es-MX]</th>\n",
       "      <th>[fr-CA]</th>\n",
       "      <th>[fr-FR]</th>\n",
       "      <th>[it-IT]</th>\n",
       "      <th>[ja-JP]</th>\n",
       "      <th>[ja-JP@calendar=japanese]</th>\n",
       "      <th>[nl-NL]</th>\n",
       "      <th>[ru-RU]</th>\n",
       "    </tr>\n",
       "  </thead>\n",
       "  <tbody>\n",
       "    <tr>\n",
       "      <th>0</th>\n",
       "      <td>shooter</td>\n",
       "      <td>shooter</td>\n",
       "      <td>52gal</td>\n",
       "      <td>pointsensor</td>\n",
       "      <td>sphere</td>\n",
       "      <td>52gal</td>\n",
       "      <td>52gal</td>\n",
       "      <td>50</td>\n",
       "      <td>.52 Gallon</td>\n",
       "      <td>.52 Gal</td>\n",
       "      <td>.52 Gal</td>\n",
       "      <td>Salpicadora 2000</td>\n",
       "      <td>Salpicadora 2000</td>\n",
       "      <td>Calibre 2000</td>\n",
       "      <td>Calibre 2000</td>\n",
       "      <td>Calibro 2000</td>\n",
       "      <td>.52ガロン</td>\n",
       "      <td>.52ガロン</td>\n",
       "      <td>.52 Kaliter</td>\n",
       "      <td>Струевик .52</td>\n",
       "    </tr>\n",
       "    <tr>\n",
       "      <th>1</th>\n",
       "      <td>shooter</td>\n",
       "      <td>shooter</td>\n",
       "      <td>52gal_deco</td>\n",
       "      <td>curlingbomb</td>\n",
       "      <td>presser</td>\n",
       "      <td>52gal</td>\n",
       "      <td>52gal_deco</td>\n",
       "      <td>51</td>\n",
       "      <td>.52 Gallon Deko</td>\n",
       "      <td>.52 Gal Deco</td>\n",
       "      <td>.52 Gal Deco</td>\n",
       "      <td>Salpicadora 2000 DX</td>\n",
       "      <td>Salpicadora 2000 chic</td>\n",
       "      <td>Calibre 2000 chic</td>\n",
       "      <td>Calibre 2000 chic</td>\n",
       "      <td>Calibro 2000 DX</td>\n",
       "      <td>.52ガロンデコ</td>\n",
       "      <td>.52ガロンデコ</td>\n",
       "      <td>.52 Kaliter Deco</td>\n",
       "      <td>Струевик .52 «Деко»</td>\n",
       "    </tr>\n",
       "    <tr>\n",
       "      <th>2</th>\n",
       "      <td>shooter</td>\n",
       "      <td>shooter</td>\n",
       "      <td>96gal</td>\n",
       "      <td>sprinkler</td>\n",
       "      <td>armor</td>\n",
       "      <td>96gal</td>\n",
       "      <td>96gal</td>\n",
       "      <td>80</td>\n",
       "      <td>.96 Gallon</td>\n",
       "      <td>.96 Gal</td>\n",
       "      <td>.96 Gal</td>\n",
       "      <td>Salpicadora 3000</td>\n",
       "      <td>Salpicadora 3000</td>\n",
       "      <td>Calibre 3000</td>\n",
       "      <td>Calibre 3000</td>\n",
       "      <td>Calibro 3000</td>\n",
       "      <td>.96ガロン</td>\n",
       "      <td>.96ガロン</td>\n",
       "      <td>.96 Kaliter</td>\n",
       "      <td>Струевик .96</td>\n",
       "    </tr>\n",
       "    <tr>\n",
       "      <th>3</th>\n",
       "      <td>shooter</td>\n",
       "      <td>shooter</td>\n",
       "      <td>96gal_deco</td>\n",
       "      <td>splashshield</td>\n",
       "      <td>chakuchi</td>\n",
       "      <td>96gal</td>\n",
       "      <td>96gal_deco</td>\n",
       "      <td>81</td>\n",
       "      <td>.96 Gallon Deko</td>\n",
       "      <td>.96 Gal Deco</td>\n",
       "      <td>.96 Gal Deco</td>\n",
       "      <td>Salpicadora 3000 DX</td>\n",
       "      <td>Salpicadora 3000 chic</td>\n",
       "      <td>Calibre 3000 chic</td>\n",
       "      <td>Calibre 3000 chic</td>\n",
       "      <td>Calibro 3000 DX</td>\n",
       "      <td>.96ガロンデコ</td>\n",
       "      <td>.96ガロンデコ</td>\n",
       "      <td>.96 Kaliter Deco</td>\n",
       "      <td>Струевик .96 «Деко»</td>\n",
       "    </tr>\n",
       "    <tr>\n",
       "      <th>4</th>\n",
       "      <td>shooter</td>\n",
       "      <td>shooter</td>\n",
       "      <td>promodeler_mg</td>\n",
       "      <td>kyubanbomb</td>\n",
       "      <td>curlingbomb_pitcher</td>\n",
       "      <td>promodeler_mg</td>\n",
       "      <td>promodeler_mg</td>\n",
       "      <td>30</td>\n",
       "      <td>Airbrush MG</td>\n",
       "      <td>Aerospray MG</td>\n",
       "      <td>Aerospray MG</td>\n",
       "      <td>Aerógrafo pro</td>\n",
       "      <td>Aerógrafo GP</td>\n",
       "      <td>Pouche-pouche</td>\n",
       "      <td>Aérogun</td>\n",
       "      <td>Aerografo</td>\n",
       "      <td>プロモデラーMG</td>\n",
       "      <td>プロモデラーMG</td>\n",
       "      <td>Kladderwerper</td>\n",
       "      <td>Аэроспрей</td>\n",
       "    </tr>\n",
       "  </tbody>\n",
       "</table>\n",
       "</div>"
      ],
      "text/plain": [
       "  category1 category2            key     subweapon              special  \\\n",
       "0   shooter   shooter          52gal   pointsensor               sphere   \n",
       "1   shooter   shooter     52gal_deco   curlingbomb              presser   \n",
       "2   shooter   shooter          96gal     sprinkler                armor   \n",
       "3   shooter   shooter     96gal_deco  splashshield             chakuchi   \n",
       "4   shooter   shooter  promodeler_mg    kyubanbomb  curlingbomb_pitcher   \n",
       "\n",
       "      mainweapon         reskin  splatnet          [de-DE]       [en-GB]  \\\n",
       "0          52gal          52gal        50       .52 Gallon       .52 Gal   \n",
       "1          52gal     52gal_deco        51  .52 Gallon Deko  .52 Gal Deco   \n",
       "2          96gal          96gal        80       .96 Gallon       .96 Gal   \n",
       "3          96gal     96gal_deco        81  .96 Gallon Deko  .96 Gal Deco   \n",
       "4  promodeler_mg  promodeler_mg        30      Airbrush MG  Aerospray MG   \n",
       "\n",
       "        [en-US]              [es-ES]                [es-MX]  \\\n",
       "0       .52 Gal     Salpicadora 2000       Salpicadora 2000   \n",
       "1  .52 Gal Deco  Salpicadora 2000 DX  Salpicadora 2000 chic   \n",
       "2       .96 Gal     Salpicadora 3000       Salpicadora 3000   \n",
       "3  .96 Gal Deco  Salpicadora 3000 DX  Salpicadora 3000 chic   \n",
       "4  Aerospray MG        Aerógrafo pro           Aerógrafo GP   \n",
       "\n",
       "             [fr-CA]            [fr-FR]          [it-IT]   [ja-JP]  \\\n",
       "0       Calibre 2000       Calibre 2000     Calibro 2000    .52ガロン   \n",
       "1  Calibre 2000 chic  Calibre 2000 chic  Calibro 2000 DX  .52ガロンデコ   \n",
       "2       Calibre 3000       Calibre 3000     Calibro 3000    .96ガロン   \n",
       "3  Calibre 3000 chic  Calibre 3000 chic  Calibro 3000 DX  .96ガロンデコ   \n",
       "4      Pouche-pouche            Aérogun        Aerografo  プロモデラーMG   \n",
       "\n",
       "  [ja-JP@calendar=japanese]           [nl-NL]              [ru-RU]  \n",
       "0                    .52ガロン       .52 Kaliter         Струевик .52  \n",
       "1                  .52ガロンデコ  .52 Kaliter Deco  Струевик .52 «Деко»  \n",
       "2                    .96ガロン       .96 Kaliter         Струевик .96  \n",
       "3                  .96ガロンデコ  .96 Kaliter Deco  Струевик .96 «Деко»  \n",
       "4                  プロモデラーMG     Kladderwerper            Аэроспрей  "
      ]
     },
     "execution_count": 19,
     "metadata": {},
     "output_type": "execute_result"
    }
   ],
   "source": [
    "weapons = pd.read_csv('data/weapon.csv')\n",
    "weapons.head()"
   ]
  },
  {
   "cell_type": "code",
   "execution_count": 20,
   "metadata": {},
   "outputs": [
    {
     "data": {
      "text/plain": [
       "Index(['category1', 'category2', 'key', 'subweapon', 'special', 'mainweapon',\n",
       "       'reskin', 'splatnet', '[de-DE]', '[en-GB]', '[en-US]', '[es-ES]',\n",
       "       '[es-MX]', '[fr-CA]', '[fr-FR]', '[it-IT]', '[ja-JP]',\n",
       "       '[ja-JP@calendar=japanese]', '[nl-NL]', '[ru-RU]'],\n",
       "      dtype='object')"
      ]
     },
     "execution_count": 20,
     "metadata": {},
     "output_type": "execute_result"
    }
   ],
   "source": [
    "weapons.columns"
   ]
  },
  {
   "cell_type": "markdown",
   "metadata": {},
   "source": [
    "There are many columns like the languages that are useless to me."
   ]
  },
  {
   "cell_type": "code",
   "execution_count": 21,
   "metadata": {},
   "outputs": [
    {
     "data": {
      "text/html": [
       "<div>\n",
       "<style scoped>\n",
       "    .dataframe tbody tr th:only-of-type {\n",
       "        vertical-align: middle;\n",
       "    }\n",
       "\n",
       "    .dataframe tbody tr th {\n",
       "        vertical-align: top;\n",
       "    }\n",
       "\n",
       "    .dataframe thead th {\n",
       "        text-align: right;\n",
       "    }\n",
       "</style>\n",
       "<table border=\"1\" class=\"dataframe\">\n",
       "  <thead>\n",
       "    <tr style=\"text-align: right;\">\n",
       "      <th></th>\n",
       "      <th>key</th>\n",
       "      <th>category1</th>\n",
       "      <th>category2</th>\n",
       "      <th>subweapon</th>\n",
       "      <th>special</th>\n",
       "      <th>mainweapon</th>\n",
       "    </tr>\n",
       "  </thead>\n",
       "  <tbody>\n",
       "    <tr>\n",
       "      <th>0</th>\n",
       "      <td>.52 Gal</td>\n",
       "      <td>shooter</td>\n",
       "      <td>shooter</td>\n",
       "      <td>pointsensor</td>\n",
       "      <td>sphere</td>\n",
       "      <td>52gal</td>\n",
       "    </tr>\n",
       "    <tr>\n",
       "      <th>1</th>\n",
       "      <td>.52 Gal Deco</td>\n",
       "      <td>shooter</td>\n",
       "      <td>shooter</td>\n",
       "      <td>curlingbomb</td>\n",
       "      <td>presser</td>\n",
       "      <td>52gal</td>\n",
       "    </tr>\n",
       "    <tr>\n",
       "      <th>2</th>\n",
       "      <td>.96 Gal</td>\n",
       "      <td>shooter</td>\n",
       "      <td>shooter</td>\n",
       "      <td>sprinkler</td>\n",
       "      <td>armor</td>\n",
       "      <td>96gal</td>\n",
       "    </tr>\n",
       "    <tr>\n",
       "      <th>3</th>\n",
       "      <td>.96 Gal Deco</td>\n",
       "      <td>shooter</td>\n",
       "      <td>shooter</td>\n",
       "      <td>splashshield</td>\n",
       "      <td>chakuchi</td>\n",
       "      <td>96gal</td>\n",
       "    </tr>\n",
       "    <tr>\n",
       "      <th>4</th>\n",
       "      <td>Aerospray MG</td>\n",
       "      <td>shooter</td>\n",
       "      <td>shooter</td>\n",
       "      <td>kyubanbomb</td>\n",
       "      <td>curlingbomb_pitcher</td>\n",
       "      <td>promodeler_mg</td>\n",
       "    </tr>\n",
       "  </tbody>\n",
       "</table>\n",
       "</div>"
      ],
      "text/plain": [
       "            key category1 category2     subweapon              special  \\\n",
       "0       .52 Gal   shooter   shooter   pointsensor               sphere   \n",
       "1  .52 Gal Deco   shooter   shooter   curlingbomb              presser   \n",
       "2       .96 Gal   shooter   shooter     sprinkler                armor   \n",
       "3  .96 Gal Deco   shooter   shooter  splashshield             chakuchi   \n",
       "4  Aerospray MG   shooter   shooter    kyubanbomb  curlingbomb_pitcher   \n",
       "\n",
       "      mainweapon  \n",
       "0          52gal  \n",
       "1          52gal  \n",
       "2          96gal  \n",
       "3          96gal  \n",
       "4  promodeler_mg  "
      ]
     },
     "execution_count": 21,
     "metadata": {},
     "output_type": "execute_result"
    }
   ],
   "source": [
    "# set english names as key\n",
    "weapons['key'] = weapons['[en-US]']\n",
    "# select collumns\n",
    "weapons = weapons[['key', 'category1', 'category2', 'subweapon', 'special', 'mainweapon']]\n",
    "weapons.head()"
   ]
  },
  {
   "cell_type": "markdown",
   "metadata": {},
   "source": [
    "Get dummies for all the categorical features in order to feed it to my recommender."
   ]
  },
  {
   "cell_type": "code",
   "execution_count": 22,
   "metadata": {},
   "outputs": [
    {
     "data": {
      "text/html": [
       "<div>\n",
       "<style scoped>\n",
       "    .dataframe tbody tr th:only-of-type {\n",
       "        vertical-align: middle;\n",
       "    }\n",
       "\n",
       "    .dataframe tbody tr th {\n",
       "        vertical-align: top;\n",
       "    }\n",
       "\n",
       "    .dataframe thead th {\n",
       "        text-align: right;\n",
       "    }\n",
       "</style>\n",
       "<table border=\"1\" class=\"dataframe\">\n",
       "  <thead>\n",
       "    <tr style=\"text-align: right;\">\n",
       "      <th></th>\n",
       "      <th>category1_brella</th>\n",
       "      <th>category1_charger</th>\n",
       "      <th>category1_roller</th>\n",
       "      <th>category1_shooter</th>\n",
       "      <th>category1_slosher</th>\n",
       "      <th>category1_splatling</th>\n",
       "      <th>category2_blaster</th>\n",
       "      <th>category2_brella</th>\n",
       "      <th>category2_brush</th>\n",
       "      <th>category2_charger</th>\n",
       "      <th>...</th>\n",
       "      <th>mainweapon_soytuber</th>\n",
       "      <th>mainweapon_splatcharger</th>\n",
       "      <th>mainweapon_splatroller</th>\n",
       "      <th>mainweapon_splatspinner</th>\n",
       "      <th>mainweapon_sputtery</th>\n",
       "      <th>mainweapon_spygadget</th>\n",
       "      <th>mainweapon_squiclean_a</th>\n",
       "      <th>mainweapon_sshooter</th>\n",
       "      <th>mainweapon_variableroller</th>\n",
       "      <th>mainweapon_wakaba</th>\n",
       "    </tr>\n",
       "    <tr>\n",
       "      <th>key</th>\n",
       "      <th></th>\n",
       "      <th></th>\n",
       "      <th></th>\n",
       "      <th></th>\n",
       "      <th></th>\n",
       "      <th></th>\n",
       "      <th></th>\n",
       "      <th></th>\n",
       "      <th></th>\n",
       "      <th></th>\n",
       "      <th></th>\n",
       "      <th></th>\n",
       "      <th></th>\n",
       "      <th></th>\n",
       "      <th></th>\n",
       "      <th></th>\n",
       "      <th></th>\n",
       "      <th></th>\n",
       "      <th></th>\n",
       "      <th></th>\n",
       "      <th></th>\n",
       "    </tr>\n",
       "  </thead>\n",
       "  <tbody>\n",
       "    <tr>\n",
       "      <th>.52 Gal</th>\n",
       "      <td>0</td>\n",
       "      <td>0</td>\n",
       "      <td>0</td>\n",
       "      <td>1</td>\n",
       "      <td>0</td>\n",
       "      <td>0</td>\n",
       "      <td>0</td>\n",
       "      <td>0</td>\n",
       "      <td>0</td>\n",
       "      <td>0</td>\n",
       "      <td>...</td>\n",
       "      <td>0</td>\n",
       "      <td>0</td>\n",
       "      <td>0</td>\n",
       "      <td>0</td>\n",
       "      <td>0</td>\n",
       "      <td>0</td>\n",
       "      <td>0</td>\n",
       "      <td>0</td>\n",
       "      <td>0</td>\n",
       "      <td>0</td>\n",
       "    </tr>\n",
       "    <tr>\n",
       "      <th>.52 Gal Deco</th>\n",
       "      <td>0</td>\n",
       "      <td>0</td>\n",
       "      <td>0</td>\n",
       "      <td>1</td>\n",
       "      <td>0</td>\n",
       "      <td>0</td>\n",
       "      <td>0</td>\n",
       "      <td>0</td>\n",
       "      <td>0</td>\n",
       "      <td>0</td>\n",
       "      <td>...</td>\n",
       "      <td>0</td>\n",
       "      <td>0</td>\n",
       "      <td>0</td>\n",
       "      <td>0</td>\n",
       "      <td>0</td>\n",
       "      <td>0</td>\n",
       "      <td>0</td>\n",
       "      <td>0</td>\n",
       "      <td>0</td>\n",
       "      <td>0</td>\n",
       "    </tr>\n",
       "    <tr>\n",
       "      <th>.96 Gal</th>\n",
       "      <td>0</td>\n",
       "      <td>0</td>\n",
       "      <td>0</td>\n",
       "      <td>1</td>\n",
       "      <td>0</td>\n",
       "      <td>0</td>\n",
       "      <td>0</td>\n",
       "      <td>0</td>\n",
       "      <td>0</td>\n",
       "      <td>0</td>\n",
       "      <td>...</td>\n",
       "      <td>0</td>\n",
       "      <td>0</td>\n",
       "      <td>0</td>\n",
       "      <td>0</td>\n",
       "      <td>0</td>\n",
       "      <td>0</td>\n",
       "      <td>0</td>\n",
       "      <td>0</td>\n",
       "      <td>0</td>\n",
       "      <td>0</td>\n",
       "    </tr>\n",
       "    <tr>\n",
       "      <th>.96 Gal Deco</th>\n",
       "      <td>0</td>\n",
       "      <td>0</td>\n",
       "      <td>0</td>\n",
       "      <td>1</td>\n",
       "      <td>0</td>\n",
       "      <td>0</td>\n",
       "      <td>0</td>\n",
       "      <td>0</td>\n",
       "      <td>0</td>\n",
       "      <td>0</td>\n",
       "      <td>...</td>\n",
       "      <td>0</td>\n",
       "      <td>0</td>\n",
       "      <td>0</td>\n",
       "      <td>0</td>\n",
       "      <td>0</td>\n",
       "      <td>0</td>\n",
       "      <td>0</td>\n",
       "      <td>0</td>\n",
       "      <td>0</td>\n",
       "      <td>0</td>\n",
       "    </tr>\n",
       "    <tr>\n",
       "      <th>Aerospray MG</th>\n",
       "      <td>0</td>\n",
       "      <td>0</td>\n",
       "      <td>0</td>\n",
       "      <td>1</td>\n",
       "      <td>0</td>\n",
       "      <td>0</td>\n",
       "      <td>0</td>\n",
       "      <td>0</td>\n",
       "      <td>0</td>\n",
       "      <td>0</td>\n",
       "      <td>...</td>\n",
       "      <td>0</td>\n",
       "      <td>0</td>\n",
       "      <td>0</td>\n",
       "      <td>0</td>\n",
       "      <td>0</td>\n",
       "      <td>0</td>\n",
       "      <td>0</td>\n",
       "      <td>0</td>\n",
       "      <td>0</td>\n",
       "      <td>0</td>\n",
       "    </tr>\n",
       "  </tbody>\n",
       "</table>\n",
       "<p>5 rows × 92 columns</p>\n",
       "</div>"
      ],
      "text/plain": [
       "              category1_brella  category1_charger  category1_roller  \\\n",
       "key                                                                   \n",
       ".52 Gal                      0                  0                 0   \n",
       ".52 Gal Deco                 0                  0                 0   \n",
       ".96 Gal                      0                  0                 0   \n",
       ".96 Gal Deco                 0                  0                 0   \n",
       "Aerospray MG                 0                  0                 0   \n",
       "\n",
       "              category1_shooter  category1_slosher  category1_splatling  \\\n",
       "key                                                                       \n",
       ".52 Gal                       1                  0                    0   \n",
       ".52 Gal Deco                  1                  0                    0   \n",
       ".96 Gal                       1                  0                    0   \n",
       ".96 Gal Deco                  1                  0                    0   \n",
       "Aerospray MG                  1                  0                    0   \n",
       "\n",
       "              category2_blaster  category2_brella  category2_brush  \\\n",
       "key                                                                  \n",
       ".52 Gal                       0                 0                0   \n",
       ".52 Gal Deco                  0                 0                0   \n",
       ".96 Gal                       0                 0                0   \n",
       ".96 Gal Deco                  0                 0                0   \n",
       "Aerospray MG                  0                 0                0   \n",
       "\n",
       "              category2_charger  ...  mainweapon_soytuber  \\\n",
       "key                              ...                        \n",
       ".52 Gal                       0  ...                    0   \n",
       ".52 Gal Deco                  0  ...                    0   \n",
       ".96 Gal                       0  ...                    0   \n",
       ".96 Gal Deco                  0  ...                    0   \n",
       "Aerospray MG                  0  ...                    0   \n",
       "\n",
       "              mainweapon_splatcharger  mainweapon_splatroller  \\\n",
       "key                                                             \n",
       ".52 Gal                             0                       0   \n",
       ".52 Gal Deco                        0                       0   \n",
       ".96 Gal                             0                       0   \n",
       ".96 Gal Deco                        0                       0   \n",
       "Aerospray MG                        0                       0   \n",
       "\n",
       "              mainweapon_splatspinner  mainweapon_sputtery  \\\n",
       "key                                                          \n",
       ".52 Gal                             0                    0   \n",
       ".52 Gal Deco                        0                    0   \n",
       ".96 Gal                             0                    0   \n",
       ".96 Gal Deco                        0                    0   \n",
       "Aerospray MG                        0                    0   \n",
       "\n",
       "              mainweapon_spygadget  mainweapon_squiclean_a  \\\n",
       "key                                                          \n",
       ".52 Gal                          0                       0   \n",
       ".52 Gal Deco                     0                       0   \n",
       ".96 Gal                          0                       0   \n",
       ".96 Gal Deco                     0                       0   \n",
       "Aerospray MG                     0                       0   \n",
       "\n",
       "              mainweapon_sshooter  mainweapon_variableroller  \\\n",
       "key                                                            \n",
       ".52 Gal                         0                          0   \n",
       ".52 Gal Deco                    0                          0   \n",
       ".96 Gal                         0                          0   \n",
       ".96 Gal Deco                    0                          0   \n",
       "Aerospray MG                    0                          0   \n",
       "\n",
       "              mainweapon_wakaba  \n",
       "key                              \n",
       ".52 Gal                       0  \n",
       ".52 Gal Deco                  0  \n",
       ".96 Gal                       0  \n",
       ".96 Gal Deco                  0  \n",
       "Aerospray MG                  0  \n",
       "\n",
       "[5 rows x 92 columns]"
      ]
     },
     "execution_count": 22,
     "metadata": {},
     "output_type": "execute_result"
    }
   ],
   "source": [
    "weapons = pd.get_dummies(data = weapons, columns=['category1', 'category2', 'subweapon', 'special', 'mainweapon'])\n",
    "weapons = weapons.set_index('key')\n",
    "weapons.head()"
   ]
  },
  {
   "cell_type": "markdown",
   "metadata": {},
   "source": [
    "Pickle dataframe for model depolyment on website."
   ]
  },
  {
   "cell_type": "code",
   "execution_count": 23,
   "metadata": {},
   "outputs": [],
   "source": [
    "weapons.to_pickle('data/weapon_features.pkl')"
   ]
  },
  {
   "cell_type": "markdown",
   "metadata": {},
   "source": [
    "Create and test the recommender."
   ]
  },
  {
   "cell_type": "code",
   "execution_count": 24,
   "metadata": {},
   "outputs": [],
   "source": [
    "model = ItemRecommender()\n",
    "# the recommender uses the DF index for the item names\n",
    "model.fit(weapons)"
   ]
  },
  {
   "cell_type": "markdown",
   "metadata": {},
   "source": [
    "I will test various methods to make sure it is working, but only get_weapon_recommendation is meant for the end product."
   ]
  },
  {
   "cell_type": "code",
   "execution_count": 25,
   "metadata": {},
   "outputs": [
    {
     "data": {
      "text/plain": [
       "array(['Kensa Splattershot Pro', 'Kensa Splattershot Jr.',\n",
       "       'Kensa Splattershot', 'Aerospray MG', 'Splattershot Pro'],\n",
       "      dtype=object)"
      ]
     },
     "execution_count": 25,
     "metadata": {},
     "output_type": "execute_result"
    }
   ],
   "source": [
    "# unscored recommendation using 1 entry\n",
    "model.get_recommendations('Forge Splattershot Pro')"
   ]
  },
  {
   "cell_type": "code",
   "execution_count": 26,
   "metadata": {},
   "outputs": [
    {
     "data": {
      "text/plain": [
       "array([\"N-ZAP '85\", 'Kensa Splattershot Pro', 'Kensa Splattershot Jr.',\n",
       "       'Foil Squeezer', 'Sploosh-o-matic 7'], dtype=object)"
      ]
     },
     "execution_count": 26,
     "metadata": {},
     "output_type": "execute_result"
    }
   ],
   "source": [
    "# unscored recommendation using multiple entries\n",
    "model.get_user_recommendation(['Forge Splattershot Pro', 'Splattershot Jr.'])"
   ]
  },
  {
   "cell_type": "code",
   "execution_count": 27,
   "metadata": {},
   "outputs": [
    {
     "name": "stdout",
     "output_type": "stream",
     "text": [
      "Try the Sploosh-o-matic 7 for a 2.42% win rate increase in Turf War!\n"
     ]
    }
   ],
   "source": [
    "# scored recommendation using one or more entries\n",
    "model.get_weapon_recommendation(['Forge Splattershot Pro', 'Splattershot Jr.'])"
   ]
  },
  {
   "cell_type": "code",
   "execution_count": 28,
   "metadata": {},
   "outputs": [],
   "source": [
    "with open('data/model.pkl', 'wb') as f:\n",
    "    # Write the model to a file.\n",
    "    pickle.dump(model, f)"
   ]
  },
  {
   "cell_type": "markdown",
   "metadata": {},
   "source": [
    "## Ensemble modeling\n",
    "\n",
    "First I pick the 10 weapons closest to the user selection(s) then I rank them by their win rate for the game mode. This was originally created as a standalone function but got encorporated into the ItemRecommender model for portability."
   ]
  },
  {
   "cell_type": "code",
   "execution_count": 29,
   "metadata": {},
   "outputs": [],
   "source": [
    "def rec_weapon(weapon, modes='Turf War'):\n",
    "    \n",
    "    # data assignement shenanigans\n",
    "    if type(weapon) == str:\n",
    "        weapon = [weapon]\n",
    "    if modes == 'debug':\n",
    "        modes = ['Turf War', 'Splat Zones', 'Tower Control', 'Rainmaker', 'Clam Blitz']\n",
    "    elif type(modes) == str:\n",
    "        modes = [modes]\n",
    "    \n",
    "    # loop through every mode\n",
    "    for mode in modes:\n",
    "        # get predictions\n",
    "        recs = model.get_user_recommendation(weapon, 10)\n",
    "        # take predictions from scored list and sort by winrate\n",
    "        recs = score[score.key.isin(recs)].sort_values(mode + '_winrate', ascending=False)\n",
    "        # get the name of the highest winrate weapon\n",
    "        best = recs.key.iloc[0]\n",
    "\n",
    "        # calculate % winrate increase\n",
    "        current = score[score.key.isin(weapon)].sort_values(mode + '_winrate', ascending=False).iloc[0]\n",
    "        new = float(recs[mode + '_winrate'].iloc[0])\n",
    "        percent = (new - float(current[mode + '_winrate'])) * 100\n",
    "\n",
    "        # only make a recommendation if it is an improvement\n",
    "        if percent <= 0:\n",
    "            print ('The {} is already a great choice for {}!'.format(current['key'], mode))\n",
    "        else:\n",
    "            print('Try the {} for a {:.2f}% win rate increase in {}!'.format(best, percent, mode))"
   ]
  },
  {
   "cell_type": "code",
   "execution_count": 30,
   "metadata": {},
   "outputs": [
    {
     "name": "stdout",
     "output_type": "stream",
     "text": [
      "The Custom Dualie Squelchers is already a great choice for Turf War!\n",
      "Try the Dark Tetra Dualies for a 1.26% win rate increase in Splat Zones!\n",
      "Try the Kensa Splat Dualies for a 2.16% win rate increase in Tower Control!\n",
      "Try the Kensa Splat Dualies for a 0.61% win rate increase in Rainmaker!\n",
      "The Enperry Splat Dualies is already a great choice for Clam Blitz!\n"
     ]
    }
   ],
   "source": [
    "rec_weapon(['Undercover Brella', 'Custom Dualie Squelchers', 'Enperry Splat Dualies'], 'debug')"
   ]
  },
  {
   "cell_type": "code",
   "execution_count": null,
   "metadata": {},
   "outputs": [],
   "source": []
  }
 ],
 "metadata": {
  "kernelspec": {
   "display_name": "Python 3",
   "language": "python",
   "name": "python3"
  },
  "language_info": {
   "codemirror_mode": {
    "name": "ipython",
    "version": 3
   },
   "file_extension": ".py",
   "mimetype": "text/x-python",
   "name": "python",
   "nbconvert_exporter": "python",
   "pygments_lexer": "ipython3",
   "version": "3.7.3"
  }
 },
 "nbformat": 4,
 "nbformat_minor": 2
}
