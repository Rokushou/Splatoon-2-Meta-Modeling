{
 "cells": [
  {
   "cell_type": "code",
   "execution_count": 72,
   "metadata": {},
   "outputs": [
    {
     "name": "stdout",
     "output_type": "stream",
     "text": [
      " _____________________________________ \r\n",
      "/ Fortune and love befriend the bold. \\\r\n",
      "|                                     |\r\n",
      "\\ -- Ovid                             /\r\n",
      " ------------------------------------- \r\n",
      "      \\                    / \\  //\\\r\n",
      "       \\    |\\___/|      /   \\//  \\\\\r\n",
      "            /0  0  \\__  /    //  | \\ \\    \r\n",
      "           /     /  \\/_/    //   |  \\  \\  \r\n",
      "           @_^_@'/   \\/_   //    |   \\   \\ \r\n",
      "           //_^_/     \\/_ //     |    \\    \\\r\n",
      "        ( //) |        \\///      |     \\     \\\r\n",
      "      ( / /) _|_ /   )  //       |      \\     _\\\r\n",
      "    ( // /) '/,_ _ _/  ( ; -.    |    _ _\\.-~        .-~~~^-.\r\n",
      "  (( / / )) ,-{        _      `-.|.-~-.           .~         `.\r\n",
      " (( // / ))  '/\\      /                 ~-. _ .-~      .-~^-.  \\\r\n",
      " (( /// ))      `.   {            }                   /      \\  \\\r\n",
      "  (( / ))     .----~-.\\        \\-'                 .~         \\  `. \\^-.\r\n",
      "             ///.----..>        \\             _ -~             `.  ^-`  ^-_\r\n",
      "               ///-._ _ _ _ _ _ _}^ - - - - ~                     ~-- ,.-~\r\n",
      "                                                                  /.-~\r\n"
     ]
    }
   ],
   "source": [
    "'''GENERAL'''\n",
    "import os\n",
    "import warnings\n",
    "#warnings.simplefilter('ignore')\n",
    "import random\n",
    "import collections\n",
    "import math\n",
    "import itertools\n",
    "import glob\n",
    "'''DATA'''\n",
    "import numpy as np\n",
    "import pandas as pd\n",
    "'''PLOT'''\n",
    "import matplotlib.pyplot as plt\n",
    "from matplotlib import rcParams\n",
    "rcParams.update({'figure.autolayout': True})\n",
    "plt.style.use('seaborn-pastel')\n",
    "font = {'size':16}\n",
    "import seaborn as sns\n",
    "'''STATS'''\n",
    "import statsmodels.api as sm\n",
    "'''SCIKIT LEARN'''\n",
    "from sklearn.preprocessing import PolynomialFeatures, StandardScaler\n",
    "from sklearn.model_selection import train_test_split, KFold, ShuffleSplit, cross_val_score, GridSearchCV, cross_val_predict\n",
    "from sklearn.metrics import confusion_matrix, accuracy_score, precision_score, recall_score, r2_score, mean_squared_error, classification_report, make_scorer, roc_curve, auc\n",
    "from sklearn.neighbors import KNeighborsClassifier, KNeighborsRegressor\n",
    "from sklearn.linear_model import LinearRegression, LogisticRegression, SGDClassifier\n",
    "from sklearn.ensemble import RandomForestClassifier, RandomForestRegressor, GradientBoostingRegressor, GradientBoostingClassifier, AdaBoostRegressor, AdaBoostClassifier\n",
    "from sklearn.cluster import KMeans\n",
    "'''TENSORFLOW'''\n",
    "from tensorflow import keras\n",
    "from tensorflow.keras.models import Sequential\n",
    "from tensorflow.keras.layers import Dense, Activation, Dropout\n",
    "from tensorflow.keras.preprocessing import text\n",
    "from tensorflow.keras import utils\n",
    "'''PALETTE'''\n",
    "twi = '#DCB8E7' #Pale, light grayish mulberry\n",
    "twi_blu = '#273873' #Dark sapphire blue\n",
    "twi_pur = '#662D8A' #Moderate purple\n",
    "twi_pnk = '#ED438D' #Brilliant raspberry\n",
    "'''RETURN'''\n",
    "!fortune | cowsay -f dragon\n"
   ]
  },
  {
   "cell_type": "markdown",
   "metadata": {},
   "source": [
    "# Processing\n",
    "\n",
    "I read in all of my csvs as on big dataframe so I can work with it easily."
   ]
  },
  {
   "cell_type": "code",
   "execution_count": 21,
   "metadata": {},
   "outputs": [
    {
     "data": {
      "text/plain": [
       "['data/raw/2019-06-20.csv',\n",
       " 'data/raw/2019-06-21.csv',\n",
       " 'data/raw/2019-06-22.csv',\n",
       " 'data/raw/2019-06-23.csv',\n",
       " 'data/raw/2019-06-24.csv']"
      ]
     },
     "execution_count": 21,
     "metadata": {},
     "output_type": "execute_result"
    }
   ],
   "source": [
    "# Gather list of raw data filenames\n",
    "raw = glob.glob(os.path.join('data/raw', '*.csv'))\n",
    "files = sorted(raw)\n",
    "files[-5:]"
   ]
  },
  {
   "cell_type": "code",
   "execution_count": 15,
   "metadata": {},
   "outputs": [
    {
     "data": {
      "text/plain": [
       "(1831760, 81)"
      ]
     },
     "execution_count": 15,
     "metadata": {},
     "output_type": "execute_result"
    }
   ],
   "source": [
    "# read in all files and concatanate\n",
    "df = pd.concat((pd.read_csv(f) for f in files))\n",
    "df.shape"
   ]
  },
  {
   "cell_type": "markdown",
   "metadata": {},
   "source": [
    "### Sampling\n",
    "\n",
    "18 million observations would take way too much computational power to work with, so I sample only the most recent data based on game version."
   ]
  },
  {
   "cell_type": "code",
   "execution_count": 17,
   "metadata": {},
   "outputs": [
    {
     "data": {
      "text/plain": [
       "'4.8.0'"
      ]
     },
     "execution_count": 17,
     "metadata": {},
     "output_type": "execute_result"
    }
   ],
   "source": [
    "# get the most recent game version\n",
    "sorted(df['game-ver'].unique())[-1]"
   ]
  },
  {
   "cell_type": "code",
   "execution_count": 17,
   "metadata": {},
   "outputs": [
    {
     "data": {
      "text/plain": [
       "56751"
      ]
     },
     "execution_count": 17,
     "metadata": {},
     "output_type": "execute_result"
    }
   ],
   "source": [
    "# check number of observations\n",
    "np.sum(df['game-ver']=='4.8.0')"
   ]
  },
  {
   "cell_type": "code",
   "execution_count": 18,
   "metadata": {},
   "outputs": [
    {
     "data": {
      "text/plain": [
       "(56751, 81)"
      ]
     },
     "execution_count": 18,
     "metadata": {},
     "output_type": "execute_result"
    }
   ],
   "source": [
    "# 57 thousand is plenty, so I decide to use it\n",
    "df = df[df['game-ver']=='4.8.0']\n",
    "df.shape"
   ]
  },
  {
   "cell_type": "markdown",
   "metadata": {},
   "source": [
    "### Feature Engineering\n",
    "\n",
    "My current data is one observation for each match, however since I want to draw conslusions on players and teams, I need to split each observation into two. Thankfully Splatoon 2 does not allow ties and I can always split each match into a winning team and losing team to avoid class imbalances."
   ]
  },
  {
   "cell_type": "code",
   "execution_count": 3,
   "metadata": {},
   "outputs": [],
   "source": [
    "def splatoon_explode(df):\n",
    "    \"\"\" \n",
    "    Explodes rows of stat.ink dataframes into one row for each team.\n",
    "    Feature names are hardcoded according to stat.ink conventions due to the sheer number of them.\n",
    "    Aggregates the data by taking the mean of the teammates.\n",
    "  \n",
    "    Parameters: \n",
    "    df (DataFrame): Pandas dataframe on which to explode\n",
    "  \n",
    "    Returns: \n",
    "    Dataframe: Exploded dataframe\n",
    "  \n",
    "    \"\"\"\n",
    "    # features for all players\n",
    "    shared = ['game-ver', 'lobby-mode', 'lobby', 'mode', 'stage']\n",
    "    # features for each team\n",
    "    team = ['kill', 'assist', 'death', 'special', 'inked', 'level']\n",
    "    a_team = ['A1-', 'A2-', 'A3-', 'A4-']\n",
    "    b_team = ['B1-', 'B2-', 'B3-', 'B4-']\n",
    "    for feat in team:\n",
    "        df['A'+feat[0]] = df[[player+feat for player in a_team]].mean(axis=1)\n",
    "        df['B'+feat[0]] = df[[player+feat for player in b_team]].mean(axis=1)       \n",
    "    # initialize temporary storage list\n",
    "    tmp = collections.deque()\n",
    "    # iterate through rows\n",
    "    for index, row in df.iterrows():\n",
    "        # get features common to both teams\n",
    "        both = row[shared].tolist()\n",
    "        # create team A row\n",
    "        tmp.append(both + row[['Ak', 'Aa', 'Ad', 'As', 'Ai', 'Al']].tolist() + [row.win == 'alpha'])\n",
    "        # create team B row\n",
    "        tmp.append(both + row[['Bk', 'Ba', 'Bd', 'Bs', 'Bi', 'Bl']].tolist() + [row.win == 'bravo'])\n",
    "    # create new column names, including the index of the match the data was from\n",
    "    new_cols = shared + ['kill', 'assist', 'death', 'special', 'inked', 'level', 'win']\n",
    "    # return new dataframe\n",
    "    return pd.DataFrame(list(tmp), columns=new_cols)"
   ]
  },
  {
   "cell_type": "markdown",
   "metadata": {},
   "source": [
    "The function takes a long time to run but outputs exactly what I want."
   ]
  },
  {
   "cell_type": "code",
   "execution_count": 4,
   "metadata": {},
   "outputs": [
    {
     "data": {
      "text/html": [
       "<div>\n",
       "<style scoped>\n",
       "    .dataframe tbody tr th:only-of-type {\n",
       "        vertical-align: middle;\n",
       "    }\n",
       "\n",
       "    .dataframe tbody tr th {\n",
       "        vertical-align: top;\n",
       "    }\n",
       "\n",
       "    .dataframe thead th {\n",
       "        text-align: right;\n",
       "    }\n",
       "</style>\n",
       "<table border=\"1\" class=\"dataframe\">\n",
       "  <thead>\n",
       "    <tr style=\"text-align: right;\">\n",
       "      <th></th>\n",
       "      <th>game-ver</th>\n",
       "      <th>lobby-mode</th>\n",
       "      <th>lobby</th>\n",
       "      <th>mode</th>\n",
       "      <th>stage</th>\n",
       "      <th>kill</th>\n",
       "      <th>assist</th>\n",
       "      <th>death</th>\n",
       "      <th>special</th>\n",
       "      <th>inked</th>\n",
       "      <th>level</th>\n",
       "      <th>win</th>\n",
       "    </tr>\n",
       "  </thead>\n",
       "  <tbody>\n",
       "    <tr>\n",
       "      <th>0</th>\n",
       "      <td>4.8.0</td>\n",
       "      <td>regular</td>\n",
       "      <td>standard</td>\n",
       "      <td>nawabari</td>\n",
       "      <td>ajifry</td>\n",
       "      <td>4.00</td>\n",
       "      <td>3.00</td>\n",
       "      <td>2.50</td>\n",
       "      <td>2.75</td>\n",
       "      <td>932.50</td>\n",
       "      <td>93.25</td>\n",
       "      <td>True</td>\n",
       "    </tr>\n",
       "    <tr>\n",
       "      <th>1</th>\n",
       "      <td>4.8.0</td>\n",
       "      <td>regular</td>\n",
       "      <td>standard</td>\n",
       "      <td>nawabari</td>\n",
       "      <td>ajifry</td>\n",
       "      <td>2.50</td>\n",
       "      <td>0.50</td>\n",
       "      <td>4.00</td>\n",
       "      <td>2.00</td>\n",
       "      <td>754.75</td>\n",
       "      <td>76.25</td>\n",
       "      <td>False</td>\n",
       "    </tr>\n",
       "    <tr>\n",
       "      <th>2</th>\n",
       "      <td>4.8.0</td>\n",
       "      <td>regular</td>\n",
       "      <td>standard</td>\n",
       "      <td>nawabari</td>\n",
       "      <td>ama</td>\n",
       "      <td>1.50</td>\n",
       "      <td>0.75</td>\n",
       "      <td>3.75</td>\n",
       "      <td>2.75</td>\n",
       "      <td>958.00</td>\n",
       "      <td>61.75</td>\n",
       "      <td>False</td>\n",
       "    </tr>\n",
       "    <tr>\n",
       "      <th>3</th>\n",
       "      <td>4.8.0</td>\n",
       "      <td>regular</td>\n",
       "      <td>standard</td>\n",
       "      <td>nawabari</td>\n",
       "      <td>ama</td>\n",
       "      <td>3.75</td>\n",
       "      <td>0.25</td>\n",
       "      <td>1.75</td>\n",
       "      <td>3.75</td>\n",
       "      <td>1020.25</td>\n",
       "      <td>157.00</td>\n",
       "      <td>True</td>\n",
       "    </tr>\n",
       "    <tr>\n",
       "      <th>4</th>\n",
       "      <td>4.8.0</td>\n",
       "      <td>gachi</td>\n",
       "      <td>standard</td>\n",
       "      <td>hoko</td>\n",
       "      <td>manta</td>\n",
       "      <td>7.00</td>\n",
       "      <td>2.00</td>\n",
       "      <td>8.25</td>\n",
       "      <td>2.75</td>\n",
       "      <td>1016.25</td>\n",
       "      <td>329.50</td>\n",
       "      <td>False</td>\n",
       "    </tr>\n",
       "  </tbody>\n",
       "</table>\n",
       "</div>"
      ],
      "text/plain": [
       "  game-ver lobby-mode     lobby      mode   stage  kill  assist  death  \\\n",
       "0    4.8.0    regular  standard  nawabari  ajifry  4.00    3.00   2.50   \n",
       "1    4.8.0    regular  standard  nawabari  ajifry  2.50    0.50   4.00   \n",
       "2    4.8.0    regular  standard  nawabari     ama  1.50    0.75   3.75   \n",
       "3    4.8.0    regular  standard  nawabari     ama  3.75    0.25   1.75   \n",
       "4    4.8.0      gachi  standard      hoko   manta  7.00    2.00   8.25   \n",
       "\n",
       "   special    inked   level    win  \n",
       "0     2.75   932.50   93.25   True  \n",
       "1     2.00   754.75   76.25  False  \n",
       "2     2.75   958.00   61.75  False  \n",
       "3     3.75  1020.25  157.00   True  \n",
       "4     2.75  1016.25  329.50  False  "
      ]
     },
     "execution_count": 4,
     "metadata": {},
     "output_type": "execute_result"
    }
   ],
   "source": [
    "df = splatoon_explode(df)\n",
    "df.head()"
   ]
  },
  {
   "cell_type": "markdown",
   "metadata": {},
   "source": [
    "Thanks to the clean data I am using, I do not have any missing values to deal with. If nessecary, I have plenty of observations to drop rows with missing values."
   ]
  },
  {
   "cell_type": "code",
   "execution_count": 19,
   "metadata": {},
   "outputs": [
    {
     "data": {
      "text/plain": [
       "game-ver      0\n",
       "lobby-mode    0\n",
       "lobby         0\n",
       "mode          0\n",
       "stage         0\n",
       "kill          0\n",
       "assist        0\n",
       "death         0\n",
       "special       0\n",
       "inked         0\n",
       "level         0\n",
       "win           0\n",
       "dtype: int64"
      ]
     },
     "execution_count": 19,
     "metadata": {},
     "output_type": "execute_result"
    }
   ],
   "source": [
    "np.sum(df.isnull())"
   ]
  },
  {
   "cell_type": "markdown",
   "metadata": {},
   "source": [
    "Save the dataframe to pickle so I do not have to run that function every time."
   ]
  },
  {
   "cell_type": "code",
   "execution_count": 55,
   "metadata": {},
   "outputs": [],
   "source": [
    "# save as pickle\n",
    "# df.to_pickle('data/teams.pkl')\n",
    "# load from pickle for future notebook use\n",
    "df = pd.read_pickle('data/teams.pkl')"
   ]
  },
  {
   "cell_type": "markdown",
   "metadata": {},
   "source": [
    "# EDA\n",
    "\n",
    "Attempted to start with a heatmap, but dataset was too large and took very long to run."
   ]
  },
  {
   "cell_type": "code",
   "execution_count": 2,
   "metadata": {},
   "outputs": [],
   "source": [
    "# corr = df[['kill', 'assist', 'death', 'special', 'inked', 'level']]\n",
    "# sns.heatmap(corr, xticklabels=corr.columns, yticklabels=corr.columns, annot=True, cmap=\"coolwarm\");"
   ]
  },
  {
   "cell_type": "markdown",
   "metadata": {},
   "source": [
    "### Overlapping Histograms\n",
    "\n",
    "Due to this being a pivot from my original project, I needed to quickly determine if I could make predictions using these new features. These histograms are not pretty, but they were never meant for presentation."
   ]
  },
  {
   "cell_type": "code",
   "execution_count": 42,
   "metadata": {},
   "outputs": [],
   "source": [
    "def hist_plotter(col, df=df):\n",
    "    '''\n",
    "    A simple overlapping histogram plotter with too many hard-coded variables.\n",
    "    \n",
    "    Input:\n",
    "    col (str): name of collumn to plot histogram of\n",
    "    df (dataframe): dataframe containing data to plot with and a win column to split on\n",
    "    \n",
    "    Output:\n",
    "    None: displays a plot on jupyter notebook\n",
    "    '''\n",
    "    win = df[df.win == True][col].tolist()\n",
    "    lose = df[df.win == False][col].tolist()\n",
    "    plt.figure(figsize=(12, 6))\n",
    "    plt.hist(lose, label = 'lose', color = 'r', alpha = .4)\n",
    "    plt.hist(win, label = 'win', color = 'b', alpha = .4)\n",
    "    plt.title(col)\n",
    "    plt.legend()\n",
    "    return None"
   ]
  },
  {
   "cell_type": "code",
   "execution_count": 49,
   "metadata": {},
   "outputs": [
    {
     "data": {
      "image/png": "[encoded data removed]",
      "text/plain": [
       "<Figure size 864x432 with 1 Axes>"
      ]
     },
     "metadata": {
      "needs_background": "light"
     },
     "output_type": "display_data"
    }
   ],
   "source": [
    "hist_plotter('kill')\n",
    "plt.savefig('img/kill.png')"
   ]
  },
  {
   "cell_type": "code",
   "execution_count": 50,
   "metadata": {},
   "outputs": [
    {
     "data": {
      "image/png": "[encoded data removed]",
      "text/plain": [
       "<Figure size 864x432 with 1 Axes>"
      ]
     },
     "metadata": {
      "needs_background": "light"
     },
     "output_type": "display_data"
    }
   ],
   "source": [
    "hist_plotter('assist')\n",
    "plt.savefig('img/assist.png')"
   ]
  },
  {
   "cell_type": "code",
   "execution_count": 45,
   "metadata": {},
   "outputs": [
    {
     "data": {
      "image/png": "[encoded data removed]",
      "text/plain": [
       "<Figure size 864x432 with 1 Axes>"
      ]
     },
     "metadata": {
      "needs_background": "light"
     },
     "output_type": "display_data"
    }
   ],
   "source": [
    "hist_plotter('death')"
   ]
  },
  {
   "cell_type": "code",
   "execution_count": 46,
   "metadata": {},
   "outputs": [
    {
     "data": {
      "image/png": "[encoded data removed]",
      "text/plain": [
       "<Figure size 864x432 with 1 Axes>"
      ]
     },
     "metadata": {
      "needs_background": "light"
     },
     "output_type": "display_data"
    }
   ],
   "source": [
    "hist_plotter('special')"
   ]
  },
  {
   "cell_type": "code",
   "execution_count": 51,
   "metadata": {},
   "outputs": [
    {
     "data": {
      "image/png": "[encoded data removed]",
      "text/plain": [
       "<Figure size 864x432 with 1 Axes>"
      ]
     },
     "metadata": {
      "needs_background": "light"
     },
     "output_type": "display_data"
    }
   ],
   "source": [
    "hist_plotter('inked')\n",
    "plt.savefig('img/inked.png')"
   ]
  },
  {
   "cell_type": "code",
   "execution_count": 48,
   "metadata": {},
   "outputs": [
    {
     "data": {
      "image/png": "[encoded data removed]",
      "text/plain": [
       "<Figure size 864x432 with 1 Axes>"
      ]
     },
     "metadata": {
      "needs_background": "light"
     },
     "output_type": "display_data"
    }
   ],
   "source": [
    "hist_plotter('level')"
   ]
  },
  {
   "cell_type": "markdown",
   "metadata": {},
   "source": [
    "# Modeling\n",
    "\n",
    "I first make dummies of my categorical data and standardize my numerical data. Then I train test split with 1/3 as the test set as I have plenty of observations."
   ]
  },
  {
   "cell_type": "code",
   "execution_count": 56,
   "metadata": {},
   "outputs": [
    {
     "name": "stderr",
     "output_type": "stream",
     "text": [
      "/anaconda3/lib/python3.7/site-packages/sklearn/preprocessing/data.py:645: DataConversionWarning: Data with input dtype uint8, float64 were all converted to float64 by StandardScaler.\n",
      "  return self.partial_fit(X, y)\n",
      "/anaconda3/lib/python3.7/site-packages/sklearn/base.py:464: DataConversionWarning: Data with input dtype uint8, float64 were all converted to float64 by StandardScaler.\n",
      "  return self.fit(X, **fit_params).transform(X)\n"
     ]
    }
   ],
   "source": [
    "# split into features and label\n",
    "X = df[['mode', 'kill', 'assist', 'death', 'special', 'inked', 'level']]\n",
    "y = df['win']\n",
    "# make dummies of game type\n",
    "X = pd.get_dummies(X)\n",
    "# standardize X\n",
    "scaler = StandardScaler()\n",
    "X = scaler.fit_transform(X)\n",
    "# train test split\n",
    "X_train, X_test, y_train, y_test = train_test_split(X, y, test_size=0.33, random_state=0)"
   ]
  },
  {
   "cell_type": "markdown",
   "metadata": {},
   "source": [
    "### Logistic Regression\n",
    "\n",
    "The simplest model, but suprisingly accurate and easy to understand."
   ]
  },
  {
   "cell_type": "code",
   "execution_count": 61,
   "metadata": {},
   "outputs": [
    {
     "data": {
      "text/plain": [
       "0.8019275950448527"
      ]
     },
     "execution_count": 61,
     "metadata": {},
     "output_type": "execute_result"
    }
   ],
   "source": [
    "lr = LogisticRegression(penalty='l1', solver='saga')\n",
    "lr.fit(X_train, y_train)\n",
    "lr.score(X_test, y_test)"
   ]
  },
  {
   "cell_type": "markdown",
   "metadata": {},
   "source": [
    "### Random Forest\n",
    "\n",
    "Suprisingly only did a little better than logistic regression, granted I did not spend too much time tuning the hyperparameters."
   ]
  },
  {
   "cell_type": "code",
   "execution_count": 59,
   "metadata": {},
   "outputs": [
    {
     "data": {
      "text/plain": [
       "0.8022212729602733"
      ]
     },
     "execution_count": 59,
     "metadata": {},
     "output_type": "execute_result"
    }
   ],
   "source": [
    "rf = RandomForestClassifier(n_estimators=100, max_depth=20)\n",
    "rf.fit(X_train, y_train)\n",
    "rf.score(X_test, y_test)"
   ]
  },
  {
   "cell_type": "markdown",
   "metadata": {},
   "source": [
    "### Gradient Boosting\n",
    "\n",
    "Even using a gridsearch to tune hyperparameters, it only managed less than 0.002 better accuracy than the logistic regression."
   ]
  },
  {
   "cell_type": "code",
   "execution_count": 129,
   "metadata": {},
   "outputs": [
    {
     "data": {
      "text/plain": [
       "0.8042236223835968"
      ]
     },
     "execution_count": 129,
     "metadata": {},
     "output_type": "execute_result"
    }
   ],
   "source": [
    "gb = GradientBoostingClassifier(learning_rate=0.05, n_estimators=1000, subsample=0.5, max_depth=3,\n",
    "                                min_impurity_decrease=0)\n",
    "gb.fit(X_train, y_train)\n",
    "gb.score(X_test, y_test)"
   ]
  },
  {
   "cell_type": "code",
   "execution_count": 110,
   "metadata": {},
   "outputs": [
    {
     "name": "stdout",
     "output_type": "stream",
     "text": [
      "Fitting 3 folds for each of 108 candidates, totalling 324 fits\n"
     ]
    },
    {
     "name": "stderr",
     "output_type": "stream",
     "text": [
      "[Parallel(n_jobs=-1)]: Using backend LokyBackend with 4 concurrent workers.\n",
      "[Parallel(n_jobs=-1)]: Done  42 tasks      | elapsed:  7.1min\n",
      "[Parallel(n_jobs=-1)]: Done 192 tasks      | elapsed: 13.8min\n",
      "[Parallel(n_jobs=-1)]: Done 324 out of 324 | elapsed: 18.5min finished\n"
     ]
    },
    {
     "name": "stdout",
     "output_type": "stream",
     "text": [
      "best parameters: {'learning_rate': 0.05, 'max_depth': 3, 'min_impurity_decrease': 0, 'n_estimators': 1000, 'random_state': 1, 'subsample': 0.5}\n"
     ]
    }
   ],
   "source": [
    "gdbr_grid = {'learning_rate': [0.01, 0.05, 0.1],\n",
    "             'max_depth': [10, 3, 1],\n",
    "             'subsample': [1, 0.5],\n",
    "             'min_impurity_decrease': [0, 0.01],\n",
    "             'n_estimators': [1000, 100, 10],\n",
    "             'random_state': [1]}\n",
    "\n",
    "gdbr_gridsearch = GridSearchCV(GradientBoostingClassifier(),\n",
    "                               gdbr_grid,\n",
    "                               n_jobs=-1,\n",
    "                               cv = 3,\n",
    "                               verbose=True,\n",
    "                               scoring='accuracy')\n",
    "gdbr_gridsearch.fit(X_train, y_train)\n",
    "\n",
    "print(\"best parameters:\", gdbr_gridsearch.best_params_)"
   ]
  },
  {
   "cell_type": "markdown",
   "metadata": {},
   "source": [
    "### Neural Network\n",
    "\n",
    "After spending a lot of time manually tuning hyperparameters I finally managed to get a step up from the logistic regression. I would choose this if I wanted a purely predictive model but will still stick to the logistic regression as I can better draw inferences with it."
   ]
  },
  {
   "cell_type": "code",
   "execution_count": 74,
   "metadata": {},
   "outputs": [
    {
     "name": "stdout",
     "output_type": "stream",
     "text": [
      "Train on 76046 samples\n",
      "Epoch 1/5\n",
      "76046/76046 [==============================] - 2s 25us/sample - loss: 0.5088 - accuracy: 0.7480\n",
      "Epoch 2/5\n",
      "76046/76046 [==============================] - 2s 22us/sample - loss: 0.4203 - accuracy: 0.8054\n",
      "Epoch 3/5\n",
      "76046/76046 [==============================] - 2s 23us/sample - loss: 0.4138 - accuracy: 0.8063\n",
      "Epoch 4/5\n",
      "76046/76046 [==============================] - 2s 23us/sample - loss: 0.4114 - accuracy: 0.8063\n",
      "Epoch 5/5\n",
      "76046/76046 [==============================] - 2s 22us/sample - loss: 0.4101 - accuracy: 0.8065\n"
     ]
    },
    {
     "data": {
      "text/plain": [
       "<tensorflow.python.keras.callbacks.History at 0x1a4ff0d2e8>"
      ]
     },
     "execution_count": 74,
     "metadata": {},
     "output_type": "execute_result"
    }
   ],
   "source": [
    "model = Sequential()\n",
    "model.add(Dense(units=10, input_shape=(X_train.shape[1],)))\n",
    "model.add(Activation('relu'))\n",
    "model.add(Dense(2))\n",
    "model.add(Activation('softmax'))\n",
    "\n",
    "model.compile(loss='sparse_categorical_crossentropy', optimizer='adam', metrics=['accuracy'])\n",
    "\n",
    "model.fit(X_train, y_train, epochs=5, batch_size=50)"
   ]
  },
  {
   "cell_type": "code",
   "execution_count": 75,
   "metadata": {},
   "outputs": [
    {
     "name": "stdout",
     "output_type": "stream",
     "text": [
      "0.8053449380606579 0.8022018737098396 0.8100481026189204\n"
     ]
    },
    {
     "data": {
      "text/plain": [
       "array([[15009,  3737],\n",
       "       [ 3554, 15156]])"
      ]
     },
     "execution_count": 75,
     "metadata": {},
     "output_type": "execute_result"
    }
   ],
   "source": [
    "# generate metrics based on prediction\n",
    "y_pred = model.predict_classes(X_test)\n",
    "print(accuracy_score(y_test, y_pred), precision_score(y_test, y_pred), recall_score(y_test, y_pred))\n",
    "confusion_matrix(y_test, y_pred)"
   ]
  },
  {
   "cell_type": "markdown",
   "metadata": {},
   "source": [
    "# Drawing inferences\n",
    "\n",
    "### Effect Size with Inferential Regression\n",
    "\n",
    "The Linear Regression Assumptions:\n",
    "- Linearity\n",
    "    - My logistic regression model does almost well as Gradient Boosting and Neural Net. This would not be true if the data was not linear.\n",
    "- Linear Independence\n",
    "    - Predictors chosen in a way that do not overlap, Kill-Assist was not chosen for this reason.\n",
    "- Independence\n",
    "    - Given a large enough sample of matches and 8 players per match, they should be independent even if they were uploaded by a small sample of players.\n",
    "- Homoscedasticity\n",
    "    - Data has similar distributions across both classes.\n",
    "- Normal Distribution of Errors\n",
    "    - There should be minimal error due to data being directly exported from the game API."
   ]
  },
  {
   "cell_type": "code",
   "execution_count": 62,
   "metadata": {},
   "outputs": [
    {
     "data": {
      "text/plain": [
       "0.8019275950448527"
      ]
     },
     "execution_count": 62,
     "metadata": {},
     "output_type": "execute_result"
    }
   ],
   "source": [
    "# copied over the logist regression model from earlier\n",
    "lr = LogisticRegression(penalty='l1', solver='saga', n_jobs=-1)\n",
    "lr.fit(X_train, y_train)\n",
    "lr.score(X_test, y_test)"
   ]
  },
  {
   "cell_type": "markdown",
   "metadata": {},
   "source": [
    "Next I plot a ROC curver to visualize how well my model is doing."
   ]
  },
  {
   "cell_type": "code",
   "execution_count": 68,
   "metadata": {},
   "outputs": [
    {
     "data": {
      "image/png": "[encoded data removed]",
      "text/plain": [
       "<Figure size 576x432 with 1 Axes>"
      ]
     },
     "metadata": {
      "needs_background": "light"
     },
     "output_type": "display_data"
    }
   ],
   "source": [
    "# predict probabilities using previous model\n",
    "y_prob = lr.predict_proba(X_test)\n",
    "# use sklearn's roc_curve and auc functions to generate datapoints\n",
    "fpr, tpr, thresholds = roc_curve(y_test, y_prob[:,1])\n",
    "roc_auc = auc(fpr, tpr)\n",
    "# plot the data\n",
    "plt.figure(figsize=(8, 6))\n",
    "plt.plot(fpr, tpr, lw=1, label='ROC', color=twi_pur)\n",
    "plt.plot([0, 1], [0, 1], '--', color='#777777', label='Baseline')\n",
    "plt.xlim([-0.05, 1.05])\n",
    "plt.ylim([-0.05, 1.05])\n",
    "plt.xlabel('False Positive Rate', fontsize=14)\n",
    "plt.ylabel('True Positive Rate', fontsize=14)\n",
    "plt.title('Receiver Operating Characteristic', fontsize=18)\n",
    "plt.legend(loc=\"lower right\", fontsize=12)\n",
    "plt.savefig('img/roc.png');"
   ]
  },
  {
   "cell_type": "markdown",
   "metadata": {},
   "source": [
    "With a decent accuracy and ROC curve, I can move on to the next step of looking at the coeficents."
   ]
  },
  {
   "cell_type": "code",
   "execution_count": 74,
   "metadata": {},
   "outputs": [
    {
     "name": "stderr",
     "output_type": "stream",
     "text": [
      "/anaconda3/lib/python3.7/site-packages/matplotlib/figure.py:2369: UserWarning: This figure includes Axes that are not compatible with tight_layout, so results might be incorrect.\n",
      "  warnings.warn(\"This figure includes Axes that are not compatible \"\n"
     ]
    },
    {
     "data": {
      "image/png": "[encoded data removed]",
      "text/plain": [
       "<Figure size 576x432 with 1 Axes>"
      ]
     },
     "metadata": {
      "needs_background": "light"
     },
     "output_type": "display_data"
    }
   ],
   "source": [
    "# manually name columns\n",
    "cols = ['Kill', 'Assist', 'Death', 'Special', 'Inked', 'Level', 'Game: Splat Zones',\n",
    "       'Game: Clam Blitz', 'Game: Rainmaker', 'Game: Turf War', 'Game: Tower Control']\n",
    "#get coeficients\n",
    "values = np.abs(lr.coef_.flatten().tolist())\n",
    "# plot coeficients\n",
    "data = [list(x) for x in zip(*sorted(zip(cols, values), key=lambda pair: pair[1]))]\n",
    "plt.figure(figsize=(8, 6))\n",
    "plt.barh(data[0], data[1], color=twi)\n",
    "plt.title(\"Coeficients in Logistic Regression\", fontsize=18)\n",
    "plt.xlabel('Absolute Value of Coeficient', fontsize=14)\n",
    "plt.ylabel('Feature Name', fontsize=14)\n",
    "plt.savefig('img/coef.png');"
   ]
  },
  {
   "cell_type": "markdown",
   "metadata": {},
   "source": [
    "It seems like death and kill are the most im portant by a large margin, no suprise there. However it does appear that death (not dying) is more impoetant than getting kills. Inked and special are also good and it is interesting that inked is more important than special because one of the main motivations for inking is to build special meter.\n",
    "\n",
    "I will now use statsmodel to get the pvalues of the coeficients."
   ]
  },
  {
   "cell_type": "code",
   "execution_count": 76,
   "metadata": {},
   "outputs": [
    {
     "name": "stdout",
     "output_type": "stream",
     "text": [
      "Optimization terminated successfully.\n",
      "         Current function value: 0.433935\n",
      "         Iterations 7\n"
     ]
    },
    {
     "data": {
      "text/html": [
       "<table class=\"simpletable\">\n",
       "<caption>Logit Regression Results</caption>\n",
       "<tr>\n",
       "  <th>Dep. Variable:</th>        <td>win</td>       <th>  No. Observations:  </th>  <td> 76046</td> \n",
       "</tr>\n",
       "<tr>\n",
       "  <th>Model:</th>               <td>Logit</td>      <th>  Df Residuals:      </th>  <td> 76035</td> \n",
       "</tr>\n",
       "<tr>\n",
       "  <th>Method:</th>               <td>MLE</td>       <th>  Df Model:          </th>  <td>    10</td> \n",
       "</tr>\n",
       "<tr>\n",
       "  <th>Date:</th>          <td>Tue, 02 Jul 2019</td> <th>  Pseudo R-squ.:     </th>  <td>0.3740</td> \n",
       "</tr>\n",
       "<tr>\n",
       "  <th>Time:</th>              <td>16:24:51</td>     <th>  Log-Likelihood:    </th> <td> -32999.</td>\n",
       "</tr>\n",
       "<tr>\n",
       "  <th>converged:</th>           <td>True</td>       <th>  LL-Null:           </th> <td> -52711.</td>\n",
       "</tr>\n",
       "<tr>\n",
       "  <th> </th>                      <td> </td>        <th>  LLR p-value:       </th>  <td> 0.000</td> \n",
       "</tr>\n",
       "</table>\n",
       "<table class=\"simpletable\">\n",
       "<tr>\n",
       "    <td></td>       <th>coef</th>     <th>std err</th>      <th>z</th>      <th>P>|z|</th>  <th>[0.025</th>    <th>0.975]</th>  \n",
       "</tr>\n",
       "<tr>\n",
       "  <th>const</th> <td>   -0.0129</td> <td>    0.010</td> <td>   -1.322</td> <td> 0.186</td> <td>   -0.032</td> <td>    0.006</td>\n",
       "</tr>\n",
       "<tr>\n",
       "  <th>x1</th>    <td>    2.4127</td> <td>    0.023</td> <td>  104.525</td> <td> 0.000</td> <td>    2.367</td> <td>    2.458</td>\n",
       "</tr>\n",
       "<tr>\n",
       "  <th>x2</th>    <td>   -0.0627</td> <td>    0.015</td> <td>   -4.108</td> <td> 0.000</td> <td>   -0.093</td> <td>   -0.033</td>\n",
       "</tr>\n",
       "<tr>\n",
       "  <th>x3</th>    <td>   -2.7575</td> <td>    0.022</td> <td> -127.378</td> <td> 0.000</td> <td>   -2.800</td> <td>   -2.715</td>\n",
       "</tr>\n",
       "<tr>\n",
       "  <th>x4</th>    <td>   -0.4411</td> <td>    0.022</td> <td>  -19.808</td> <td> 0.000</td> <td>   -0.485</td> <td>   -0.397</td>\n",
       "</tr>\n",
       "<tr>\n",
       "  <th>x5</th>    <td>    0.6896</td> <td>    0.026</td> <td>   26.468</td> <td> 0.000</td> <td>    0.639</td> <td>    0.741</td>\n",
       "</tr>\n",
       "<tr>\n",
       "  <th>x6</th>    <td>    0.0132</td> <td>    0.010</td> <td>    1.258</td> <td> 0.209</td> <td>   -0.007</td> <td>    0.034</td>\n",
       "</tr>\n",
       "<tr>\n",
       "  <th>x7</th>    <td>    0.0006</td> <td>  3.7e+05</td> <td> 1.71e-09</td> <td> 1.000</td> <td>-7.26e+05</td> <td> 7.26e+05</td>\n",
       "</tr>\n",
       "<tr>\n",
       "  <th>x8</th>    <td>   -0.0055</td> <td> 2.81e+05</td> <td>-1.94e-08</td> <td> 1.000</td> <td>-5.51e+05</td> <td> 5.51e+05</td>\n",
       "</tr>\n",
       "<tr>\n",
       "  <th>x9</th>    <td>    0.0176</td> <td> 3.35e+05</td> <td> 5.25e-08</td> <td> 1.000</td> <td>-6.56e+05</td> <td> 6.56e+05</td>\n",
       "</tr>\n",
       "<tr>\n",
       "  <th>x10</th>   <td>   -0.1312</td> <td> 4.01e+05</td> <td>-3.27e-07</td> <td> 1.000</td> <td>-7.86e+05</td> <td> 7.86e+05</td>\n",
       "</tr>\n",
       "<tr>\n",
       "  <th>x11</th>   <td>    0.1424</td> <td> 3.37e+05</td> <td> 4.23e-07</td> <td> 1.000</td> <td> -6.6e+05</td> <td>  6.6e+05</td>\n",
       "</tr>\n",
       "</table>"
      ],
      "text/plain": [
       "<class 'statsmodels.iolib.summary.Summary'>\n",
       "\"\"\"\n",
       "                           Logit Regression Results                           \n",
       "==============================================================================\n",
       "Dep. Variable:                    win   No. Observations:                76046\n",
       "Model:                          Logit   Df Residuals:                    76035\n",
       "Method:                           MLE   Df Model:                           10\n",
       "Date:                Tue, 02 Jul 2019   Pseudo R-squ.:                  0.3740\n",
       "Time:                        16:24:51   Log-Likelihood:                -32999.\n",
       "converged:                       True   LL-Null:                       -52711.\n",
       "                                        LLR p-value:                     0.000\n",
       "==============================================================================\n",
       "                 coef    std err          z      P>|z|      [0.025      0.975]\n",
       "------------------------------------------------------------------------------\n",
       "const         -0.0129      0.010     -1.322      0.186      -0.032       0.006\n",
       "x1             2.4127      0.023    104.525      0.000       2.367       2.458\n",
       "x2            -0.0627      0.015     -4.108      0.000      -0.093      -0.033\n",
       "x3            -2.7575      0.022   -127.378      0.000      -2.800      -2.715\n",
       "x4            -0.4411      0.022    -19.808      0.000      -0.485      -0.397\n",
       "x5             0.6896      0.026     26.468      0.000       0.639       0.741\n",
       "x6             0.0132      0.010      1.258      0.209      -0.007       0.034\n",
       "x7             0.0006    3.7e+05   1.71e-09      1.000   -7.26e+05    7.26e+05\n",
       "x8            -0.0055   2.81e+05  -1.94e-08      1.000   -5.51e+05    5.51e+05\n",
       "x9             0.0176   3.35e+05   5.25e-08      1.000   -6.56e+05    6.56e+05\n",
       "x10           -0.1312   4.01e+05  -3.27e-07      1.000   -7.86e+05    7.86e+05\n",
       "x11            0.1424   3.37e+05   4.23e-07      1.000    -6.6e+05     6.6e+05\n",
       "==============================================================================\n",
       "\"\"\""
      ]
     },
     "execution_count": 76,
     "metadata": {},
     "output_type": "execute_result"
    }
   ],
   "source": [
    "# add a constant to training data\n",
    "X_train_c = sm.add_constant(X_train)\n",
    "# fit statsmodel logistic regression\n",
    "logit = sm.Logit(y_train, X_train_c)\n",
    "res = logit.fit()\n",
    "res.summary()"
   ]
  },
  {
   "cell_type": "markdown",
   "metadata": {},
   "source": [
    "It seems all the all the features up to the 5th have extremely low p-values and thus are good predictors. This means that level and game mode are poor predictors, which was evidenced by their low coeficients."
   ]
  },
  {
   "cell_type": "markdown",
   "metadata": {},
   "source": [
    "### Feature importance with Gradient Boosting\n",
    "\n",
    "My gradient boosting model was a litte more accurate than my logistic regression, and while it is not as easy to understand as the coeficients from logistic, I can still make inferences using feature importance."
   ]
  },
  {
   "cell_type": "code",
   "execution_count": 80,
   "metadata": {},
   "outputs": [
    {
     "data": {
      "text/plain": [
       "0.8034226826142674"
      ]
     },
     "execution_count": 80,
     "metadata": {},
     "output_type": "execute_result"
    }
   ],
   "source": [
    "# reuse the model from before\n",
    "gb = GradientBoostingClassifier(learning_rate=0.05, n_estimators=1000, subsample=0.5, max_depth=3,\n",
    "                                min_impurity_decrease=0)\n",
    "gb.fit(X_train, y_train)\n",
    "gb.score(X_test, y_test)"
   ]
  },
  {
   "cell_type": "code",
   "execution_count": 87,
   "metadata": {},
   "outputs": [],
   "source": [
    "# a function taken from a galvanize lecture that was shodilly modified for my purposes\n",
    "def feat_importance(model_opt, names):\n",
    "    feature_importances = 100*model_opt.feature_importances_ / np.sum(model_opt.feature_importances_)\n",
    "    feature_importances, feature_names, feature_idxs = \\\n",
    "    zip(*sorted(zip(feature_importances, names, range(len(names)))))\n",
    "    idx = np.arange(len(names))\n",
    "    plt.figure(figsize=(8, 6))\n",
    "    plt.barh(idx, feature_importances, align='center', color=twi)\n",
    "    plt.yticks(idx, feature_names)\n",
    "    plt.title(\"Feature Importance in Gradient Boosting Classifier\", fontsize=18)\n",
    "    plt.xlabel('Relative Importance of Feature', fontsize=14)\n",
    "    plt.ylabel('Feature Name', fontsize=14);"
   ]
  },
  {
   "cell_type": "code",
   "execution_count": 89,
   "metadata": {},
   "outputs": [
    {
     "name": "stderr",
     "output_type": "stream",
     "text": [
      "/anaconda3/lib/python3.7/site-packages/matplotlib/figure.py:2369: UserWarning: This figure includes Axes that are not compatible with tight_layout, so results might be incorrect.\n",
      "  warnings.warn(\"This figure includes Axes that are not compatible \"\n"
     ]
    },
    {
     "data": {
      "image/png": "[encoded data removed]",
      "text/plain": [
       "<Figure size 576x432 with 1 Axes>"
      ]
     },
     "metadata": {
      "needs_background": "light"
     },
     "output_type": "display_data"
    }
   ],
   "source": [
    "feat_importance(gb, cols)\n",
    "plt.savefig('img/feat.png')"
   ]
  },
  {
   "cell_type": "markdown",
   "metadata": {},
   "source": [
    "Deaths and kills are also the most important here, however they are more evenly weighted. Inked has droped in proportional importance but is still 3rd and handily beats special. Surprisingly, level is now a relatively useful predictor, indicating that it may have a nonlinear correlaton to win rate."
   ]
  },
  {
   "cell_type": "code",
   "execution_count": null,
   "metadata": {},
   "outputs": [],
   "source": []
  }
 ],
 "metadata": {
  "kernelspec": {
   "display_name": "Python 3",
   "language": "python",
   "name": "python3"
  },
  "language_info": {
   "codemirror_mode": {
    "name": "ipython",
    "version": 3
   },
   "file_extension": ".py",
   "mimetype": "text/x-python",
   "name": "python",
   "nbconvert_exporter": "python",
   "pygments_lexer": "ipython3",
   "version": "3.7.3"
  }
 },
 "nbformat": 4,
 "nbformat_minor": 2
}
