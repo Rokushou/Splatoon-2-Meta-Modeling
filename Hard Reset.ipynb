{
 "cells": [
  {
   "cell_type": "code",
   "execution_count": 13,
   "metadata": {},
   "outputs": [
    {
     "name": "stdout",
     "output_type": "stream",
     "text": [
      " _____________________________ \r\n",
      "/ \"It's kind of fun to do the \\\r\n",
      "| impossible.\"                |\r\n",
      "|                             |\r\n",
      "\\ -- Walt Disney              /\r\n",
      " ----------------------------- \r\n",
      "      \\                    / \\  //\\\r\n",
      "       \\    |\\___/|      /   \\//  \\\\\r\n",
      "            /0  0  \\__  /    //  | \\ \\    \r\n",
      "           /     /  \\/_/    //   |  \\  \\  \r\n",
      "           @_^_@'/   \\/_   //    |   \\   \\ \r\n",
      "           //_^_/     \\/_ //     |    \\    \\\r\n",
      "        ( //) |        \\///      |     \\     \\\r\n",
      "      ( / /) _|_ /   )  //       |      \\     _\\\r\n",
      "    ( // /) '/,_ _ _/  ( ; -.    |    _ _\\.-~        .-~~~^-.\r\n",
      "  (( / / )) ,-{        _      `-.|.-~-.           .~         `.\r\n",
      " (( // / ))  '/\\      /                 ~-. _ .-~      .-~^-.  \\\r\n",
      " (( /// ))      `.   {            }                   /      \\  \\\r\n",
      "  (( / ))     .----~-.\\        \\-'                 .~         \\  `. \\^-.\r\n",
      "             ///.----..>        \\             _ -~             `.  ^-`  ^-_\r\n",
      "               ///-._ _ _ _ _ _ _}^ - - - - ~                     ~-- ,.-~\r\n",
      "                                                                  /.-~\r\n"
     ]
    }
   ],
   "source": [
    "# %load src/header.py\n",
    "'''LOAD'''\n",
    "# %load /Users/rokushou/Desktop/header.py\n",
    "'''GENERAL'''\n",
    "import os\n",
    "#import time\n",
    "#import timeit\n",
    "#import warnings\n",
    "#warnings.simplefilter('ignore')\n",
    "import random\n",
    "import collections\n",
    "#import secrets\n",
    "import math\n",
    "import itertools\n",
    "import glob\n",
    "'''DATA'''\n",
    "import numpy as np\n",
    "import pandas as pd\n",
    "# import databricks.koalas as ks\n",
    "'''MONGO'''\n",
    "#from pymongo import MongoClient\n",
    "'''PLOT'''\n",
    "import matplotlib.pyplot as plt\n",
    "plt.style.use('seaborn-pastel')\n",
    "font = {'size':16}\n",
    "import seaborn as sns\n",
    "'''SCIPY/STATS'''\n",
    "#import scipy.stats as scs\n",
    "# from scipy.optimize import nnls\n",
    "#import statsmodels.api as sm\n",
    "'''SCIKIT LEARN'''\n",
    "#from sklearn.datasets import make_classification, load_iris, load_boston, load_digits\n",
    "#from sklearn.pipeline import Pipeline\n",
    "from sklearn.preprocessing import PolynomialFeatures, StandardScaler\n",
    "from sklearn.model_selection import train_test_split, KFold, ShuffleSplit, cross_val_score, GridSearchCV, cross_val_predict\n",
    "from sklearn.metrics import confusion_matrix, accuracy_score, precision_score, recall_score, r2_score, mean_squared_error, classification_report, make_scorer\n",
    "from sklearn.neighbors import KNeighborsClassifier, KNeighborsRegressor\n",
    "from sklearn.linear_model import LinearRegression, LogisticRegression, SGDClassifier\n",
    "#from sklearn.tree import DecisionTreeClassifier, DecisionTreeRegressor\n",
    "from sklearn.ensemble import RandomForestClassifier, RandomForestRegressor, GradientBoostingRegressor, GradientBoostingClassifier, AdaBoostRegressor, AdaBoostClassifier\n",
    "# from sklearn.decomposition import PCA, NMF\n",
    "from sklearn.cluster import KMeans\n",
    "# from sklearn.feature_extraction.text import CountVectorizer, TfidfVectorizer\n",
    "'''TENSORFLOW'''\n",
    "from tensorflow import keras\n",
    "from tensorflow.keras.models import Sequential\n",
    "from tensorflow.keras.layers import Dense, Activation, Dropout\n",
    "from tensorflow.keras.preprocessing import text\n",
    "from tensorflow.keras import utils\n",
    "'''NLTK'''\n",
    "#import nltk\n",
    "#import unicodedata\n",
    "#import string\n",
    "#from nltk.corpus import stopwords\n",
    "#from nltk.tokenize import sent_tokenize, word_tokenize\n",
    "#from nltk.stem.porter import PorterStemmer\n",
    "#from nltk.stem.snowball import SnowballStemmer\n",
    "#from nltk.stem.wordnet import WordNetLemmatizer\n",
    "'''NETWORK'''\n",
    "# import networkx as nx\n",
    "# import nxpd\n",
    "# import community as comm\n",
    "'''FUNCTIONS'''\n",
    "nrange = lambda x : itertools.repeat(None, x)\n",
    "def argpsort(a, k):\n",
    "    return np.argpartition(a, range(k))[:k]\n",
    "def arghsort(a, k):\n",
    "    b = np.argpartition(a, k)[:k]\n",
    "    return b[np.argsort(a[b])]\n",
    "'''PALETTE'''\n",
    "t = 'setsuna'\n",
    "qan = {'setsuna':'quanta'}\n",
    "twi = '#DCB8E7' #Pale, light grayish mulberry\n",
    "twi_blu = '#273873' #Dark sapphire blue\n",
    "twi_pur = '#662D8A' #Moderate purple\n",
    "twi_pnk = '#ED438D' #Brilliant raspberry\n",
    "'''RETURN'''\n",
    "!fortune | cowsay -f dragon\n"
   ]
  },
  {
   "cell_type": "code",
   "execution_count": 14,
   "metadata": {},
   "outputs": [],
   "source": [
    "# Gather list of raw data filenames\n",
    "raw = glob.glob(os.path.join('data/raw', '*.csv'))\n",
    "files = sorted(raw)"
   ]
  },
  {
   "cell_type": "code",
   "execution_count": 15,
   "metadata": {},
   "outputs": [
    {
     "data": {
      "text/plain": [
       "(1831760, 81)"
      ]
     },
     "execution_count": 15,
     "metadata": {},
     "output_type": "execute_result"
    }
   ],
   "source": [
    "# read in all files and concatanate\n",
    "df = pd.concat((pd.read_csv(f) for f in files))\n",
    "df.shape"
   ]
  },
  {
   "cell_type": "code",
   "execution_count": 16,
   "metadata": {},
   "outputs": [
    {
     "data": {
      "text/plain": [
       "array(['1.1.2', '1.2.0', '1.3.0', '1.0.0', '1.4.0', '1.4.1', '1.4.2',\n",
       "       '2.0.0', '2.0.1', '2.1.0', '2.1.1', '2.2.0', '2.2.1', '2.2.2',\n",
       "       '2.3.0', '2.3.1', '2.3.2', '2.3.3', '3.0.0', '3.0.1', '3.1.0',\n",
       "       '3.2.0', '3.2.1', '3.2.2', '4.0.0', '4.1.0', '4.2.0', '4.3.0',\n",
       "       '4.3.1', '4.4.0', '4.5.0', '4.5.1', '4.6.0', '4.6.1', '4.7.0',\n",
       "       '4.8.0'], dtype=object)"
      ]
     },
     "execution_count": 16,
     "metadata": {},
     "output_type": "execute_result"
    }
   ],
   "source": [
    "# get game versions\n",
    "df['game-ver'].unique()"
   ]
  },
  {
   "cell_type": "code",
   "execution_count": 17,
   "metadata": {},
   "outputs": [
    {
     "data": {
      "text/plain": [
       "56751"
      ]
     },
     "execution_count": 17,
     "metadata": {},
     "output_type": "execute_result"
    }
   ],
   "source": [
    "np.sum(df['game-ver']=='4.8.0')"
   ]
  },
  {
   "cell_type": "code",
   "execution_count": 18,
   "metadata": {},
   "outputs": [
    {
     "data": {
      "text/plain": [
       "(56751, 81)"
      ]
     },
     "execution_count": 18,
     "metadata": {},
     "output_type": "execute_result"
    }
   ],
   "source": [
    "df = df[df['game-ver']=='4.8.0']\n",
    "df.shape"
   ]
  },
  {
   "cell_type": "code",
   "execution_count": 3,
   "metadata": {},
   "outputs": [],
   "source": [
    "def splatoon_explode(df):\n",
    "    \"\"\" \n",
    "    Explodes rows of stat.ink dataframes into one row for each player.\n",
    "    This function is intended to be run after splatoon_drop and\n",
    "    is hardcoded to accept its output features.\n",
    "  \n",
    "    Parameters: \n",
    "    df (DataFrame): Pandas dataframe on which to explode\n",
    "  \n",
    "    Returns: \n",
    "    koalas: Exploded dataframe stored in a koalas database\n",
    "  \n",
    "    \"\"\"\n",
    "    # get feature names\n",
    "    features = df.columns.tolist()\n",
    "    # features for all players\n",
    "    shared = ['game-ver', 'lobby-mode', 'lobby', 'mode', 'stage']\n",
    "    # features for each team\n",
    "    team = ['kill', 'assist', 'death', 'special', 'inked', 'level']\n",
    "    a_team = ['A1-', 'A2-', 'A3-', 'A4-']\n",
    "    b_team = ['B1-', 'B2-', 'B3-', 'B4-']\n",
    "    for feat in team:\n",
    "        df['A'+feat[0]] = df[[player+feat for player in a_team]].mean(axis=1)\n",
    "        df['B'+feat[0]] = df[[player+feat for player in b_team]].mean(axis=1)\n",
    "        \n",
    "    # initialize temporary storage list\n",
    "    tmp = collections.deque()\n",
    "    # iterate through rows\n",
    "    for index, row in df.iterrows():\n",
    "        # get features common to both teams\n",
    "        both = row[shared].tolist()\n",
    "        # create team A row\n",
    "        tmp.append(both + row[['Ak', 'Aa', 'Ad', 'As', 'Ai', 'Al']].tolist() + [row.win == 'alpha'])\n",
    "        # create team B row\n",
    "        tmp.append(both + row[['Bk', 'Ba', 'Bd', 'Bs', 'Bi', 'Bl']].tolist() + [row.win == 'bravo'])\n",
    "\n",
    "    #create new column names, including the index of the match the data was from\n",
    "    new_cols = shared + ['kill', 'assist', 'death', 'special', 'inked', 'level', 'win']\n",
    "    # return new koalas database\n",
    "    return pd.DataFrame(list(tmp), columns=new_cols)"
   ]
  },
  {
   "cell_type": "code",
   "execution_count": 4,
   "metadata": {},
   "outputs": [
    {
     "data": {
      "text/html": [
       "<div>\n",
       "<style scoped>\n",
       "    .dataframe tbody tr th:only-of-type {\n",
       "        vertical-align: middle;\n",
       "    }\n",
       "\n",
       "    .dataframe tbody tr th {\n",
       "        vertical-align: top;\n",
       "    }\n",
       "\n",
       "    .dataframe thead th {\n",
       "        text-align: right;\n",
       "    }\n",
       "</style>\n",
       "<table border=\"1\" class=\"dataframe\">\n",
       "  <thead>\n",
       "    <tr style=\"text-align: right;\">\n",
       "      <th></th>\n",
       "      <th>game-ver</th>\n",
       "      <th>lobby-mode</th>\n",
       "      <th>lobby</th>\n",
       "      <th>mode</th>\n",
       "      <th>stage</th>\n",
       "      <th>kill</th>\n",
       "      <th>assist</th>\n",
       "      <th>death</th>\n",
       "      <th>special</th>\n",
       "      <th>inked</th>\n",
       "      <th>level</th>\n",
       "      <th>win</th>\n",
       "    </tr>\n",
       "  </thead>\n",
       "  <tbody>\n",
       "    <tr>\n",
       "      <th>0</th>\n",
       "      <td>4.8.0</td>\n",
       "      <td>regular</td>\n",
       "      <td>standard</td>\n",
       "      <td>nawabari</td>\n",
       "      <td>ajifry</td>\n",
       "      <td>4.00</td>\n",
       "      <td>3.00</td>\n",
       "      <td>2.50</td>\n",
       "      <td>2.75</td>\n",
       "      <td>932.50</td>\n",
       "      <td>93.25</td>\n",
       "      <td>True</td>\n",
       "    </tr>\n",
       "    <tr>\n",
       "      <th>1</th>\n",
       "      <td>4.8.0</td>\n",
       "      <td>regular</td>\n",
       "      <td>standard</td>\n",
       "      <td>nawabari</td>\n",
       "      <td>ajifry</td>\n",
       "      <td>2.50</td>\n",
       "      <td>0.50</td>\n",
       "      <td>4.00</td>\n",
       "      <td>2.00</td>\n",
       "      <td>754.75</td>\n",
       "      <td>76.25</td>\n",
       "      <td>False</td>\n",
       "    </tr>\n",
       "    <tr>\n",
       "      <th>2</th>\n",
       "      <td>4.8.0</td>\n",
       "      <td>regular</td>\n",
       "      <td>standard</td>\n",
       "      <td>nawabari</td>\n",
       "      <td>ama</td>\n",
       "      <td>1.50</td>\n",
       "      <td>0.75</td>\n",
       "      <td>3.75</td>\n",
       "      <td>2.75</td>\n",
       "      <td>958.00</td>\n",
       "      <td>61.75</td>\n",
       "      <td>False</td>\n",
       "    </tr>\n",
       "    <tr>\n",
       "      <th>3</th>\n",
       "      <td>4.8.0</td>\n",
       "      <td>regular</td>\n",
       "      <td>standard</td>\n",
       "      <td>nawabari</td>\n",
       "      <td>ama</td>\n",
       "      <td>3.75</td>\n",
       "      <td>0.25</td>\n",
       "      <td>1.75</td>\n",
       "      <td>3.75</td>\n",
       "      <td>1020.25</td>\n",
       "      <td>157.00</td>\n",
       "      <td>True</td>\n",
       "    </tr>\n",
       "    <tr>\n",
       "      <th>4</th>\n",
       "      <td>4.8.0</td>\n",
       "      <td>gachi</td>\n",
       "      <td>standard</td>\n",
       "      <td>hoko</td>\n",
       "      <td>manta</td>\n",
       "      <td>7.00</td>\n",
       "      <td>2.00</td>\n",
       "      <td>8.25</td>\n",
       "      <td>2.75</td>\n",
       "      <td>1016.25</td>\n",
       "      <td>329.50</td>\n",
       "      <td>False</td>\n",
       "    </tr>\n",
       "  </tbody>\n",
       "</table>\n",
       "</div>"
      ],
      "text/plain": [
       "  game-ver lobby-mode     lobby      mode   stage  kill  assist  death  \\\n",
       "0    4.8.0    regular  standard  nawabari  ajifry  4.00    3.00   2.50   \n",
       "1    4.8.0    regular  standard  nawabari  ajifry  2.50    0.50   4.00   \n",
       "2    4.8.0    regular  standard  nawabari     ama  1.50    0.75   3.75   \n",
       "3    4.8.0    regular  standard  nawabari     ama  3.75    0.25   1.75   \n",
       "4    4.8.0      gachi  standard      hoko   manta  7.00    2.00   8.25   \n",
       "\n",
       "   special    inked   level    win  \n",
       "0     2.75   932.50   93.25   True  \n",
       "1     2.00   754.75   76.25  False  \n",
       "2     2.75   958.00   61.75  False  \n",
       "3     3.75  1020.25  157.00   True  \n",
       "4     2.75  1016.25  329.50  False  "
      ]
     },
     "execution_count": 4,
     "metadata": {},
     "output_type": "execute_result"
    }
   ],
   "source": [
    "df = splatoon_explode(df)\n",
    "df.head()"
   ]
  },
  {
   "cell_type": "code",
   "execution_count": 5,
   "metadata": {},
   "outputs": [
    {
     "data": {
      "text/plain": [
       "game-ver      0\n",
       "lobby-mode    0\n",
       "lobby         0\n",
       "mode          0\n",
       "stage         0\n",
       "kill          0\n",
       "assist        0\n",
       "death         0\n",
       "special       0\n",
       "inked         0\n",
       "level         0\n",
       "win           0\n",
       "dtype: int64"
      ]
     },
     "execution_count": 5,
     "metadata": {},
     "output_type": "execute_result"
    }
   ],
   "source": [
    "# check for missing values\n",
    "np.sum(df.isnull())"
   ]
  },
  {
   "cell_type": "code",
   "execution_count": 20,
   "metadata": {},
   "outputs": [],
   "source": [
    "# save as pickle\n",
    "# df.to_pickle('data/recent.pkl')\n",
    "df = pd.read_pickle('data/recent.pkl')"
   ]
  },
  {
   "cell_type": "code",
   "execution_count": 53,
   "metadata": {},
   "outputs": [],
   "source": [
    "def hist_plotter(col, df=df):\n",
    "    win = df[df.win == True][col].value_counts()\n",
    "    lose = df[df.win == False][col].value_counts()\n",
    "    plt.figure(figsize=(16, 8))\n",
    "    plt.hist(win, label = 'win', color = 'r', alpha = .4)\n",
    "    plt.hist(lose, label = 'lose', color = 'b', alpha = .4)\n",
    "    plt.title(col)\n",
    "    plt.legend()\n",
    "    return None"
   ]
  },
  {
   "cell_type": "code",
   "execution_count": 54,
   "metadata": {},
   "outputs": [
    {
     "data": {
      "image/png": "[encoded data removed]",
      "text/plain": [
       "<Figure size 1152x576 with 1 Axes>"
      ]
     },
     "metadata": {
      "needs_background": "light"
     },
     "output_type": "display_data"
    }
   ],
   "source": [
    "hist_plotter('kill')"
   ]
  },
  {
   "cell_type": "code",
   "execution_count": 55,
   "metadata": {},
   "outputs": [
    {
     "data": {
      "image/png": "[encoded data removed]",
      "text/plain": [
       "<Figure size 1152x576 with 1 Axes>"
      ]
     },
     "metadata": {
      "needs_background": "light"
     },
     "output_type": "display_data"
    }
   ],
   "source": [
    "hist_plotter('assist')"
   ]
  },
  {
   "cell_type": "code",
   "execution_count": 56,
   "metadata": {},
   "outputs": [
    {
     "data": {
      "image/png": "[encoded data removed]",
      "text/plain": [
       "<Figure size 1152x576 with 1 Axes>"
      ]
     },
     "metadata": {
      "needs_background": "light"
     },
     "output_type": "display_data"
    }
   ],
   "source": [
    "hist_plotter('death')"
   ]
  },
  {
   "cell_type": "code",
   "execution_count": 57,
   "metadata": {},
   "outputs": [
    {
     "data": {
      "image/png": "[encoded data removed]",
      "text/plain": [
       "<Figure size 1152x576 with 1 Axes>"
      ]
     },
     "metadata": {
      "needs_background": "light"
     },
     "output_type": "display_data"
    }
   ],
   "source": [
    "hist_plotter('special')"
   ]
  },
  {
   "cell_type": "code",
   "execution_count": 58,
   "metadata": {},
   "outputs": [
    {
     "data": {
      "image/png": "[encoded data removed]",
      "text/plain": [
       "<Figure size 1152x576 with 1 Axes>"
      ]
     },
     "metadata": {
      "needs_background": "light"
     },
     "output_type": "display_data"
    }
   ],
   "source": [
    "hist_plotter('inked')"
   ]
  },
  {
   "cell_type": "code",
   "execution_count": 59,
   "metadata": {},
   "outputs": [
    {
     "data": {
      "image/png": "[encoded data removed]",
      "text/plain": [
       "<Figure size 1152x576 with 1 Axes>"
      ]
     },
     "metadata": {
      "needs_background": "light"
     },
     "output_type": "display_data"
    }
   ],
   "source": [
    "hist_plotter('level')"
   ]
  },
  {
   "cell_type": "code",
   "execution_count": 62,
   "metadata": {},
   "outputs": [
    {
     "name": "stderr",
     "output_type": "stream",
     "text": [
      "/anaconda3/lib/python3.7/site-packages/sklearn/preprocessing/data.py:645: DataConversionWarning: Data with input dtype uint8, float64 were all converted to float64 by StandardScaler.\n",
      "  return self.partial_fit(X, y)\n",
      "/anaconda3/lib/python3.7/site-packages/sklearn/base.py:464: DataConversionWarning: Data with input dtype uint8, float64 were all converted to float64 by StandardScaler.\n",
      "  return self.fit(X, **fit_params).transform(X)\n"
     ]
    }
   ],
   "source": [
    "# split into features and label\n",
    "X = df[['mode', 'kill', 'assist', 'death', 'special', 'inked', 'level']]\n",
    "y = df['win']\n",
    "# make dummies of game type\n",
    "X = pd.get_dummies(X)\n",
    "# standardize X\n",
    "scaler = StandardScaler()\n",
    "X = scaler.fit_transform(X)\n",
    "# train test split\n",
    "X_train, X_test, y_train, y_test = train_test_split(X, y, test_size=0.33, random_state=0)"
   ]
  },
  {
   "cell_type": "code",
   "execution_count": 63,
   "metadata": {},
   "outputs": [
    {
     "data": {
      "text/plain": [
       "0.8019275950448527"
      ]
     },
     "execution_count": 63,
     "metadata": {},
     "output_type": "execute_result"
    }
   ],
   "source": [
    "lr = LogisticRegression(solver='lbfgs')\n",
    "lr.fit(X_train, y_train)\n",
    "lr.score(X_test, y_test)"
   ]
  },
  {
   "cell_type": "code",
   "execution_count": 64,
   "metadata": {},
   "outputs": [
    {
     "data": {
      "text/plain": [
       "0.8007261853908586"
      ]
     },
     "execution_count": 64,
     "metadata": {},
     "output_type": "execute_result"
    }
   ],
   "source": [
    "rf = RandomForestClassifier(n_estimators=100, max_depth=10)\n",
    "rf.fit(X_train, y_train)\n",
    "rf.score(X_test, y_test)"
   ]
  },
  {
   "cell_type": "code",
   "execution_count": 65,
   "metadata": {},
   "outputs": [
    {
     "data": {
      "text/plain": [
       "0.8037697565143102"
      ]
     },
     "execution_count": 65,
     "metadata": {},
     "output_type": "execute_result"
    }
   ],
   "source": [
    "gb = GradientBoostingClassifier(learning_rate=0.05, n_estimators=1000, subsample=0.5, max_depth=3,\n",
    "                                min_impurity_decrease=0)\n",
    "gb.fit(X_train, y_train)\n",
    "gb.score(X_test, y_test)"
   ]
  },
  {
   "cell_type": "code",
   "execution_count": 110,
   "metadata": {},
   "outputs": [
    {
     "name": "stdout",
     "output_type": "stream",
     "text": [
      "Fitting 3 folds for each of 108 candidates, totalling 324 fits\n"
     ]
    },
    {
     "name": "stderr",
     "output_type": "stream",
     "text": [
      "[Parallel(n_jobs=-1)]: Using backend LokyBackend with 4 concurrent workers.\n",
      "[Parallel(n_jobs=-1)]: Done  42 tasks      | elapsed:  7.1min\n",
      "[Parallel(n_jobs=-1)]: Done 192 tasks      | elapsed: 13.8min\n",
      "[Parallel(n_jobs=-1)]: Done 324 out of 324 | elapsed: 18.5min finished\n"
     ]
    },
    {
     "name": "stdout",
     "output_type": "stream",
     "text": [
      "best parameters: {'learning_rate': 0.05, 'max_depth': 3, 'min_impurity_decrease': 0, 'n_estimators': 1000, 'random_state': 1, 'subsample': 0.5}\n"
     ]
    }
   ],
   "source": [
    "gdbr_grid = {'learning_rate': [0.01, 0.05, 0.1],\n",
    "             'max_depth': [10, 3, 1],\n",
    "             'subsample': [1, 0.5],\n",
    "             'min_impurity_decrease': [0, 0.01],\n",
    "             'n_estimators': [1000, 100, 10],\n",
    "             'random_state': [1]}\n",
    "\n",
    "gdbr_gridsearch = GridSearchCV(GradientBoostingClassifier(),\n",
    "                               gdbr_grid,\n",
    "                               n_jobs=-1,\n",
    "                               cv = 3,\n",
    "                               verbose=True,\n",
    "                               scoring='accuracy')\n",
    "gdbr_gridsearch.fit(X_train, y_train)\n",
    "\n",
    "print(\"best parameters:\", gdbr_gridsearch.best_params_)"
   ]
  },
  {
   "cell_type": "code",
   "execution_count": 68,
   "metadata": {},
   "outputs": [
    {
     "name": "stdout",
     "output_type": "stream",
     "text": [
      "Train on 76046 samples\n",
      "Epoch 1/10\n",
      "76046/76046 [==============================] - 1s 15us/sample - loss: 0.5018 - accuracy: 0.7536\n",
      "Epoch 2/10\n",
      "76046/76046 [==============================] - 1s 14us/sample - loss: 0.4259 - accuracy: 0.8037s -\n",
      "Epoch 3/10\n",
      "76046/76046 [==============================] - 1s 12us/sample - loss: 0.4176 - accuracy: 0.8057\n",
      "Epoch 4/10\n",
      "76046/76046 [==============================] - 1s 13us/sample - loss: 0.4141 - accuracy: 0.8062\n",
      "Epoch 5/10\n",
      "76046/76046 [==============================] - 1s 12us/sample - loss: 0.4119 - accuracy: 0.8068\n",
      "Epoch 6/10\n",
      "76046/76046 [==============================] - 1s 13us/sample - loss: 0.4103 - accuracy: 0.8067\n",
      "Epoch 7/10\n",
      "76046/76046 [==============================] - 1s 13us/sample - loss: 0.4093 - accuracy: 0.8070\n",
      "Epoch 8/10\n",
      "76046/76046 [==============================] - 1s 12us/sample - loss: 0.4083 - accuracy: 0.8079\n",
      "Epoch 9/10\n",
      "76046/76046 [==============================] - 1s 12us/sample - loss: 0.4077 - accuracy: 0.8080\n",
      "Epoch 10/10\n",
      "76046/76046 [==============================] - 1s 13us/sample - loss: 0.4071 - accuracy: 0.8086s - loss: 0.4077 - accuracy: 0.\n"
     ]
    },
    {
     "data": {
      "text/plain": [
       "<tensorflow.python.keras.callbacks.History at 0x1a40e696a0>"
      ]
     },
     "execution_count": 68,
     "metadata": {},
     "output_type": "execute_result"
    }
   ],
   "source": [
    "model = Sequential()\n",
    "model.add(Dense(units=10, input_shape=(X_train.shape[1],)))\n",
    "model.add(Activation('relu'))\n",
    "model.add(Dense(2))\n",
    "model.add(Activation('softmax'))\n",
    "\n",
    "model.compile(loss='sparse_categorical_crossentropy', optimizer='adam', metrics=['accuracy'])\n",
    "\n",
    "model.fit(X_train, y_train, epochs=10, batch_size=100)"
   ]
  },
  {
   "cell_type": "code",
   "execution_count": 69,
   "metadata": {},
   "outputs": [
    {
     "name": "stdout",
     "output_type": "stream",
     "text": [
      "0.8047575822298163 0.8161442441054092 0.7862640299305185\n"
     ]
    },
    {
     "data": {
      "text/plain": [
       "array([[15432,  3314],\n",
       "       [ 3999, 14711]])"
      ]
     },
     "execution_count": 69,
     "metadata": {},
     "output_type": "execute_result"
    }
   ],
   "source": [
    "y_pred = model.predict_classes(X_test)\n",
    "print(accuracy_score(y_test, y_pred), precision_score(y_test, y_pred), recall_score(y_test, y_pred))\n",
    "confusion_matrix(y_test, y_pred)"
   ]
  },
  {
   "cell_type": "code",
   "execution_count": null,
   "metadata": {},
   "outputs": [],
   "source": []
  }
 ],
 "metadata": {
  "kernelspec": {
   "display_name": "Python 3",
   "language": "python",
   "name": "python3"
  },
  "language_info": {
   "codemirror_mode": {
    "name": "ipython",
    "version": 3
   },
   "file_extension": ".py",
   "mimetype": "text/x-python",
   "name": "python",
   "nbconvert_exporter": "python",
   "pygments_lexer": "ipython3",
   "version": "3.7.3"
  }
 },
 "nbformat": 4,
 "nbformat_minor": 2
}
