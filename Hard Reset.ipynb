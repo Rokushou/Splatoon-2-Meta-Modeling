{
 "cells": [
  {
   "cell_type": "code",
   "execution_count": 208,
   "metadata": {},
   "outputs": [
    {
     "name": "stdout",
     "output_type": "stream",
     "text": [
      " _________________________________________ \r\n",
      "/ The hardest part of climbing the ladder \\\r\n",
      "| of success is getting through the crowd |\r\n",
      "\\ at the bottom.                          /\r\n",
      " ----------------------------------------- \r\n",
      "      \\                    / \\  //\\\r\n",
      "       \\    |\\___/|      /   \\//  \\\\\r\n",
      "            /0  0  \\__  /    //  | \\ \\    \r\n",
      "           /     /  \\/_/    //   |  \\  \\  \r\n",
      "           @_^_@'/   \\/_   //    |   \\   \\ \r\n",
      "           //_^_/     \\/_ //     |    \\    \\\r\n",
      "        ( //) |        \\///      |     \\     \\\r\n",
      "      ( / /) _|_ /   )  //       |      \\     _\\\r\n",
      "    ( // /) '/,_ _ _/  ( ; -.    |    _ _\\.-~        .-~~~^-.\r\n",
      "  (( / / )) ,-{        _      `-.|.-~-.           .~         `.\r\n",
      " (( // / ))  '/\\      /                 ~-. _ .-~      .-~^-.  \\\r\n",
      " (( /// ))      `.   {            }                   /      \\  \\\r\n",
      "  (( / ))     .----~-.\\        \\-'                 .~         \\  `. \\^-.\r\n",
      "             ///.----..>        \\             _ -~             `.  ^-`  ^-_\r\n",
      "               ///-._ _ _ _ _ _ _}^ - - - - ~                     ~-- ,.-~\r\n",
      "                                                                  /.-~\r\n"
     ]
    }
   ],
   "source": [
    "# %load src/header.py\n",
    "'''LOAD'''\n",
    "# %load /Users/rokushou/Desktop/header.py\n",
    "'''GENERAL'''\n",
    "import os\n",
    "#import time\n",
    "#import timeit\n",
    "#import warnings\n",
    "#warnings.simplefilter('ignore')\n",
    "import random\n",
    "import collections\n",
    "#import secrets\n",
    "import math\n",
    "import itertools\n",
    "'''DATA'''\n",
    "import numpy as np\n",
    "import pandas as pd\n",
    "# import databricks.koalas as ks\n",
    "'''MONGO'''\n",
    "#from pymongo import MongoClient\n",
    "'''PLOT'''\n",
    "import matplotlib.pyplot as plt\n",
    "plt.style.use('seaborn-pastel')\n",
    "font = {'size':16}\n",
    "import seaborn as sns\n",
    "'''SCIPY/STATS'''\n",
    "#import scipy.stats as scs\n",
    "# from scipy.optimize import nnls\n",
    "#import statsmodels.api as sm\n",
    "'''SCIKIT LEARN'''\n",
    "#from sklearn.datasets import make_classification, load_iris, load_boston, load_digits\n",
    "#from sklearn.pipeline import Pipeline\n",
    "from sklearn.preprocessing import PolynomialFeatures, StandardScaler\n",
    "from sklearn.model_selection import train_test_split, KFold, ShuffleSplit, cross_val_score, GridSearchCV, cross_val_predict\n",
    "from sklearn.metrics import confusion_matrix, accuracy_score, precision_score, recall_score, r2_score, mean_squared_error, classification_report, make_scorer\n",
    "from sklearn.neighbors import KNeighborsClassifier, KNeighborsRegressor\n",
    "from sklearn.linear_model import LinearRegression, LogisticRegression, SGDClassifier\n",
    "#from sklearn.tree import DecisionTreeClassifier, DecisionTreeRegressor\n",
    "from sklearn.ensemble import RandomForestClassifier, RandomForestRegressor, GradientBoostingRegressor, GradientBoostingClassifier, AdaBoostRegressor, AdaBoostClassifier\n",
    "# from sklearn.decomposition import PCA, NMF\n",
    "from sklearn.cluster import KMeans\n",
    "# from sklearn.feature_extraction.text import CountVectorizer, TfidfVectorizer\n",
    "'''TENSORFLOW'''\n",
    "from tensorflow import keras\n",
    "from tensorflow.keras.models import Sequential\n",
    "from tensorflow.keras.layers import Dense, Activation, Dropout\n",
    "from tensorflow.keras.preprocessing import text\n",
    "from tensorflow.keras import utils\n",
    "'''NLTK'''\n",
    "#import nltk\n",
    "#import unicodedata\n",
    "#import string\n",
    "#from nltk.corpus import stopwords\n",
    "#from nltk.tokenize import sent_tokenize, word_tokenize\n",
    "#from nltk.stem.porter import PorterStemmer\n",
    "#from nltk.stem.snowball import SnowballStemmer\n",
    "#from nltk.stem.wordnet import WordNetLemmatizer\n",
    "'''NETWORK'''\n",
    "# import networkx as nx\n",
    "# import nxpd\n",
    "# import community as comm\n",
    "'''FUNCTIONS'''\n",
    "nrange = lambda x : itertools.repeat(None, x)\n",
    "def argpsort(a, k):\n",
    "    return np.argpartition(a, range(k))[:k]\n",
    "def arghsort(a, k):\n",
    "    b = np.argpartition(a, k)[:k]\n",
    "    return b[np.argsort(a[b])]\n",
    "'''PALETTE'''\n",
    "t = 'setsuna'\n",
    "qan = {'setsuna':'quanta'}\n",
    "twi = '#DCB8E7' #Pale, light grayish mulberry\n",
    "twi_blu = '#273873' #Dark sapphire blue\n",
    "twi_pur = '#662D8A' #Moderate purple\n",
    "twi_pnk = '#ED438D' #Brilliant raspberry\n",
    "'''RETURN'''\n",
    "!fortune | cowsay -f dragon\n"
   ]
  },
  {
   "cell_type": "code",
   "execution_count": 209,
   "metadata": {},
   "outputs": [
    {
     "data": {
      "text/plain": [
       "['data/raw/2019-06-20.csv',\n",
       " 'data/raw/2019-06-21.csv',\n",
       " 'data/raw/2019-06-22.csv',\n",
       " 'data/raw/2019-06-23.csv',\n",
       " 'data/raw/2019-06-24.csv']"
      ]
     },
     "execution_count": 209,
     "metadata": {},
     "output_type": "execute_result"
    }
   ],
   "source": [
    "# Gather list of raw data filenames\n",
    "raw = glob.glob(os.path.join('data/raw', '*.csv'))\n",
    "# I just want the last few\n",
    "files = sorted(raw)[-5:]\n",
    "files"
   ]
  },
  {
   "cell_type": "code",
   "execution_count": 210,
   "metadata": {},
   "outputs": [
    {
     "data": {
      "text/plain": [
       "(11112, 81)"
      ]
     },
     "execution_count": 210,
     "metadata": {},
     "output_type": "execute_result"
    }
   ],
   "source": [
    "df = pd.concat((pd.read_csv(f) for f in files))\n",
    "df.shape"
   ]
  },
  {
   "cell_type": "code",
   "execution_count": 211,
   "metadata": {},
   "outputs": [],
   "source": [
    "def splatoon_explode(df):\n",
    "    \"\"\" \n",
    "    Explodes rows of stat.ink dataframes into one row for each player.\n",
    "    This function is intended to be run after splatoon_drop and\n",
    "    is hardcoded to accept its output features.\n",
    "  \n",
    "    Parameters: \n",
    "    df (DataFrame): Pandas dataframe on which to explode\n",
    "  \n",
    "    Returns: \n",
    "    koalas: Exploded dataframe stored in a koalas database\n",
    "  \n",
    "    \"\"\"\n",
    "    # get feature names\n",
    "    features = df.columns.tolist()\n",
    "    # features for all players\n",
    "    shared = ['game-ver', 'lobby-mode', 'lobby', 'mode', 'stage']\n",
    "    # features for each team\n",
    "    team = ['kill', 'assist', 'death', 'special', 'inked', 'level']\n",
    "    a_team = ['A1-', 'A2-', 'A3-', 'A4-']\n",
    "    b_team = ['B1-', 'B2-', 'B3-', 'B4-']\n",
    "    for feat in team:\n",
    "        df['A'+feat[0]] = df[[player+feat for player in a_team]].mean(axis=1)\n",
    "        df['B'+feat[0]] = df[[player+feat for player in b_team]].mean(axis=1)\n",
    "        \n",
    "    # initialize temporary storage list\n",
    "    tmp = collections.deque()\n",
    "    # iterate through rows\n",
    "    for index, row in df.iterrows():\n",
    "        # get features common to both teams\n",
    "        both = row[shared].tolist()\n",
    "        # create team A row\n",
    "        tmp.append(both + row[['Ak', 'Aa', 'Ad', 'As', 'Ai', 'Al']].tolist() + [row.win == 'alpha'])\n",
    "        # create team B row\n",
    "        tmp.append(both + row[['Bk', 'Ba', 'Bd', 'Bs', 'Bi', 'Bl']].tolist() + [row.win == 'bravo'])\n",
    "\n",
    "    #create new column names, including the index of the match the data was from\n",
    "    new_cols = shared + ['kill', 'assist', 'death', 'special', 'inked', 'level', 'win']\n",
    "    # return new koalas database\n",
    "    return pd.DataFrame(list(tmp), columns=new_cols)"
   ]
  },
  {
   "cell_type": "code",
   "execution_count": 212,
   "metadata": {},
   "outputs": [
    {
     "data": {
      "text/html": [
       "<div>\n",
       "<style scoped>\n",
       "    .dataframe tbody tr th:only-of-type {\n",
       "        vertical-align: middle;\n",
       "    }\n",
       "\n",
       "    .dataframe tbody tr th {\n",
       "        vertical-align: top;\n",
       "    }\n",
       "\n",
       "    .dataframe thead th {\n",
       "        text-align: right;\n",
       "    }\n",
       "</style>\n",
       "<table border=\"1\" class=\"dataframe\">\n",
       "  <thead>\n",
       "    <tr style=\"text-align: right;\">\n",
       "      <th></th>\n",
       "      <th>game-ver</th>\n",
       "      <th>lobby-mode</th>\n",
       "      <th>lobby</th>\n",
       "      <th>mode</th>\n",
       "      <th>stage</th>\n",
       "      <th>kill</th>\n",
       "      <th>assist</th>\n",
       "      <th>death</th>\n",
       "      <th>special</th>\n",
       "      <th>inked</th>\n",
       "      <th>level</th>\n",
       "      <th>win</th>\n",
       "    </tr>\n",
       "  </thead>\n",
       "  <tbody>\n",
       "    <tr>\n",
       "      <th>0</th>\n",
       "      <td>4.6.1</td>\n",
       "      <td>fest</td>\n",
       "      <td>fest_normal</td>\n",
       "      <td>nawabari</td>\n",
       "      <td>ajifry</td>\n",
       "      <td>4.50</td>\n",
       "      <td>2.00</td>\n",
       "      <td>3.75</td>\n",
       "      <td>2.25</td>\n",
       "      <td>873.25</td>\n",
       "      <td>38.25</td>\n",
       "      <td>True</td>\n",
       "    </tr>\n",
       "    <tr>\n",
       "      <th>1</th>\n",
       "      <td>4.6.1</td>\n",
       "      <td>fest</td>\n",
       "      <td>fest_normal</td>\n",
       "      <td>nawabari</td>\n",
       "      <td>ajifry</td>\n",
       "      <td>3.75</td>\n",
       "      <td>1.75</td>\n",
       "      <td>4.50</td>\n",
       "      <td>2.50</td>\n",
       "      <td>857.00</td>\n",
       "      <td>125.25</td>\n",
       "      <td>False</td>\n",
       "    </tr>\n",
       "    <tr>\n",
       "      <th>2</th>\n",
       "      <td>4.6.1</td>\n",
       "      <td>fest</td>\n",
       "      <td>fest_normal</td>\n",
       "      <td>nawabari</td>\n",
       "      <td>battera</td>\n",
       "      <td>3.75</td>\n",
       "      <td>0.75</td>\n",
       "      <td>1.00</td>\n",
       "      <td>3.25</td>\n",
       "      <td>1007.25</td>\n",
       "      <td>41.75</td>\n",
       "      <td>True</td>\n",
       "    </tr>\n",
       "    <tr>\n",
       "      <th>3</th>\n",
       "      <td>4.6.1</td>\n",
       "      <td>fest</td>\n",
       "      <td>fest_normal</td>\n",
       "      <td>nawabari</td>\n",
       "      <td>battera</td>\n",
       "      <td>1.00</td>\n",
       "      <td>0.00</td>\n",
       "      <td>3.75</td>\n",
       "      <td>2.25</td>\n",
       "      <td>841.25</td>\n",
       "      <td>53.25</td>\n",
       "      <td>False</td>\n",
       "    </tr>\n",
       "    <tr>\n",
       "      <th>4</th>\n",
       "      <td>4.6.1</td>\n",
       "      <td>fest</td>\n",
       "      <td>fest_normal</td>\n",
       "      <td>nawabari</td>\n",
       "      <td>battera</td>\n",
       "      <td>4.25</td>\n",
       "      <td>1.00</td>\n",
       "      <td>2.25</td>\n",
       "      <td>3.50</td>\n",
       "      <td>1028.25</td>\n",
       "      <td>41.75</td>\n",
       "      <td>True</td>\n",
       "    </tr>\n",
       "  </tbody>\n",
       "</table>\n",
       "</div>"
      ],
      "text/plain": [
       "  game-ver lobby-mode        lobby      mode    stage  kill  assist  death  \\\n",
       "0    4.6.1       fest  fest_normal  nawabari   ajifry  4.50    2.00   3.75   \n",
       "1    4.6.1       fest  fest_normal  nawabari   ajifry  3.75    1.75   4.50   \n",
       "2    4.6.1       fest  fest_normal  nawabari  battera  3.75    0.75   1.00   \n",
       "3    4.6.1       fest  fest_normal  nawabari  battera  1.00    0.00   3.75   \n",
       "4    4.6.1       fest  fest_normal  nawabari  battera  4.25    1.00   2.25   \n",
       "\n",
       "   special    inked   level    win  \n",
       "0     2.25   873.25   38.25   True  \n",
       "1     2.50   857.00  125.25  False  \n",
       "2     3.25  1007.25   41.75   True  \n",
       "3     2.25   841.25   53.25  False  \n",
       "4     3.50  1028.25   41.75   True  "
      ]
     },
     "execution_count": 212,
     "metadata": {},
     "output_type": "execute_result"
    }
   ],
   "source": [
    "test = splatoon_explode(df)\n",
    "test.head()"
   ]
  },
  {
   "cell_type": "code",
   "execution_count": 213,
   "metadata": {},
   "outputs": [
    {
     "data": {
      "text/plain": [
       "game-ver      0\n",
       "lobby-mode    0\n",
       "lobby         0\n",
       "mode          0\n",
       "stage         0\n",
       "kill          0\n",
       "assist        0\n",
       "death         0\n",
       "special       0\n",
       "inked         0\n",
       "level         0\n",
       "win           0\n",
       "dtype: int64"
      ]
     },
     "execution_count": 213,
     "metadata": {},
     "output_type": "execute_result"
    }
   ],
   "source": [
    "np.sum(test.isnull())"
   ]
  },
  {
   "cell_type": "code",
   "execution_count": 204,
   "metadata": {},
   "outputs": [],
   "source": [
    "def bar_plotter(col, df=df):\n",
    "    win = df[df.win == True][col].value_counts()\n",
    "    lose = df[df.win == False][col].value_counts()\n",
    "    plt.figure(figsize=(16, 8))\n",
    "    plt.bar(win.index, win, label = 'win', color = 'r', alpha = .33)\n",
    "    plt.bar(lose.index, lose, label = 'lose', color = 'b', alpha = .33)\n",
    "    plt.title(col)\n",
    "    plt.legend()\n",
    "    return None"
   ]
  },
  {
   "cell_type": "code",
   "execution_count": 176,
   "metadata": {},
   "outputs": [
    {
     "data": {
      "image/png": "[encoded data removed]",
      "text/plain": [
       "<Figure size 1152x576 with 1 Axes>"
      ]
     },
     "metadata": {
      "needs_background": "light"
     },
     "output_type": "display_data"
    }
   ],
   "source": [
    "bar_plotter('kill', test)"
   ]
  },
  {
   "cell_type": "code",
   "execution_count": 177,
   "metadata": {},
   "outputs": [
    {
     "data": {
      "image/png": "[encoded data removed]",
      "text/plain": [
       "<Figure size 1152x576 with 1 Axes>"
      ]
     },
     "metadata": {
      "needs_background": "light"
     },
     "output_type": "display_data"
    }
   ],
   "source": [
    "bar_plotter('assist', test)"
   ]
  },
  {
   "cell_type": "code",
   "execution_count": 178,
   "metadata": {},
   "outputs": [
    {
     "data": {
      "image/png": "[encoded data removed]",
      "text/plain": [
       "<Figure size 1152x576 with 1 Axes>"
      ]
     },
     "metadata": {
      "needs_background": "light"
     },
     "output_type": "display_data"
    }
   ],
   "source": [
    "bar_plotter('death', test)"
   ]
  },
  {
   "cell_type": "code",
   "execution_count": 179,
   "metadata": {},
   "outputs": [
    {
     "data": {
      "image/png": "[encoded data removed]",
      "text/plain": [
       "<Figure size 1152x576 with 1 Axes>"
      ]
     },
     "metadata": {
      "needs_background": "light"
     },
     "output_type": "display_data"
    }
   ],
   "source": [
    "bar_plotter('special', test)"
   ]
  },
  {
   "cell_type": "code",
   "execution_count": 180,
   "metadata": {},
   "outputs": [
    {
     "data": {
      "image/png": "[encoded data removed]",
      "text/plain": [
       "<Figure size 1152x576 with 1 Axes>"
      ]
     },
     "metadata": {
      "needs_background": "light"
     },
     "output_type": "display_data"
    }
   ],
   "source": [
    "bar_plotter('level', test)"
   ]
  },
  {
   "cell_type": "code",
   "execution_count": 181,
   "metadata": {},
   "outputs": [
    {
     "data": {
      "image/png": "[encoded data removed]",
      "text/plain": [
       "<Figure size 1152x576 with 1 Axes>"
      ]
     },
     "metadata": {
      "needs_background": "light"
     },
     "output_type": "display_data"
    }
   ],
   "source": [
    "bar_plotter('inked', test)"
   ]
  },
  {
   "cell_type": "code",
   "execution_count": 214,
   "metadata": {},
   "outputs": [
    {
     "name": "stderr",
     "output_type": "stream",
     "text": [
      "/anaconda3/lib/python3.7/site-packages/sklearn/preprocessing/data.py:645: DataConversionWarning: Data with input dtype uint8, float64 were all converted to float64 by StandardScaler.\n",
      "  return self.partial_fit(X, y)\n",
      "/anaconda3/lib/python3.7/site-packages/sklearn/base.py:464: DataConversionWarning: Data with input dtype uint8, float64 were all converted to float64 by StandardScaler.\n",
      "  return self.fit(X, **fit_params).transform(X)\n"
     ]
    }
   ],
   "source": [
    "# split into features and label\n",
    "X = test[['mode', 'kill', 'assist', 'death', 'special', 'inked', 'level']]\n",
    "y = test['win']\n",
    "# make dummies of game type\n",
    "X = pd.get_dummies(X)\n",
    "# standardize X\n",
    "scaler = StandardScaler()\n",
    "X = scaler.fit_transform(X)\n",
    "# train test split\n",
    "X_train, X_test, y_train, y_test = train_test_split(X, y, test_size=0.33, random_state=0)"
   ]
  },
  {
   "cell_type": "code",
   "execution_count": 215,
   "metadata": {},
   "outputs": [
    {
     "data": {
      "text/plain": [
       "0.8080174529588219"
      ]
     },
     "execution_count": 215,
     "metadata": {},
     "output_type": "execute_result"
    }
   ],
   "source": [
    "lr = LogisticRegression(solver='lbfgs')\n",
    "lr.fit(X_train, y_train)\n",
    "lr.score(X_test, y_test)"
   ]
  },
  {
   "cell_type": "code",
   "execution_count": 216,
   "metadata": {},
   "outputs": [
    {
     "data": {
      "text/plain": [
       "0.8050177256613035"
      ]
     },
     "execution_count": 216,
     "metadata": {},
     "output_type": "execute_result"
    }
   ],
   "source": [
    "rf = RandomForestClassifier(n_estimators=100, max_depth=10)\n",
    "rf.fit(X_train, y_train)\n",
    "rf.score(X_test, y_test)"
   ]
  },
  {
   "cell_type": "code",
   "execution_count": 217,
   "metadata": {},
   "outputs": [
    {
     "data": {
      "text/plain": [
       "0.8069266430324515"
      ]
     },
     "execution_count": 217,
     "metadata": {},
     "output_type": "execute_result"
    }
   ],
   "source": [
    "gb = GradientBoostingClassifier(learning_rate=0.05, n_estimators=1000, subsample=0.5, max_depth=3,\n",
    "                                min_impurity_decrease=0)\n",
    "gb.fit(X_train, y_train)\n",
    "gb.score(X_test, y_test)"
   ]
  },
  {
   "cell_type": "code",
   "execution_count": 110,
   "metadata": {},
   "outputs": [
    {
     "name": "stdout",
     "output_type": "stream",
     "text": [
      "Fitting 3 folds for each of 108 candidates, totalling 324 fits\n"
     ]
    },
    {
     "name": "stderr",
     "output_type": "stream",
     "text": [
      "[Parallel(n_jobs=-1)]: Using backend LokyBackend with 4 concurrent workers.\n",
      "[Parallel(n_jobs=-1)]: Done  42 tasks      | elapsed:  7.1min\n",
      "[Parallel(n_jobs=-1)]: Done 192 tasks      | elapsed: 13.8min\n",
      "[Parallel(n_jobs=-1)]: Done 324 out of 324 | elapsed: 18.5min finished\n"
     ]
    },
    {
     "name": "stdout",
     "output_type": "stream",
     "text": [
      "best parameters: {'learning_rate': 0.05, 'max_depth': 3, 'min_impurity_decrease': 0, 'n_estimators': 1000, 'random_state': 1, 'subsample': 0.5}\n"
     ]
    }
   ],
   "source": [
    "gdbr_grid = {'learning_rate': [0.01, 0.05, 0.1],\n",
    "             'max_depth': [10, 3, 1],\n",
    "             'subsample': [1, 0.5],\n",
    "             'min_impurity_decrease': [0, 0.01],\n",
    "             'n_estimators': [1000, 100, 10],\n",
    "             'random_state': [1]}\n",
    "\n",
    "gdbr_gridsearch = GridSearchCV(GradientBoostingClassifier(),\n",
    "                               gdbr_grid,\n",
    "                               n_jobs=-1,\n",
    "                               cv = 3,\n",
    "                               verbose=True,\n",
    "                               scoring='accuracy')\n",
    "gdbr_gridsearch.fit(X_train, y_train)\n",
    "\n",
    "print(\"best parameters:\", gdbr_gridsearch.best_params_)"
   ]
  },
  {
   "cell_type": "code",
   "execution_count": 221,
   "metadata": {},
   "outputs": [
    {
     "name": "stdout",
     "output_type": "stream",
     "text": [
      "Train on 14890 samples\n",
      "Epoch 1/10\n",
      "14890/14890 [==============================] - 2s 119us/sample - loss: 0.5666 - accuracy: 0.7557\n",
      "Epoch 2/10\n",
      "14890/14890 [==============================] - 2s 118us/sample - loss: 0.4429 - accuracy: 0.8034\n",
      "Epoch 3/10\n",
      "14890/14890 [==============================] - 2s 115us/sample - loss: 0.4229 - accuracy: 0.8069\n",
      "Epoch 4/10\n",
      "14890/14890 [==============================] - 2s 117us/sample - loss: 0.4164 - accuracy: 0.8080\n",
      "Epoch 5/10\n",
      "14890/14890 [==============================] - 2s 117us/sample - loss: 0.4132 - accuracy: 0.8075\n",
      "Epoch 6/10\n",
      "14890/14890 [==============================] - 2s 115us/sample - loss: 0.4109 - accuracy: 0.8081\n",
      "Epoch 7/10\n",
      "14890/14890 [==============================] - 2s 112us/sample - loss: 0.4098 - accuracy: 0.8079\n",
      "Epoch 8/10\n",
      "14890/14890 [==============================] - 2s 109us/sample - loss: 0.4088 - accuracy: 0.8089\n",
      "Epoch 9/10\n",
      "14890/14890 [==============================] - 2s 109us/sample - loss: 0.4081 - accuracy: 0.8102\n",
      "Epoch 10/10\n",
      "14890/14890 [==============================] - 2s 111us/sample - loss: 0.4073 - accuracy: 0.8093\n"
     ]
    },
    {
     "data": {
      "text/plain": [
       "<tensorflow.python.keras.callbacks.History at 0x1a41617550>"
      ]
     },
     "execution_count": 221,
     "metadata": {},
     "output_type": "execute_result"
    }
   ],
   "source": [
    "model = Sequential()\n",
    "model.add(Dense(units=10, input_shape=(X_train.shape[1],)))\n",
    "model.add(Activation('softmax'))\n",
    "model.add(Dense(2))\n",
    "model.add(Activation('softmax'))\n",
    "\n",
    "model.compile(loss='sparse_categorical_crossentropy', optimizer='adam', metrics=['accuracy'])\n",
    "\n",
    "model.fit(X_train, y_train, epochs=10, batch_size=10)"
   ]
  },
  {
   "cell_type": "code",
   "execution_count": 222,
   "metadata": {},
   "outputs": [
    {
     "name": "stdout",
     "output_type": "stream",
     "text": [
      "0.8062448868284702 0.8017703862660944 0.8142195587033506\n"
     ]
    },
    {
     "data": {
      "text/plain": [
       "array([[2924,  739],\n",
       "       [ 682, 2989]])"
      ]
     },
     "execution_count": 222,
     "metadata": {},
     "output_type": "execute_result"
    }
   ],
   "source": [
    "y_pred = model.predict_classes(X_test)\n",
    "print(accuracy_score(y_test, y_pred), precision_score(y_test, y_pred), recall_score(y_test, y_pred))\n",
    "confusion_matrix(y_test, y_pred)"
   ]
  },
  {
   "cell_type": "code",
   "execution_count": null,
   "metadata": {},
   "outputs": [],
   "source": []
  }
 ],
 "metadata": {
  "kernelspec": {
   "display_name": "Python 3",
   "language": "python",
   "name": "python3"
  },
  "language_info": {
   "codemirror_mode": {
    "name": "ipython",
    "version": 3
   },
   "file_extension": ".py",
   "mimetype": "text/x-python",
   "name": "python",
   "nbconvert_exporter": "python",
   "pygments_lexer": "ipython3",
   "version": "3.7.3"
  }
 },
 "nbformat": 4,
 "nbformat_minor": 2
}
