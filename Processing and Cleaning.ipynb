{
 "cells": [
  {
   "cell_type": "code",
   "execution_count": 1,
   "metadata": {},
   "outputs": [
    {
     "name": "stdout",
     "output_type": "stream",
     "text": [
      " _____________________________________ \r\n",
      "/ When you are in it up to your ears, \\\r\n",
      "\\ keep your mouth shut.               /\r\n",
      " ------------------------------------- \r\n",
      "      \\                    / \\  //\\\r\n",
      "       \\    |\\___/|      /   \\//  \\\\\r\n",
      "            /0  0  \\__  /    //  | \\ \\    \r\n",
      "           /     /  \\/_/    //   |  \\  \\  \r\n",
      "           @_^_@'/   \\/_   //    |   \\   \\ \r\n",
      "           //_^_/     \\/_ //     |    \\    \\\r\n",
      "        ( //) |        \\///      |     \\     \\\r\n",
      "      ( / /) _|_ /   )  //       |      \\     _\\\r\n",
      "    ( // /) '/,_ _ _/  ( ; -.    |    _ _\\.-~        .-~~~^-.\r\n",
      "  (( / / )) ,-{        _      `-.|.-~-.           .~         `.\r\n",
      " (( // / ))  '/\\      /                 ~-. _ .-~      .-~^-.  \\\r\n",
      " (( /// ))      `.   {            }                   /      \\  \\\r\n",
      "  (( / ))     .----~-.\\        \\-'                 .~         \\  `. \\^-.\r\n",
      "             ///.----..>        \\             _ -~             `.  ^-`  ^-_\r\n",
      "               ///-._ _ _ _ _ _ _}^ - - - - ~                     ~-- ,.-~\r\n",
      "                                                                  /.-~\r\n"
     ]
    }
   ],
   "source": [
    "'''GENERAL'''\n",
    "import os\n",
    "import collections\n",
    "import glob\n",
    "'''DATA'''\n",
    "import numpy as np\n",
    "import pandas as pd\n",
    "import databricks.koalas as ks\n",
    "'''SIGNATURE'''\n",
    "!fortune | cowsay -f dragon"
   ]
  },
  {
   "cell_type": "markdown",
   "metadata": {},
   "source": [
    "# Initial Processing\n",
    "\n",
    "I have a directory of csvs from stat.ink which contains player submitted match data. I want to process them into one cleaned database. I will first clean one csv to devolop a pipeline."
   ]
  },
  {
   "cell_type": "code",
   "execution_count": 2,
   "metadata": {},
   "outputs": [
    {
     "data": {
      "text/plain": [
       "684"
      ]
     },
     "execution_count": 2,
     "metadata": {},
     "output_type": "execute_result"
    }
   ],
   "source": [
    "# Gather list of raw data filenames\n",
    "raw = glob.glob(os.path.join('data/raw', '*.csv'))\n",
    "# Count the number of csvs\n",
    "len(raw)"
   ]
  },
  {
   "cell_type": "markdown",
   "metadata": {},
   "source": [
    "My data is currently spread among hundreds of csvs."
   ]
  },
  {
   "cell_type": "code",
   "execution_count": 3,
   "metadata": {},
   "outputs": [
    {
     "data": {
      "text/plain": [
       "['data/raw/2018-09-19.csv',\n",
       " 'data/raw/2019-06-03.csv',\n",
       " 'data/raw/2018-07-20.csv',\n",
       " 'data/raw/2019-06-17.csv',\n",
       " 'data/raw/2018-07-08.csv']"
      ]
     },
     "execution_count": 3,
     "metadata": {},
     "output_type": "execute_result"
    }
   ],
   "source": [
    "raw[:5]"
   ]
  },
  {
   "cell_type": "code",
   "execution_count": 4,
   "metadata": {},
   "outputs": [
    {
     "data": {
      "text/html": [
       "<div>\n",
       "<style scoped>\n",
       "    .dataframe tbody tr th:only-of-type {\n",
       "        vertical-align: middle;\n",
       "    }\n",
       "\n",
       "    .dataframe tbody tr th {\n",
       "        vertical-align: top;\n",
       "    }\n",
       "\n",
       "    .dataframe thead th {\n",
       "        text-align: right;\n",
       "    }\n",
       "</style>\n",
       "<table border=\"1\" class=\"dataframe\">\n",
       "  <thead>\n",
       "    <tr style=\"text-align: right;\">\n",
       "      <th></th>\n",
       "      <th># period</th>\n",
       "      <th>game-ver</th>\n",
       "      <th>lobby-mode</th>\n",
       "      <th>lobby</th>\n",
       "      <th>mode</th>\n",
       "      <th>stage</th>\n",
       "      <th>time</th>\n",
       "      <th>win</th>\n",
       "      <th>knockout</th>\n",
       "      <th>A1-weapon</th>\n",
       "      <th>...</th>\n",
       "      <th>B3-level</th>\n",
       "      <th>B4-weapon</th>\n",
       "      <th>B4-kill-assist</th>\n",
       "      <th>B4-kill</th>\n",
       "      <th>B4-assist</th>\n",
       "      <th>B4-death</th>\n",
       "      <th>B4-special</th>\n",
       "      <th>B4-inked</th>\n",
       "      <th>B4-rank</th>\n",
       "      <th>B4-level</th>\n",
       "    </tr>\n",
       "  </thead>\n",
       "  <tbody>\n",
       "    <tr>\n",
       "      <th>0</th>\n",
       "      <td>2018-08-31T12:00:00+00:00</td>\n",
       "      <td>3.2.2</td>\n",
       "      <td>gachi</td>\n",
       "      <td>standard</td>\n",
       "      <td>hoko</td>\n",
       "      <td>sumeshi</td>\n",
       "      <td>300</td>\n",
       "      <td>bravo</td>\n",
       "      <td>False</td>\n",
       "      <td>dynamo</td>\n",
       "      <td>...</td>\n",
       "      <td>19</td>\n",
       "      <td>maneuver</td>\n",
       "      <td>10.0</td>\n",
       "      <td>9.0</td>\n",
       "      <td>1.0</td>\n",
       "      <td>5.0</td>\n",
       "      <td>4.0</td>\n",
       "      <td>1298.0</td>\n",
       "      <td>b+</td>\n",
       "      <td>23.0</td>\n",
       "    </tr>\n",
       "    <tr>\n",
       "      <th>1</th>\n",
       "      <td>2018-08-31T12:00:00+00:00</td>\n",
       "      <td>3.2.2</td>\n",
       "      <td>gachi</td>\n",
       "      <td>standard</td>\n",
       "      <td>hoko</td>\n",
       "      <td>sumeshi</td>\n",
       "      <td>167</td>\n",
       "      <td>alpha</td>\n",
       "      <td>True</td>\n",
       "      <td>dynamo</td>\n",
       "      <td>...</td>\n",
       "      <td>45</td>\n",
       "      <td>furo</td>\n",
       "      <td>2.0</td>\n",
       "      <td>2.0</td>\n",
       "      <td>0.0</td>\n",
       "      <td>6.0</td>\n",
       "      <td>2.0</td>\n",
       "      <td>716.0</td>\n",
       "      <td>b+</td>\n",
       "      <td>45.0</td>\n",
       "    </tr>\n",
       "    <tr>\n",
       "      <th>2</th>\n",
       "      <td>2018-08-31T12:00:00+00:00</td>\n",
       "      <td>3.2.2</td>\n",
       "      <td>gachi</td>\n",
       "      <td>standard</td>\n",
       "      <td>hoko</td>\n",
       "      <td>sumeshi</td>\n",
       "      <td>108</td>\n",
       "      <td>alpha</td>\n",
       "      <td>True</td>\n",
       "      <td>dynamo</td>\n",
       "      <td>...</td>\n",
       "      <td>13</td>\n",
       "      <td>longblaster</td>\n",
       "      <td>4.0</td>\n",
       "      <td>4.0</td>\n",
       "      <td>0.0</td>\n",
       "      <td>2.0</td>\n",
       "      <td>2.0</td>\n",
       "      <td>623.0</td>\n",
       "      <td>b</td>\n",
       "      <td>27.0</td>\n",
       "    </tr>\n",
       "    <tr>\n",
       "      <th>3</th>\n",
       "      <td>2018-09-06T12:00:00+00:00</td>\n",
       "      <td>3.2.2</td>\n",
       "      <td>gachi</td>\n",
       "      <td>standard</td>\n",
       "      <td>hoko</td>\n",
       "      <td>shottsuru</td>\n",
       "      <td>312</td>\n",
       "      <td>bravo</td>\n",
       "      <td>False</td>\n",
       "      <td>dynamo</td>\n",
       "      <td>...</td>\n",
       "      <td>15</td>\n",
       "      <td>maneuver</td>\n",
       "      <td>3.0</td>\n",
       "      <td>1.0</td>\n",
       "      <td>2.0</td>\n",
       "      <td>7.0</td>\n",
       "      <td>1.0</td>\n",
       "      <td>0.0</td>\n",
       "      <td>b+</td>\n",
       "      <td>24.0</td>\n",
       "    </tr>\n",
       "    <tr>\n",
       "      <th>4</th>\n",
       "      <td>2018-09-06T12:00:00+00:00</td>\n",
       "      <td>3.2.2</td>\n",
       "      <td>gachi</td>\n",
       "      <td>standard</td>\n",
       "      <td>hoko</td>\n",
       "      <td>zatou</td>\n",
       "      <td>66</td>\n",
       "      <td>bravo</td>\n",
       "      <td>True</td>\n",
       "      <td>dynamo</td>\n",
       "      <td>...</td>\n",
       "      <td>31</td>\n",
       "      <td>furo</td>\n",
       "      <td>5.0</td>\n",
       "      <td>3.0</td>\n",
       "      <td>2.0</td>\n",
       "      <td>2.0</td>\n",
       "      <td>1.0</td>\n",
       "      <td>354.0</td>\n",
       "      <td>b+</td>\n",
       "      <td>26.0</td>\n",
       "    </tr>\n",
       "  </tbody>\n",
       "</table>\n",
       "<p>5 rows × 81 columns</p>\n",
       "</div>"
      ],
      "text/plain": [
       "                    # period game-ver lobby-mode     lobby  mode      stage  \\\n",
       "0  2018-08-31T12:00:00+00:00    3.2.2      gachi  standard  hoko    sumeshi   \n",
       "1  2018-08-31T12:00:00+00:00    3.2.2      gachi  standard  hoko    sumeshi   \n",
       "2  2018-08-31T12:00:00+00:00    3.2.2      gachi  standard  hoko    sumeshi   \n",
       "3  2018-09-06T12:00:00+00:00    3.2.2      gachi  standard  hoko  shottsuru   \n",
       "4  2018-09-06T12:00:00+00:00    3.2.2      gachi  standard  hoko      zatou   \n",
       "\n",
       "   time    win knockout A1-weapon  ...  B3-level    B4-weapon  B4-kill-assist  \\\n",
       "0   300  bravo    False    dynamo  ...        19     maneuver            10.0   \n",
       "1   167  alpha     True    dynamo  ...        45         furo             2.0   \n",
       "2   108  alpha     True    dynamo  ...        13  longblaster             4.0   \n",
       "3   312  bravo    False    dynamo  ...        15     maneuver             3.0   \n",
       "4    66  bravo     True    dynamo  ...        31         furo             5.0   \n",
       "\n",
       "   B4-kill  B4-assist  B4-death B4-special  B4-inked B4-rank  B4-level  \n",
       "0      9.0        1.0       5.0        4.0    1298.0      b+      23.0  \n",
       "1      2.0        0.0       6.0        2.0     716.0      b+      45.0  \n",
       "2      4.0        0.0       2.0        2.0     623.0       b      27.0  \n",
       "3      1.0        2.0       7.0        1.0       0.0      b+      24.0  \n",
       "4      3.0        2.0       2.0        1.0     354.0      b+      26.0  \n",
       "\n",
       "[5 rows x 81 columns]"
      ]
     },
     "execution_count": 4,
     "metadata": {},
     "output_type": "execute_result"
    }
   ],
   "source": [
    "# Load one to inspect\n",
    "test = pd.read_csv(raw[0])\n",
    "test.head()"
   ]
  },
  {
   "cell_type": "markdown",
   "metadata": {},
   "source": [
    "### Preliminary Feature Selection\n",
    "\n",
    "Since this data is from match results and I want to create a predictive model for win rate, there are many features that cannot be used as they are only knowable at the end of a match:\n",
    "\n",
    "- period: when the match was played\n",
    "    - irrelevant because this is not a timeseries model\n",
    "    - version number better covers patch changes\n",
    "- time: how long the match took\n",
    "- knockout: if the match was won through the objective as opposed to a time-out\n",
    "- player kill/assist/death/special/inked: player statistics calculated at the end of each match"
   ]
  },
  {
   "cell_type": "code",
   "execution_count": 5,
   "metadata": {},
   "outputs": [],
   "source": [
    "def splatoon_drop(df):\n",
    "    \"\"\" \n",
    "    Drops unnessecary features in stat.ink dataframes\n",
    "  \n",
    "    Parameters: \n",
    "    df (DataFrame): pandas or koalas dataframe on which to drop values\n",
    "  \n",
    "    Returns: \n",
    "    DataFrame: the dataframe with dropped features\n",
    "  \n",
    "    \"\"\"\n",
    "    # initialize list with first features\n",
    "    drop_lst = ['# period','time', 'knockout']\n",
    "    # concatanate player statistics features for each player\n",
    "    for player in ['A1', 'A2', 'A3', 'A4', 'B1', 'B2', 'B3', 'B4']:\n",
    "        drop_lst += [player+'-kill-assist', player+'-kill', player+'-assist',\n",
    "                     player+'-death', player+'-special', player+'-inked']\n",
    "    # drop features in list\n",
    "    return df.drop(drop_lst, axis=1)"
   ]
  },
  {
   "cell_type": "code",
   "execution_count": 6,
   "metadata": {},
   "outputs": [
    {
     "name": "stdout",
     "output_type": "stream",
     "text": [
      "<class 'pandas.core.frame.DataFrame'>\n",
      "RangeIndex: 2445 entries, 0 to 2444\n",
      "Data columns (total 30 columns):\n",
      "game-ver      2445 non-null object\n",
      "lobby-mode    2445 non-null object\n",
      "lobby         2445 non-null object\n",
      "mode          2445 non-null object\n",
      "stage         2445 non-null object\n",
      "win           2445 non-null object\n",
      "A1-weapon     2443 non-null object\n",
      "A1-rank       1607 non-null object\n",
      "A1-level      2445 non-null int64\n",
      "A2-weapon     2442 non-null object\n",
      "A2-rank       1606 non-null object\n",
      "A2-level      2445 non-null int64\n",
      "A3-weapon     2442 non-null object\n",
      "A3-rank       1606 non-null object\n",
      "A3-level      2445 non-null int64\n",
      "A4-weapon     2438 non-null object\n",
      "A4-rank       1604 non-null object\n",
      "A4-level      2443 non-null float64\n",
      "B1-weapon     2439 non-null object\n",
      "B1-rank       1603 non-null object\n",
      "B1-level      2445 non-null int64\n",
      "B2-weapon     2439 non-null object\n",
      "B2-rank       1604 non-null object\n",
      "B2-level      2445 non-null int64\n",
      "B3-weapon     2435 non-null object\n",
      "B3-rank       1604 non-null object\n",
      "B3-level      2445 non-null int64\n",
      "B4-weapon     2439 non-null object\n",
      "B4-rank       1604 non-null object\n",
      "B4-level      2444 non-null float64\n",
      "dtypes: float64(2), int64(6), object(22)\n",
      "memory usage: 573.1+ KB\n"
     ]
    }
   ],
   "source": [
    "test = splatoon_drop(test)\n",
    "test.info()"
   ]
  },
  {
   "cell_type": "markdown",
   "metadata": {},
   "source": [
    "### Exploding the rows\n",
    "\n",
    "Since I am interested in making predictions based off data from one player, I will explode each match data into 8 separate rows, one for every player. The function will drop data from A1 by default as A1 is the player who submitted the data, which can lead to bias. I have more than enough data to drop it."
   ]
  },
  {
   "cell_type": "code",
   "execution_count": 7,
   "metadata": {},
   "outputs": [],
   "source": [
    "def splatoon_explode(df, drop=True):\n",
    "    \"\"\" \n",
    "    Explodes rows of stat.ink dataframes into one row for each player.\n",
    "    This function is intended to be run after splatoon_drop and\n",
    "    is hardcoded to accept its output features.\n",
    "  \n",
    "    Parameters: \n",
    "    df (DataFrame): Pandas dataframe on which to explode\n",
    "  \n",
    "    Returns: \n",
    "    koalas: Exploded dataframe stored in a koalas database\n",
    "  \n",
    "    \"\"\"\n",
    "    # get feature names\n",
    "    features = df.columns.tolist()\n",
    "    # features for all players\n",
    "    shared = features[:5]\n",
    "    # features for specific player\n",
    "    a1 = features[6:9]\n",
    "    a2 = features[9:12]\n",
    "    a3 = features[12:15]\n",
    "    a4 = features[15:18]\n",
    "    b1 = features[18:21]\n",
    "    b2 = features[21:24]\n",
    "    b3 = features[24:27]\n",
    "    b4 = features[27:]\n",
    "    # group players by team\n",
    "    if drop:\n",
    "        a_team = [a2, a3, a4]\n",
    "    else:\n",
    "        a_team = [a1, a2, a3, a4]\n",
    "    b_team = [b1, b2, b3, b4]\n",
    "\n",
    "    # initialize temporaty storage list\n",
    "    tmp = collections.deque()\n",
    "    # iterate through rows\n",
    "    for index, row in df.iterrows():\n",
    "        # get features common to both teams\n",
    "        both = [index] + row[shared].tolist()\n",
    "        # append features for each a team player\n",
    "        for player in a_team:\n",
    "            tmp.append(both + row[player].tolist() + [row.win == 'alpha'])\n",
    "        # append features for each b team player\n",
    "        for player in b_team:\n",
    "            tmp.append(both + row[player].tolist() + [row.win == 'bravo'])\n",
    "\n",
    "    #create new column names, including the index of the match the data was from\n",
    "    new_cols = ['match'] + shared + ['weapon', 'rank', 'level', 'win']\n",
    "    # return new koalas database\n",
    "    return pd.DataFrame(list(tmp), columns=new_cols)"
   ]
  },
  {
   "cell_type": "code",
   "execution_count": 8,
   "metadata": {},
   "outputs": [
    {
     "name": "stdout",
     "output_type": "stream",
     "text": [
      "<class 'pandas.core.frame.DataFrame'>\n",
      "RangeIndex: 17115 entries, 0 to 17114\n",
      "Data columns (total 10 columns):\n",
      "match         17115 non-null int64\n",
      "game-ver      17115 non-null object\n",
      "lobby-mode    17115 non-null object\n",
      "lobby         17115 non-null object\n",
      "mode          17115 non-null object\n",
      "stage         17115 non-null object\n",
      "weapon        17074 non-null object\n",
      "rank          11231 non-null object\n",
      "level         17112 non-null float64\n",
      "win           17115 non-null bool\n",
      "dtypes: bool(1), float64(1), int64(1), object(7)\n",
      "memory usage: 1.2+ MB\n"
     ]
    }
   ],
   "source": [
    "test = splatoon_explode(test)\n",
    "test.info()"
   ]
  },
  {
   "cell_type": "code",
   "execution_count": 9,
   "metadata": {},
   "outputs": [
    {
     "data": {
      "text/html": [
       "<div>\n",
       "<style scoped>\n",
       "    .dataframe tbody tr th:only-of-type {\n",
       "        vertical-align: middle;\n",
       "    }\n",
       "\n",
       "    .dataframe tbody tr th {\n",
       "        vertical-align: top;\n",
       "    }\n",
       "\n",
       "    .dataframe thead th {\n",
       "        text-align: right;\n",
       "    }\n",
       "</style>\n",
       "<table border=\"1\" class=\"dataframe\">\n",
       "  <thead>\n",
       "    <tr style=\"text-align: right;\">\n",
       "      <th></th>\n",
       "      <th>match</th>\n",
       "      <th>game-ver</th>\n",
       "      <th>lobby-mode</th>\n",
       "      <th>lobby</th>\n",
       "      <th>mode</th>\n",
       "      <th>stage</th>\n",
       "      <th>weapon</th>\n",
       "      <th>rank</th>\n",
       "      <th>level</th>\n",
       "      <th>win</th>\n",
       "    </tr>\n",
       "  </thead>\n",
       "  <tbody>\n",
       "    <tr>\n",
       "      <th>0</th>\n",
       "      <td>0</td>\n",
       "      <td>3.2.2</td>\n",
       "      <td>gachi</td>\n",
       "      <td>standard</td>\n",
       "      <td>hoko</td>\n",
       "      <td>sumeshi</td>\n",
       "      <td>wakaba</td>\n",
       "      <td>b</td>\n",
       "      <td>14.0</td>\n",
       "      <td>False</td>\n",
       "    </tr>\n",
       "    <tr>\n",
       "      <th>1</th>\n",
       "      <td>0</td>\n",
       "      <td>3.2.2</td>\n",
       "      <td>gachi</td>\n",
       "      <td>standard</td>\n",
       "      <td>hoko</td>\n",
       "      <td>sumeshi</td>\n",
       "      <td>maneuver</td>\n",
       "      <td>b+</td>\n",
       "      <td>60.0</td>\n",
       "      <td>False</td>\n",
       "    </tr>\n",
       "    <tr>\n",
       "      <th>2</th>\n",
       "      <td>0</td>\n",
       "      <td>3.2.2</td>\n",
       "      <td>gachi</td>\n",
       "      <td>standard</td>\n",
       "      <td>hoko</td>\n",
       "      <td>sumeshi</td>\n",
       "      <td>liter4k</td>\n",
       "      <td>b+</td>\n",
       "      <td>21.0</td>\n",
       "      <td>False</td>\n",
       "    </tr>\n",
       "    <tr>\n",
       "      <th>3</th>\n",
       "      <td>0</td>\n",
       "      <td>3.2.2</td>\n",
       "      <td>gachi</td>\n",
       "      <td>standard</td>\n",
       "      <td>hoko</td>\n",
       "      <td>sumeshi</td>\n",
       "      <td>splatcharger</td>\n",
       "      <td>b+</td>\n",
       "      <td>37.0</td>\n",
       "      <td>True</td>\n",
       "    </tr>\n",
       "    <tr>\n",
       "      <th>4</th>\n",
       "      <td>0</td>\n",
       "      <td>3.2.2</td>\n",
       "      <td>gachi</td>\n",
       "      <td>standard</td>\n",
       "      <td>hoko</td>\n",
       "      <td>sumeshi</td>\n",
       "      <td>nzap89</td>\n",
       "      <td>b-</td>\n",
       "      <td>18.0</td>\n",
       "      <td>True</td>\n",
       "    </tr>\n",
       "    <tr>\n",
       "      <th>5</th>\n",
       "      <td>0</td>\n",
       "      <td>3.2.2</td>\n",
       "      <td>gachi</td>\n",
       "      <td>standard</td>\n",
       "      <td>hoko</td>\n",
       "      <td>sumeshi</td>\n",
       "      <td>jetsweeper</td>\n",
       "      <td>b-</td>\n",
       "      <td>19.0</td>\n",
       "      <td>True</td>\n",
       "    </tr>\n",
       "    <tr>\n",
       "      <th>6</th>\n",
       "      <td>0</td>\n",
       "      <td>3.2.2</td>\n",
       "      <td>gachi</td>\n",
       "      <td>standard</td>\n",
       "      <td>hoko</td>\n",
       "      <td>sumeshi</td>\n",
       "      <td>maneuver</td>\n",
       "      <td>b+</td>\n",
       "      <td>23.0</td>\n",
       "      <td>True</td>\n",
       "    </tr>\n",
       "    <tr>\n",
       "      <th>7</th>\n",
       "      <td>1</td>\n",
       "      <td>3.2.2</td>\n",
       "      <td>gachi</td>\n",
       "      <td>standard</td>\n",
       "      <td>hoko</td>\n",
       "      <td>sumeshi</td>\n",
       "      <td>clashblaster</td>\n",
       "      <td>b+</td>\n",
       "      <td>39.0</td>\n",
       "      <td>True</td>\n",
       "    </tr>\n",
       "    <tr>\n",
       "      <th>8</th>\n",
       "      <td>1</td>\n",
       "      <td>3.2.2</td>\n",
       "      <td>gachi</td>\n",
       "      <td>standard</td>\n",
       "      <td>hoko</td>\n",
       "      <td>sumeshi</td>\n",
       "      <td>carbon</td>\n",
       "      <td>b+</td>\n",
       "      <td>46.0</td>\n",
       "      <td>True</td>\n",
       "    </tr>\n",
       "    <tr>\n",
       "      <th>9</th>\n",
       "      <td>1</td>\n",
       "      <td>3.2.2</td>\n",
       "      <td>gachi</td>\n",
       "      <td>standard</td>\n",
       "      <td>hoko</td>\n",
       "      <td>sumeshi</td>\n",
       "      <td>splatscope</td>\n",
       "      <td>b-</td>\n",
       "      <td>18.0</td>\n",
       "      <td>True</td>\n",
       "    </tr>\n",
       "    <tr>\n",
       "      <th>10</th>\n",
       "      <td>1</td>\n",
       "      <td>3.2.2</td>\n",
       "      <td>gachi</td>\n",
       "      <td>standard</td>\n",
       "      <td>hoko</td>\n",
       "      <td>sumeshi</td>\n",
       "      <td>heroroller_replica</td>\n",
       "      <td>b-</td>\n",
       "      <td>39.0</td>\n",
       "      <td>False</td>\n",
       "    </tr>\n",
       "    <tr>\n",
       "      <th>11</th>\n",
       "      <td>1</td>\n",
       "      <td>3.2.2</td>\n",
       "      <td>gachi</td>\n",
       "      <td>standard</td>\n",
       "      <td>hoko</td>\n",
       "      <td>sumeshi</td>\n",
       "      <td>liter4k_scope</td>\n",
       "      <td>b+</td>\n",
       "      <td>54.0</td>\n",
       "      <td>False</td>\n",
       "    </tr>\n",
       "    <tr>\n",
       "      <th>12</th>\n",
       "      <td>1</td>\n",
       "      <td>3.2.2</td>\n",
       "      <td>gachi</td>\n",
       "      <td>standard</td>\n",
       "      <td>hoko</td>\n",
       "      <td>sumeshi</td>\n",
       "      <td>dualsweeper_custom</td>\n",
       "      <td>b</td>\n",
       "      <td>45.0</td>\n",
       "      <td>False</td>\n",
       "    </tr>\n",
       "    <tr>\n",
       "      <th>13</th>\n",
       "      <td>1</td>\n",
       "      <td>3.2.2</td>\n",
       "      <td>gachi</td>\n",
       "      <td>standard</td>\n",
       "      <td>hoko</td>\n",
       "      <td>sumeshi</td>\n",
       "      <td>furo</td>\n",
       "      <td>b+</td>\n",
       "      <td>45.0</td>\n",
       "      <td>False</td>\n",
       "    </tr>\n",
       "    <tr>\n",
       "      <th>14</th>\n",
       "      <td>2</td>\n",
       "      <td>3.2.2</td>\n",
       "      <td>gachi</td>\n",
       "      <td>standard</td>\n",
       "      <td>hoko</td>\n",
       "      <td>sumeshi</td>\n",
       "      <td>splatroller</td>\n",
       "      <td>b</td>\n",
       "      <td>23.0</td>\n",
       "      <td>True</td>\n",
       "    </tr>\n",
       "    <tr>\n",
       "      <th>15</th>\n",
       "      <td>2</td>\n",
       "      <td>3.2.2</td>\n",
       "      <td>gachi</td>\n",
       "      <td>standard</td>\n",
       "      <td>hoko</td>\n",
       "      <td>sumeshi</td>\n",
       "      <td>splatcharger</td>\n",
       "      <td>b-</td>\n",
       "      <td>16.0</td>\n",
       "      <td>True</td>\n",
       "    </tr>\n",
       "    <tr>\n",
       "      <th>16</th>\n",
       "      <td>2</td>\n",
       "      <td>3.2.2</td>\n",
       "      <td>gachi</td>\n",
       "      <td>standard</td>\n",
       "      <td>hoko</td>\n",
       "      <td>sumeshi</td>\n",
       "      <td>nzap89</td>\n",
       "      <td>b+</td>\n",
       "      <td>41.0</td>\n",
       "      <td>True</td>\n",
       "    </tr>\n",
       "    <tr>\n",
       "      <th>17</th>\n",
       "      <td>2</td>\n",
       "      <td>3.2.2</td>\n",
       "      <td>gachi</td>\n",
       "      <td>standard</td>\n",
       "      <td>hoko</td>\n",
       "      <td>sumeshi</td>\n",
       "      <td>splatroller</td>\n",
       "      <td>b+</td>\n",
       "      <td>33.0</td>\n",
       "      <td>False</td>\n",
       "    </tr>\n",
       "    <tr>\n",
       "      <th>18</th>\n",
       "      <td>2</td>\n",
       "      <td>3.2.2</td>\n",
       "      <td>gachi</td>\n",
       "      <td>standard</td>\n",
       "      <td>hoko</td>\n",
       "      <td>sumeshi</td>\n",
       "      <td>dualsweeper_custom</td>\n",
       "      <td>b-</td>\n",
       "      <td>16.0</td>\n",
       "      <td>False</td>\n",
       "    </tr>\n",
       "    <tr>\n",
       "      <th>19</th>\n",
       "      <td>2</td>\n",
       "      <td>3.2.2</td>\n",
       "      <td>gachi</td>\n",
       "      <td>standard</td>\n",
       "      <td>hoko</td>\n",
       "      <td>sumeshi</td>\n",
       "      <td>sshooter</td>\n",
       "      <td>b</td>\n",
       "      <td>13.0</td>\n",
       "      <td>False</td>\n",
       "    </tr>\n",
       "  </tbody>\n",
       "</table>\n",
       "</div>"
      ],
      "text/plain": [
       "    match game-ver lobby-mode     lobby  mode    stage              weapon  \\\n",
       "0       0    3.2.2      gachi  standard  hoko  sumeshi              wakaba   \n",
       "1       0    3.2.2      gachi  standard  hoko  sumeshi            maneuver   \n",
       "2       0    3.2.2      gachi  standard  hoko  sumeshi             liter4k   \n",
       "3       0    3.2.2      gachi  standard  hoko  sumeshi        splatcharger   \n",
       "4       0    3.2.2      gachi  standard  hoko  sumeshi              nzap89   \n",
       "5       0    3.2.2      gachi  standard  hoko  sumeshi          jetsweeper   \n",
       "6       0    3.2.2      gachi  standard  hoko  sumeshi            maneuver   \n",
       "7       1    3.2.2      gachi  standard  hoko  sumeshi        clashblaster   \n",
       "8       1    3.2.2      gachi  standard  hoko  sumeshi              carbon   \n",
       "9       1    3.2.2      gachi  standard  hoko  sumeshi          splatscope   \n",
       "10      1    3.2.2      gachi  standard  hoko  sumeshi  heroroller_replica   \n",
       "11      1    3.2.2      gachi  standard  hoko  sumeshi       liter4k_scope   \n",
       "12      1    3.2.2      gachi  standard  hoko  sumeshi  dualsweeper_custom   \n",
       "13      1    3.2.2      gachi  standard  hoko  sumeshi                furo   \n",
       "14      2    3.2.2      gachi  standard  hoko  sumeshi         splatroller   \n",
       "15      2    3.2.2      gachi  standard  hoko  sumeshi        splatcharger   \n",
       "16      2    3.2.2      gachi  standard  hoko  sumeshi              nzap89   \n",
       "17      2    3.2.2      gachi  standard  hoko  sumeshi         splatroller   \n",
       "18      2    3.2.2      gachi  standard  hoko  sumeshi  dualsweeper_custom   \n",
       "19      2    3.2.2      gachi  standard  hoko  sumeshi            sshooter   \n",
       "\n",
       "   rank  level    win  \n",
       "0     b   14.0  False  \n",
       "1    b+   60.0  False  \n",
       "2    b+   21.0  False  \n",
       "3    b+   37.0   True  \n",
       "4    b-   18.0   True  \n",
       "5    b-   19.0   True  \n",
       "6    b+   23.0   True  \n",
       "7    b+   39.0   True  \n",
       "8    b+   46.0   True  \n",
       "9    b-   18.0   True  \n",
       "10   b-   39.0  False  \n",
       "11   b+   54.0  False  \n",
       "12    b   45.0  False  \n",
       "13   b+   45.0  False  \n",
       "14    b   23.0   True  \n",
       "15   b-   16.0   True  \n",
       "16   b+   41.0   True  \n",
       "17   b+   33.0  False  \n",
       "18   b-   16.0  False  \n",
       "19    b   13.0  False  "
      ]
     },
     "execution_count": 9,
     "metadata": {},
     "output_type": "execute_result"
    }
   ],
   "source": [
    "test.head(20)"
   ]
  },
  {
   "cell_type": "markdown",
   "metadata": {},
   "source": [
    "The processing worked, time to save it as a pickle file."
   ]
  },
  {
   "cell_type": "code",
   "execution_count": 12,
   "metadata": {},
   "outputs": [],
   "source": [
    "# test.to_pickle('data/test.pkl')"
   ]
  },
  {
   "cell_type": "markdown",
   "metadata": {},
   "source": [
    "### Completed Pipeline\n",
    "\n",
    "I test out the pipeline here in the notebook but it is meant to be used called through the src/pipeline.py file. the pipeline is designed to read all csvs from data/raw and output them as converted pickles in data/dump. The paths are hardcoded in the program as I do not need it to change and would rather setup consistent folders than define the paths every time.\n",
    "\n",
    "Here I test it out with the first two files."
   ]
  },
  {
   "cell_type": "code",
   "execution_count": 29,
   "metadata": {},
   "outputs": [],
   "source": [
    "in_path = 'data/raw/'\n",
    "out_path = 'data/dump/'\n",
    "l1 = len(in_path)\n",
    "\n",
    "files = glob.glob(os.path.join(in_path, '*.csv'))\n",
    "\n",
    "for file in files[:2]:\n",
    "    Break\n",
    "#     splatoon_explode(splatoon_drop(pd.read_csv(file))).to_pickle(out_path + file[l:-4] + '.pkl')"
   ]
  },
  {
   "cell_type": "markdown",
   "metadata": {},
   "source": [
    "# Merging the daraframes\n",
    "\n",
    "With conversion sucessful, I now have a directory full of processed pickle files that can be easily expanded as data is collected. I will merge them all into one large pickle file."
   ]
  },
  {
   "cell_type": "code",
   "execution_count": 2,
   "metadata": {},
   "outputs": [],
   "source": [
    "def splatoon_concat(path = 'data/dump'):\n",
    "    \"\"\" \n",
    "    Concatanates multiple pickled dataframes from one directory into a dataframe\n",
    "  \n",
    "    Parameters: \n",
    "    path (string): optional specified file path\n",
    "  \n",
    "    Returns: \n",
    "    DataFrame: pandas dataframe containing data from all csvs.\n",
    "\n",
    "    \"\"\"\n",
    "    # get filenames\n",
    "    files = glob.glob(os.path.join(path, '*.pkl'))\n",
    "    # concat all files\n",
    "    return pd.concat((pd.read_pickle(f) for f in files))"
   ]
  },
  {
   "cell_type": "code",
   "execution_count": 4,
   "metadata": {},
   "outputs": [
    {
     "data": {
      "text/plain": [
       "(13145426, 10)"
      ]
     },
     "execution_count": 4,
     "metadata": {},
     "output_type": "execute_result"
    }
   ],
   "source": [
    "df = splatoon_concat()\n",
    "# df.to_pickle('data/by_player.pkl')\n",
    "df.shape"
   ]
  },
  {
   "cell_type": "markdown",
   "metadata": {},
   "source": [
    "### Cleaning up the merge\n",
    "\n",
    "I know there were a few missing values in the original csvs but I did not want to drop before exploding as a missing value for one player would caue the entire match to be dropped."
   ]
  },
  {
   "cell_type": "code",
   "execution_count": 5,
   "metadata": {},
   "outputs": [
    {
     "name": "stdout",
     "output_type": "stream",
     "text": [
      "<class 'pandas.core.frame.DataFrame'>\n",
      "Int64Index: 13145426 entries, 0 to 15623\n",
      "Data columns (total 10 columns):\n",
      "match         int64\n",
      "game-ver      object\n",
      "lobby-mode    object\n",
      "lobby         object\n",
      "mode          object\n",
      "stage         object\n",
      "weapon        object\n",
      "rank          object\n",
      "level         float64\n",
      "win           bool\n",
      "dtypes: bool(1), float64(1), int64(1), object(7)\n",
      "memory usage: 1015.5+ MB\n"
     ]
    }
   ],
   "source": [
    "df = pd.read_pickle('data/by_player.pkl')\n",
    "df.info()"
   ]
  },
  {
   "cell_type": "code",
   "execution_count": 3,
   "metadata": {},
   "outputs": [
    {
     "data": {
      "text/plain": [
       "match               0\n",
       "game-ver            0\n",
       "lobby-mode          0\n",
       "lobby               0\n",
       "mode                0\n",
       "stage               0\n",
       "weapon          30283\n",
       "rank          4594541\n",
       "level            3740\n",
       "win                 0\n",
       "dtype: int64"
      ]
     },
     "execution_count": 3,
     "metadata": {},
     "output_type": "execute_result"
    }
   ],
   "source": [
    "np.sum(df.isnull())"
   ]
  },
  {
   "cell_type": "markdown",
   "metadata": {},
   "source": [
    "##\n",
    "Weapon is absolutely critical for my model and I have plenty of observations so I can safely drop them."
   ]
  },
  {
   "cell_type": "code",
   "execution_count": 3,
   "metadata": {},
   "outputs": [
    {
     "data": {
      "text/plain": [
       "match               0\n",
       "game-ver            0\n",
       "lobby-mode          0\n",
       "lobby               0\n",
       "mode                0\n",
       "stage               0\n",
       "weapon              0\n",
       "rank          4577927\n",
       "level               0\n",
       "win                 0\n",
       "dtype: int64"
      ]
     },
     "execution_count": 3,
     "metadata": {},
     "output_type": "execute_result"
    }
   ],
   "source": [
    "df = df[df.weapon.notnull()]\n",
    "np.sum(df.isnull())"
   ]
  },
  {
   "cell_type": "code",
   "execution_count": 4,
   "metadata": {},
   "outputs": [
    {
     "data": {
      "text/plain": [
       "(12792037, 10)"
      ]
     },
     "execution_count": 4,
     "metadata": {},
     "output_type": "execute_result"
    }
   ],
   "source": [
    "df.shape"
   ]
  },
  {
   "cell_type": "markdown",
   "metadata": {},
   "source": [
    "In a stroke of luck, dropping null values for weapon also cleaned up level. I suspect missing rank to be from unranked (regular and fest) matches, so I will look into that."
   ]
  },
  {
   "cell_type": "code",
   "execution_count": 5,
   "metadata": {},
   "outputs": [
    {
     "data": {
      "text/plain": [
       "array(['regular', 'gachi', 'fest'], dtype=object)"
      ]
     },
     "execution_count": 5,
     "metadata": {},
     "output_type": "execute_result"
    }
   ],
   "source": [
    "df[df['rank'].isnull()]['lobby-mode'].unique()"
   ]
  },
  {
   "cell_type": "code",
   "execution_count": 6,
   "metadata": {},
   "outputs": [
    {
     "data": {
      "text/plain": [
       "22540"
      ]
     },
     "execution_count": 6,
     "metadata": {},
     "output_type": "execute_result"
    }
   ],
   "source": [
    "# gachi is the only ranked battle mode\n",
    "np.sum(df[df['rank'].isnull()]['lobby-mode']=='gachi')"
   ]
  },
  {
   "cell_type": "markdown",
   "metadata": {},
   "source": [
    "It seems that there are some missing values in ranked battles, I will drop them."
   ]
  },
  {
   "cell_type": "code",
   "execution_count": 5,
   "metadata": {},
   "outputs": [
    {
     "data": {
      "text/plain": [
       "(12769497, 10)"
      ]
     },
     "execution_count": 5,
     "metadata": {},
     "output_type": "execute_result"
    }
   ],
   "source": [
    "df = df[(df['lobby-mode']!='gachi') | (df['rank'].notnull())]\n",
    "df.shape"
   ]
  },
  {
   "cell_type": "markdown",
   "metadata": {},
   "source": [
    "Save to pickle to use in EDA and modeling."
   ]
  },
  {
   "cell_type": "code",
   "execution_count": null,
   "metadata": {},
   "outputs": [],
   "source": [
    "# df.to_pickle('data/clean.pkl')"
   ]
  }
 ],
 "metadata": {
  "kernelspec": {
   "display_name": "Python 3",
   "language": "python",
   "name": "python3"
  },
  "language_info": {
   "codemirror_mode": {
    "name": "ipython",
    "version": 3
   },
   "file_extension": ".py",
   "mimetype": "text/x-python",
   "name": "python",
   "nbconvert_exporter": "python",
   "pygments_lexer": "ipython3",
   "version": "3.7.3"
  }
 },
 "nbformat": 4,
 "nbformat_minor": 2
}
