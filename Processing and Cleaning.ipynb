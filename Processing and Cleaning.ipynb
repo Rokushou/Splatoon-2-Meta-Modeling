{
 "cells": [
  {
   "cell_type": "code",
   "execution_count": 1,
   "metadata": {},
   "outputs": [
    {
     "name": "stdout",
     "output_type": "stream",
     "text": [
      " ______________________________________ \r\n",
      "/ Suicide is simply a case of mistaken \\\r\n",
      "\\ identity.                            /\r\n",
      " -------------------------------------- \r\n",
      "      \\                    / \\  //\\\r\n",
      "       \\    |\\___/|      /   \\//  \\\\\r\n",
      "            /0  0  \\__  /    //  | \\ \\    \r\n",
      "           /     /  \\/_/    //   |  \\  \\  \r\n",
      "           @_^_@'/   \\/_   //    |   \\   \\ \r\n",
      "           //_^_/     \\/_ //     |    \\    \\\r\n",
      "        ( //) |        \\///      |     \\     \\\r\n",
      "      ( / /) _|_ /   )  //       |      \\     _\\\r\n",
      "    ( // /) '/,_ _ _/  ( ; -.    |    _ _\\.-~        .-~~~^-.\r\n",
      "  (( / / )) ,-{        _      `-.|.-~-.           .~         `.\r\n",
      " (( // / ))  '/\\      /                 ~-. _ .-~      .-~^-.  \\\r\n",
      " (( /// ))      `.   {            }                   /      \\  \\\r\n",
      "  (( / ))     .----~-.\\        \\-'                 .~         \\  `. \\^-.\r\n",
      "             ///.----..>        \\             _ -~             `.  ^-`  ^-_\r\n",
      "               ///-._ _ _ _ _ _ _}^ - - - - ~                     ~-- ,.-~\r\n",
      "                                                                  /.-~\r\n"
     ]
    }
   ],
   "source": [
    "'''GENERAL'''\n",
    "import os\n",
    "import collections\n",
    "import glob\n",
    "'''DATA'''\n",
    "import numpy as np\n",
    "import pandas as pd\n",
    "import databricks.koalas as ks\n",
    "'''SIGNATURE'''\n",
    "!fortune | cowsay -f dragon"
   ]
  },
  {
   "cell_type": "markdown",
   "metadata": {},
   "source": [
    "# Initial Processing\n",
    "\n",
    "I have a directory of csvs from stat.ink which contains player submitted match data. I want to process them into one cleaned database. Leveraging the power of Koalas, I can use a Spark backend with a Pandas-like interface. I will first clean one csv to devolop a pipeline."
   ]
  },
  {
   "cell_type": "markdown",
   "metadata": {},
   "source": [
    "### Combining csv's\n",
    "My data is currently spread among hundreds of csvs."
   ]
  },
  {
   "cell_type": "code",
   "execution_count": 2,
   "metadata": {},
   "outputs": [
    {
     "data": {
      "text/plain": [
       "684"
      ]
     },
     "execution_count": 2,
     "metadata": {},
     "output_type": "execute_result"
    }
   ],
   "source": [
    "# Gather list of raw data filenames\n",
    "raw = glob.glob(os.path.join('data/raw', '*.csv'))\n",
    "# Count the number of csvs\n",
    "len(raw)"
   ]
  },
  {
   "cell_type": "code",
   "execution_count": 3,
   "metadata": {},
   "outputs": [
    {
     "data": {
      "text/html": [
       "<div>\n",
       "<style scoped>\n",
       "    .dataframe tbody tr th:only-of-type {\n",
       "        vertical-align: middle;\n",
       "    }\n",
       "\n",
       "    .dataframe tbody tr th {\n",
       "        vertical-align: top;\n",
       "    }\n",
       "\n",
       "    .dataframe thead th {\n",
       "        text-align: right;\n",
       "    }\n",
       "</style>\n",
       "<table border=\"1\" class=\"dataframe\">\n",
       "  <thead>\n",
       "    <tr style=\"text-align: right;\">\n",
       "      <th></th>\n",
       "      <th># period</th>\n",
       "      <th>game-ver</th>\n",
       "      <th>lobby-mode</th>\n",
       "      <th>lobby</th>\n",
       "      <th>mode</th>\n",
       "      <th>stage</th>\n",
       "      <th>time</th>\n",
       "      <th>win</th>\n",
       "      <th>knockout</th>\n",
       "      <th>A1-weapon</th>\n",
       "      <th>...</th>\n",
       "      <th>B3-level</th>\n",
       "      <th>B4-weapon</th>\n",
       "      <th>B4-kill-assist</th>\n",
       "      <th>B4-kill</th>\n",
       "      <th>B4-assist</th>\n",
       "      <th>B4-death</th>\n",
       "      <th>B4-special</th>\n",
       "      <th>B4-inked</th>\n",
       "      <th>B4-rank</th>\n",
       "      <th>B4-level</th>\n",
       "    </tr>\n",
       "  </thead>\n",
       "  <tbody>\n",
       "    <tr>\n",
       "      <th>0</th>\n",
       "      <td>2018-08-31T12:00:00+00:00</td>\n",
       "      <td>3.2.2</td>\n",
       "      <td>gachi</td>\n",
       "      <td>standard</td>\n",
       "      <td>hoko</td>\n",
       "      <td>sumeshi</td>\n",
       "      <td>300</td>\n",
       "      <td>bravo</td>\n",
       "      <td>False</td>\n",
       "      <td>dynamo</td>\n",
       "      <td>...</td>\n",
       "      <td>19</td>\n",
       "      <td>maneuver</td>\n",
       "      <td>10.0</td>\n",
       "      <td>9.0</td>\n",
       "      <td>1.0</td>\n",
       "      <td>5.0</td>\n",
       "      <td>4.0</td>\n",
       "      <td>1298.0</td>\n",
       "      <td>b+</td>\n",
       "      <td>23.0</td>\n",
       "    </tr>\n",
       "    <tr>\n",
       "      <th>1</th>\n",
       "      <td>2018-08-31T12:00:00+00:00</td>\n",
       "      <td>3.2.2</td>\n",
       "      <td>gachi</td>\n",
       "      <td>standard</td>\n",
       "      <td>hoko</td>\n",
       "      <td>sumeshi</td>\n",
       "      <td>167</td>\n",
       "      <td>alpha</td>\n",
       "      <td>True</td>\n",
       "      <td>dynamo</td>\n",
       "      <td>...</td>\n",
       "      <td>45</td>\n",
       "      <td>furo</td>\n",
       "      <td>2.0</td>\n",
       "      <td>2.0</td>\n",
       "      <td>0.0</td>\n",
       "      <td>6.0</td>\n",
       "      <td>2.0</td>\n",
       "      <td>716.0</td>\n",
       "      <td>b+</td>\n",
       "      <td>45.0</td>\n",
       "    </tr>\n",
       "    <tr>\n",
       "      <th>2</th>\n",
       "      <td>2018-08-31T12:00:00+00:00</td>\n",
       "      <td>3.2.2</td>\n",
       "      <td>gachi</td>\n",
       "      <td>standard</td>\n",
       "      <td>hoko</td>\n",
       "      <td>sumeshi</td>\n",
       "      <td>108</td>\n",
       "      <td>alpha</td>\n",
       "      <td>True</td>\n",
       "      <td>dynamo</td>\n",
       "      <td>...</td>\n",
       "      <td>13</td>\n",
       "      <td>longblaster</td>\n",
       "      <td>4.0</td>\n",
       "      <td>4.0</td>\n",
       "      <td>0.0</td>\n",
       "      <td>2.0</td>\n",
       "      <td>2.0</td>\n",
       "      <td>623.0</td>\n",
       "      <td>b</td>\n",
       "      <td>27.0</td>\n",
       "    </tr>\n",
       "    <tr>\n",
       "      <th>3</th>\n",
       "      <td>2018-09-06T12:00:00+00:00</td>\n",
       "      <td>3.2.2</td>\n",
       "      <td>gachi</td>\n",
       "      <td>standard</td>\n",
       "      <td>hoko</td>\n",
       "      <td>shottsuru</td>\n",
       "      <td>312</td>\n",
       "      <td>bravo</td>\n",
       "      <td>False</td>\n",
       "      <td>dynamo</td>\n",
       "      <td>...</td>\n",
       "      <td>15</td>\n",
       "      <td>maneuver</td>\n",
       "      <td>3.0</td>\n",
       "      <td>1.0</td>\n",
       "      <td>2.0</td>\n",
       "      <td>7.0</td>\n",
       "      <td>1.0</td>\n",
       "      <td>0.0</td>\n",
       "      <td>b+</td>\n",
       "      <td>24.0</td>\n",
       "    </tr>\n",
       "    <tr>\n",
       "      <th>4</th>\n",
       "      <td>2018-09-06T12:00:00+00:00</td>\n",
       "      <td>3.2.2</td>\n",
       "      <td>gachi</td>\n",
       "      <td>standard</td>\n",
       "      <td>hoko</td>\n",
       "      <td>zatou</td>\n",
       "      <td>66</td>\n",
       "      <td>bravo</td>\n",
       "      <td>True</td>\n",
       "      <td>dynamo</td>\n",
       "      <td>...</td>\n",
       "      <td>31</td>\n",
       "      <td>furo</td>\n",
       "      <td>5.0</td>\n",
       "      <td>3.0</td>\n",
       "      <td>2.0</td>\n",
       "      <td>2.0</td>\n",
       "      <td>1.0</td>\n",
       "      <td>354.0</td>\n",
       "      <td>b+</td>\n",
       "      <td>26.0</td>\n",
       "    </tr>\n",
       "  </tbody>\n",
       "</table>\n",
       "<p>5 rows × 81 columns</p>\n",
       "</div>"
      ],
      "text/plain": [
       "                    # period game-ver lobby-mode     lobby  mode      stage  \\\n",
       "0  2018-08-31T12:00:00+00:00    3.2.2      gachi  standard  hoko    sumeshi   \n",
       "1  2018-08-31T12:00:00+00:00    3.2.2      gachi  standard  hoko    sumeshi   \n",
       "2  2018-08-31T12:00:00+00:00    3.2.2      gachi  standard  hoko    sumeshi   \n",
       "3  2018-09-06T12:00:00+00:00    3.2.2      gachi  standard  hoko  shottsuru   \n",
       "4  2018-09-06T12:00:00+00:00    3.2.2      gachi  standard  hoko      zatou   \n",
       "\n",
       "   time    win knockout A1-weapon  ...  B3-level    B4-weapon  B4-kill-assist  \\\n",
       "0   300  bravo    False    dynamo  ...        19     maneuver            10.0   \n",
       "1   167  alpha     True    dynamo  ...        45         furo             2.0   \n",
       "2   108  alpha     True    dynamo  ...        13  longblaster             4.0   \n",
       "3   312  bravo    False    dynamo  ...        15     maneuver             3.0   \n",
       "4    66  bravo     True    dynamo  ...        31         furo             5.0   \n",
       "\n",
       "   B4-kill  B4-assist  B4-death B4-special  B4-inked B4-rank  B4-level  \n",
       "0      9.0        1.0       5.0        4.0    1298.0      b+      23.0  \n",
       "1      2.0        0.0       6.0        2.0     716.0      b+      45.0  \n",
       "2      4.0        0.0       2.0        2.0     623.0       b      27.0  \n",
       "3      1.0        2.0       7.0        1.0       0.0      b+      24.0  \n",
       "4      3.0        2.0       2.0        1.0     354.0      b+      26.0  \n",
       "\n",
       "[5 rows x 81 columns]"
      ]
     },
     "execution_count": 3,
     "metadata": {},
     "output_type": "execute_result"
    }
   ],
   "source": [
    "# Load one to inspect\n",
    "test = pd.read_csv(raw[0])\n",
    "test.head()"
   ]
  },
  {
   "cell_type": "markdown",
   "metadata": {},
   "source": [
    "I will need to combine all these into something usable like a pandas dataframe."
   ]
  },
  {
   "cell_type": "code",
   "execution_count": 4,
   "metadata": {},
   "outputs": [],
   "source": [
    "def splatoon_concat(path = 'data/raw'):\n",
    "    \"\"\" \n",
    "    Concatanates multiple csvs from one directory into a dataframe\n",
    "  \n",
    "    Parameters: \n",
    "    path (string): optional specified file path\n",
    "  \n",
    "    Returns: \n",
    "    DataFrame: Koalas dataframe containing data from all csvs.\n",
    "\n",
    "    \"\"\"\n",
    "    # get filenames\n",
    "    files = glob.glob(os.path.join(path, '*.csv'))\n",
    "    # concat all files\n",
    "    return pd.concat((pd.read_csv(f) for f in files))"
   ]
  },
  {
   "cell_type": "code",
   "execution_count": 5,
   "metadata": {},
   "outputs": [
    {
     "data": {
      "text/plain": [
       "(1831760, 81)"
      ]
     },
     "execution_count": 5,
     "metadata": {},
     "output_type": "execute_result"
    }
   ],
   "source": [
    "df = splatoon_concat()\n",
    "df.shape"
   ]
  },
  {
   "cell_type": "markdown",
   "metadata": {},
   "source": [
    "### Preliminary Feature Selection\n",
    "\n",
    "Since this data is from match results and I want to create a predictive model for win rate, there are many features that cannot be used as they are only knowable at the end of a match:\n",
    "\n",
    "- period: when the match was played\n",
    "    - irrelevant because this is not a timeseries model\n",
    "    - version number better covers patch changes\n",
    "- time: how long the match took\n",
    "- knockout: if the match was won through the objective as opposed to a time-out\n",
    "- player kill/assist/death/special/inked: player statistics calculated at the end of each match"
   ]
  },
  {
   "cell_type": "code",
   "execution_count": 6,
   "metadata": {},
   "outputs": [],
   "source": [
    "def splatoon_drop(df):\n",
    "    \"\"\" \n",
    "    Drops unnessecary features in stat.ink dataframes\n",
    "  \n",
    "    Parameters: \n",
    "    df (DataFrame): Pandas dataframe on which to drop values\n",
    "  \n",
    "    Returns: \n",
    "    DataFrame: the dataframe with dropped features\n",
    "  \n",
    "    \"\"\"\n",
    "    # initialize list with first features\n",
    "    drop_lst = ['# period','time', 'knockout']\n",
    "    # concatanate player statistics features for each player\n",
    "    for player in ['A1', 'A2', 'A3', 'A4', 'B1', 'B2', 'B3', 'B4']:\n",
    "        drop_lst += [player+'-kill-assist', player+'-kill', player+'-assist',\n",
    "                     player+'-death', player+'-special', player+'-inked']\n",
    "    # drop features in list\n",
    "    return df.drop(drop_lst, axis=1)"
   ]
  },
  {
   "cell_type": "code",
   "execution_count": 7,
   "metadata": {},
   "outputs": [
    {
     "name": "stdout",
     "output_type": "stream",
     "text": [
      "<class 'pandas.core.frame.DataFrame'>\n",
      "Int64Index: 1831760 entries, 0 to 2873\n",
      "Data columns (total 30 columns):\n",
      "game-ver      object\n",
      "lobby-mode    object\n",
      "lobby         object\n",
      "mode          object\n",
      "stage         object\n",
      "win           object\n",
      "A1-weapon     object\n",
      "A1-rank       object\n",
      "A1-level      int64\n",
      "A2-weapon     object\n",
      "A2-rank       object\n",
      "A2-level      float64\n",
      "A3-weapon     object\n",
      "A3-rank       object\n",
      "A3-level      float64\n",
      "A4-weapon     object\n",
      "A4-rank       object\n",
      "A4-level      float64\n",
      "B1-weapon     object\n",
      "B1-rank       object\n",
      "B1-level      int64\n",
      "B2-weapon     object\n",
      "B2-rank       object\n",
      "B2-level      float64\n",
      "B3-weapon     object\n",
      "B3-rank       object\n",
      "B3-level      float64\n",
      "B4-weapon     object\n",
      "B4-rank       object\n",
      "B4-level      float64\n",
      "dtypes: float64(6), int64(2), object(22)\n",
      "memory usage: 433.2+ MB\n"
     ]
    }
   ],
   "source": [
    "df = splatoon_drop(df)\n",
    "df.info()"
   ]
  },
  {
   "cell_type": "markdown",
   "metadata": {},
   "source": [
    "Save output as a pickle file for midpoint backup, the next part can get dicey."
   ]
  },
  {
   "cell_type": "code",
   "execution_count": 8,
   "metadata": {},
   "outputs": [],
   "source": [
    "df.to_pickle('data/merge.pkl')"
   ]
  },
  {
   "cell_type": "markdown",
   "metadata": {},
   "source": [
    "### Exploding the rows\n",
    "\n",
    "Since I am interested in making predictions based off data from one player, I will explode each match data into 8 separate rows, one for every player. The function will drop data from A1 by default as A1 is the player who submitted the data, which can lead to bias. I have more than enough data to drop it."
   ]
  },
  {
   "cell_type": "code",
   "execution_count": 15,
   "metadata": {},
   "outputs": [],
   "source": [
    "def splatoon_explode(df, drop=True):\n",
    "    \"\"\" \n",
    "    Explodes rows of stat.ink dataframes into one row for each player.\n",
    "    This function is intended to be run after splatoon_drop and\n",
    "    is hardcoded to accept its output features.\n",
    "  \n",
    "    Parameters: \n",
    "    df (DataFrame): Pandas dataframe on which to explode\n",
    "  \n",
    "    Returns: \n",
    "    koalas: Exploded dataframe stored in a koalas database\n",
    "  \n",
    "    \"\"\"\n",
    "    # get feature names\n",
    "    features = df.columns.tolist()\n",
    "    # features for all players\n",
    "    shared = features[:5]\n",
    "    # features for specific player\n",
    "    a1 = features[6:9]\n",
    "    a2 = features[9:12]\n",
    "    a3 = features[12:15]\n",
    "    a4 = features[15:18]\n",
    "    b1 = features[18:21]\n",
    "    b2 = features[21:24]\n",
    "    b3 = features[24:27]\n",
    "    b4 = features[27:]\n",
    "    # group players by team\n",
    "    if drop:\n",
    "        a_team = [a2, a3, a4]\n",
    "    else:\n",
    "        a_team = [a1, a2, a3, a4]\n",
    "    b_team = [b1, b2, b3, b4]\n",
    "\n",
    "    # initialize temporaty storage list\n",
    "    tmp = collections.deque()\n",
    "    # iterate through rows\n",
    "    for index, row in df.iterrows():\n",
    "        # get features common to both teams\n",
    "        both = [index] + row[shared].tolist()\n",
    "        # append features for each a team player\n",
    "        for player in a_team:\n",
    "            tmp.append(both + row[player].tolist() + [row.win == 'alpha'])\n",
    "        # append features for each b team player\n",
    "        for player in b_team:\n",
    "            tmp.append(both + row[player].tolist() + [row.win == 'bravo'])\n",
    "\n",
    "    #create new column names, including the index of the match the data was from\n",
    "    new_cols = ['match'] + shared + ['weapon', 'rank', 'level', 'win']\n",
    "    # return new koalas database\n",
    "    return ks.DataFrame(tmp, columns=new_cols)"
   ]
  },
  {
   "cell_type": "code",
   "execution_count": null,
   "metadata": {},
   "outputs": [],
   "source": [
    "df = splatoon_explode(df)\n",
    "df.info()"
   ]
  },
  {
   "cell_type": "markdown",
   "metadata": {},
   "source": [
    "Save a spark parquet file of the output"
   ]
  },
  {
   "cell_type": "code",
   "execution_count": null,
   "metadata": {},
   "outputs": [],
   "source": [
    "df.to_spark_io('data/explode.parquet', format='parquet')\n",
    "# check file\n",
    "ks.read_spark_io('data/explode.parquet', format='parquet').head(3)"
   ]
  },
  {
   "cell_type": "code",
   "execution_count": null,
   "metadata": {},
   "outputs": [],
   "source": []
  }
 ],
 "metadata": {
  "kernelspec": {
   "display_name": "Python 3",
   "language": "python",
   "name": "python3"
  },
  "language_info": {
   "codemirror_mode": {
    "name": "ipython",
    "version": 3
   },
   "file_extension": ".py",
   "mimetype": "text/x-python",
   "name": "python",
   "nbconvert_exporter": "python",
   "pygments_lexer": "ipython3",
   "version": "3.7.3"
  }
 },
 "nbformat": 4,
 "nbformat_minor": 2
}
