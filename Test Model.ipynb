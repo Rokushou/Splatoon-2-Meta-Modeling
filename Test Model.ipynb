{
 "cells": [
  {
   "cell_type": "code",
   "execution_count": 1,
   "metadata": {},
   "outputs": [
    {
     "name": "stdout",
     "output_type": "stream",
     "text": [
      " _________________________________________ \r\n",
      "/ As the system comes up, the component   \\\r\n",
      "| builders will from time to time appear, |\r\n",
      "| bearing hot new versions of their       |\r\n",
      "| pieces -- faster, smaller, more         |\r\n",
      "| complete, or putatively less buggy. The |\r\n",
      "| replacement of a working component by a |\r\n",
      "| new version requires the same           |\r\n",
      "| systematic testing procedure that       |\r\n",
      "| adding a new component does, although   |\r\n",
      "| it should require less time, for more   |\r\n",
      "| complete and efficient test cases will  |\r\n",
      "| usually be available.                   |\r\n",
      "|                                         |\r\n",
      "| -- Frederick Brooks Jr., \"The Mythical  |\r\n",
      "\\ Man Month\"                              /\r\n",
      " ----------------------------------------- \r\n",
      "      \\                    / \\  //\\\r\n",
      "       \\    |\\___/|      /   \\//  \\\\\r\n",
      "            /0  0  \\__  /    //  | \\ \\    \r\n",
      "           /     /  \\/_/    //   |  \\  \\  \r\n",
      "           @_^_@'/   \\/_   //    |   \\   \\ \r\n",
      "           //_^_/     \\/_ //     |    \\    \\\r\n",
      "        ( //) |        \\///      |     \\     \\\r\n",
      "      ( / /) _|_ /   )  //       |      \\     _\\\r\n",
      "    ( // /) '/,_ _ _/  ( ; -.    |    _ _\\.-~        .-~~~^-.\r\n",
      "  (( / / )) ,-{        _      `-.|.-~-.           .~         `.\r\n",
      " (( // / ))  '/\\      /                 ~-. _ .-~      .-~^-.  \\\r\n",
      " (( /// ))      `.   {            }                   /      \\  \\\r\n",
      "  (( / ))     .----~-.\\        \\-'                 .~         \\  `. \\^-.\r\n",
      "             ///.----..>        \\             _ -~             `.  ^-`  ^-_\r\n",
      "               ///-._ _ _ _ _ _ _}^ - - - - ~                     ~-- ,.-~\r\n",
      "                                                                  /.-~\r\n"
     ]
    }
   ],
   "source": [
    "'''GENERAL'''\n",
    "import os\n",
    "import warnings\n",
    "#warnings.simplefilter('ignore')\n",
    "import random\n",
    "import collections\n",
    "import math\n",
    "import itertools\n",
    "import glob\n",
    "'''DATA'''\n",
    "import numpy as np\n",
    "import pandas as pd\n",
    "'''PLOT'''\n",
    "import matplotlib.pyplot as plt\n",
    "from matplotlib import rcParams\n",
    "rcParams.update({'figure.autolayout': True})\n",
    "plt.style.use('seaborn-pastel')\n",
    "font = {'size':16}\n",
    "import seaborn as sns\n",
    "'''STATS'''\n",
    "import statsmodels.api as sm\n",
    "'''SCIKIT LEARN'''\n",
    "from sklearn.preprocessing import PolynomialFeatures, StandardScaler\n",
    "from sklearn.model_selection import train_test_split, KFold, ShuffleSplit, cross_val_score, GridSearchCV, cross_val_predict\n",
    "from sklearn.metrics import confusion_matrix, accuracy_score, precision_score, recall_score, r2_score, mean_squared_error, classification_report, make_scorer, roc_curve, auc\n",
    "from sklearn.neighbors import KNeighborsClassifier, KNeighborsRegressor\n",
    "from sklearn.linear_model import LinearRegression, LogisticRegression, SGDClassifier\n",
    "from sklearn.ensemble import RandomForestClassifier, RandomForestRegressor, GradientBoostingRegressor, GradientBoostingClassifier, AdaBoostRegressor, AdaBoostClassifier\n",
    "from sklearn.cluster import KMeans\n",
    "'''TENSORFLOW'''\n",
    "from tensorflow import keras\n",
    "from tensorflow.keras.models import Sequential\n",
    "from tensorflow.keras.layers import Dense, Activation, Dropout\n",
    "from tensorflow.keras.preprocessing import text\n",
    "from tensorflow.keras import utils\n",
    "'''PALETTE'''\n",
    "twi = '#DCB8E7' #Pale, light grayish mulberry\n",
    "twi_blu = '#273873' #Dark sapphire blue\n",
    "twi_pur = '#662D8A' #Moderate purple\n",
    "twi_pnk = '#ED438D' #Brilliant raspberry\n",
    "'''RETURN'''\n",
    "!fortune | cowsay -f dragon"
   ]
  },
  {
   "cell_type": "markdown",
   "metadata": {},
   "source": [
    "## Standalone Win Prediction"
   ]
  },
  {
   "cell_type": "code",
   "execution_count": 18,
   "metadata": {},
   "outputs": [],
   "source": [
    "# load pickled data\n",
    "df = pd.read_pickle('data/by_team.pkl')\n",
    "# split into features and label\n",
    "X = df[['kill', 'assist', 'death', 'special', 'inked']]\n",
    "y = df['win']"
   ]
  },
  {
   "cell_type": "code",
   "execution_count": 24,
   "metadata": {},
   "outputs": [
    {
     "name": "stdout",
     "output_type": "stream",
     "text": [
      "Train on 113502 samples\n",
      "Epoch 1/5\n",
      "113502/113502 [==============================] - 2s 21us/sample - loss: 7.2770 - accuracy: 0.5221\n",
      "Epoch 2/5\n",
      "113502/113502 [==============================] - 2s 20us/sample - loss: 0.4933 - accuracy: 0.7708\n",
      "Epoch 3/5\n",
      "113502/113502 [==============================] - 2s 20us/sample - loss: 0.4723 - accuracy: 0.7823\n",
      "Epoch 4/5\n",
      "113502/113502 [==============================] - 2s 20us/sample - loss: 0.4725 - accuracy: 0.7839\n",
      "Epoch 5/5\n",
      "113502/113502 [==============================] - 2s 21us/sample - loss: 0.4670 - accuracy: 0.7866\n"
     ]
    },
    {
     "data": {
      "text/plain": [
       "<tensorflow.python.keras.callbacks.History at 0x1c34712e10>"
      ]
     },
     "execution_count": 24,
     "metadata": {},
     "output_type": "execute_result"
    }
   ],
   "source": [
    "# make a quick model\n",
    "model = Sequential()\n",
    "model.add(Dense(units=5, input_shape=(X.shape[1],)))\n",
    "model.add(Activation('relu'))\n",
    "model.add(Dense(2))\n",
    "model.add(Activation('softmax'))\n",
    "\n",
    "model.compile(loss='sparse_categorical_crossentropy', optimizer='adam', metrics=['accuracy'])\n",
    "\n",
    "model.fit(X, y, epochs=5, batch_size=50)"
   ]
  },
  {
   "cell_type": "code",
   "execution_count": 35,
   "metadata": {},
   "outputs": [],
   "source": [
    "# input user data\n",
    "user = np.array([[5, 7, 1, 4, 915], [3, 1, 3, 3, 734], [9, 0, 1, 2, 663], [1, 1, 1, 1, 353]])"
   ]
  },
  {
   "cell_type": "code",
   "execution_count": 52,
   "metadata": {},
   "outputs": [
    {
     "data": {
      "text/plain": [
       "[9923, 5729, 9998, 5135]"
      ]
     },
     "execution_count": 52,
     "metadata": {},
     "output_type": "execute_result"
    }
   ],
   "source": [
    "# generate score based on user data\n",
    "preds= model.predict_proba(user)\n",
    "(preds[:,1]*10000).astype(int).tolist()"
   ]
  },
  {
   "cell_type": "markdown",
   "metadata": {},
   "source": [
    "## Stanadlone Recommender"
   ]
  },
  {
   "cell_type": "code",
   "execution_count": 3,
   "metadata": {},
   "outputs": [],
   "source": [
    "import pandas as pd\n",
    "import pickle\n",
    "\n",
    "with open('data/model.pkl', 'rb') as f:\n",
    "    model = pickle.load(f)\n",
    "    \n",
    "scorer = pd.read_pickle('data/scorer.pkl')\n",
    "\n",
    "def rec_weapon(weapon, modes='Turf War'):\n",
    "    \n",
    "    # data assignement shenanigans\n",
    "    if type(weapon) == str:\n",
    "        weapon = [weapon]\n",
    "    if modes == 'debug':\n",
    "        modes = ['Turf War', 'Splat Zones', 'Tower Control', 'Rainmaker', 'Clam Blitz']\n",
    "    elif type(modes) == str:\n",
    "        modes = [modes]\n",
    "    \n",
    "    # loop through every mode\n",
    "    for mode in modes:\n",
    "        # get predictions\n",
    "        recs = model.get_user_recommendation(weapon, 10)\n",
    "        # take predictions from scored list and sort by winrate\n",
    "        recs = scorer[scorer.key.isin(recs)].sort_values(mode + '_winrate', ascending=False)\n",
    "        # get the name of the highest winrate weapon\n",
    "        best = recs.name.iloc[0]\n",
    "\n",
    "        # calculate % winrate increase\n",
    "        current = scorer[scorer.key.isin(weapon)].sort_values(mode + '_winrate', ascending=False).iloc[0]\n",
    "        new = float(recs[mode + '_winrate'].iloc[0])\n",
    "        percent = (new - float(current[mode + '_winrate'])) * 100\n",
    "\n",
    "        # only make a recommendation if it is an improvement\n",
    "        if percent <= 0:\n",
    "            print ('The {} is already a great choice for {}!'.format(current['name'], mode))\n",
    "        else:\n",
    "            print('Try the {} for a {:.2f}% win rate increase in {}!'.format(best, percent, mode))"
   ]
  },
  {
   "cell_type": "code",
   "execution_count": 4,
   "metadata": {},
   "outputs": [
    {
     "name": "stdout",
     "output_type": "stream",
     "text": [
      "The Custom Dualie Squelchers is already a great choice for Turf War!\n",
      "Try the Dark Tetra Dualies for a 1.77% win rate increase in Splat Zones!\n",
      "Try the Clear Dapple Dualies for a 2.37% win rate increase in Tower Control!\n",
      "Try the Enperry Splat Dualies for a 1.32% win rate increase in Rainmaker!\n",
      "Try the Enperry Splat Dualies for a 0.46% win rate increase in Clam Blitz!\n"
     ]
    }
   ],
   "source": [
    "rec_weapon(['dualsweeper_custom', 'dualsweeper'], 'debug')"
   ]
  },
  {
   "cell_type": "code",
   "execution_count": null,
   "metadata": {},
   "outputs": [],
   "source": []
  }
 ],
 "metadata": {
  "kernelspec": {
   "display_name": "Python 3",
   "language": "python",
   "name": "python3"
  },
  "language_info": {
   "codemirror_mode": {
    "name": "ipython",
    "version": 3
   },
   "file_extension": ".py",
   "mimetype": "text/x-python",
   "name": "python",
   "nbconvert_exporter": "python",
   "pygments_lexer": "ipython3",
   "version": "3.7.3"
  }
 },
 "nbformat": 4,
 "nbformat_minor": 2
}
